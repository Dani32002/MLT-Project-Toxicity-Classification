{
 "cells": [
  {
   "cell_type": "markdown",
   "metadata": {
    "id": "qGQH-ELe7b-J"
   },
   "source": [
    "# **Machine Learning Techniques Project**\n",
    "\n",
    "\n",
    "*   Nicolas Bedoya Figueroa\n",
    "*   Daniel Escalante Perez\n",
    "*   Marilyn Stephany Joven Fonseca\n",
    "*   Eder Leandro Carbonero Baquero"
   ]
  },
  {
   "cell_type": "markdown",
   "metadata": {
    "id": "6o8TFLYF8aQ1"
   },
   "source": [
    "## **Utils**"
   ]
  },
  {
   "cell_type": "code",
   "execution_count": 1,
   "metadata": {
    "colab": {
     "base_uri": "https://localhost:8080/"
    },
    "id": "Pki8KEw1Pujd",
    "outputId": "623088e3-eaac-48a4-ee4d-ce777a57c69f",
    "scrolled": true
   },
   "outputs": [
    {
     "name": "stdout",
     "output_type": "stream",
     "text": [
      "Requirement already satisfied: nltk in /home/sis.virtual.uniandes.edu.co/d.escalante/venv/lib/python3.10/site-packages (3.9.1)\n",
      "Requirement already satisfied: pyspellchecker in /home/sis.virtual.uniandes.edu.co/d.escalante/venv/lib/python3.10/site-packages (0.8.2)\n",
      "Requirement already satisfied: tqdm in /home/sis.virtual.uniandes.edu.co/d.escalante/venv/lib/python3.10/site-packages (4.67.1)\n",
      "Requirement already satisfied: emoji in /home/sis.virtual.uniandes.edu.co/d.escalante/venv/lib/python3.10/site-packages (2.14.1)\n",
      "Requirement already satisfied: nlpaug in /home/sis.virtual.uniandes.edu.co/d.escalante/venv/lib/python3.10/site-packages (1.1.11)\n",
      "Requirement already satisfied: transformers in /home/sis.virtual.uniandes.edu.co/d.escalante/venv/lib/python3.10/site-packages (4.51.3)\n",
      "Requirement already satisfied: tensorflow in /home/sis.virtual.uniandes.edu.co/d.escalante/venv/lib/python3.10/site-packages (2.19.0)\n",
      "Requirement already satisfied: xgboost[gpu] in /home/sis.virtual.uniandes.edu.co/d.escalante/venv/lib/python3.10/site-packages (3.0.0)\n",
      "Requirement already satisfied: accelerate in /home/sis.virtual.uniandes.edu.co/d.escalante/venv/lib/python3.10/site-packages (1.6.0)\n",
      "Requirement already satisfied: click in /home/sis.virtual.uniandes.edu.co/d.escalante/venv/lib/python3.10/site-packages (from nltk) (8.1.8)\n",
      "Requirement already satisfied: joblib in /home/sis.virtual.uniandes.edu.co/d.escalante/venv/lib/python3.10/site-packages (from nltk) (1.4.2)\n",
      "Requirement already satisfied: regex>=2021.8.3 in /home/sis.virtual.uniandes.edu.co/d.escalante/venv/lib/python3.10/site-packages (from nltk) (2024.11.6)\n",
      "Requirement already satisfied: gdown>=4.0.0 in /home/sis.virtual.uniandes.edu.co/d.escalante/venv/lib/python3.10/site-packages (from nlpaug) (5.2.0)\n",
      "Requirement already satisfied: numpy>=1.16.2 in /home/sis.virtual.uniandes.edu.co/d.escalante/venv/lib/python3.10/site-packages (from nlpaug) (2.1.3)\n",
      "Requirement already satisfied: requests>=2.22.0 in /home/sis.virtual.uniandes.edu.co/d.escalante/venv/lib/python3.10/site-packages (from nlpaug) (2.32.3)\n",
      "Requirement already satisfied: pandas>=1.2.0 in /home/sis.virtual.uniandes.edu.co/d.escalante/venv/lib/python3.10/site-packages (from nlpaug) (2.2.3)\n",
      "Requirement already satisfied: filelock in /home/sis.virtual.uniandes.edu.co/d.escalante/venv/lib/python3.10/site-packages (from transformers) (3.18.0)\n",
      "Requirement already satisfied: huggingface-hub<1.0,>=0.30.0 in /home/sis.virtual.uniandes.edu.co/d.escalante/venv/lib/python3.10/site-packages (from transformers) (0.30.1)\n",
      "Requirement already satisfied: tokenizers<0.22,>=0.21 in /home/sis.virtual.uniandes.edu.co/d.escalante/venv/lib/python3.10/site-packages (from transformers) (0.21.1)\n",
      "Requirement already satisfied: pyyaml>=5.1 in /home/sis.virtual.uniandes.edu.co/d.escalante/venv/lib/python3.10/site-packages (from transformers) (6.0.2)\n",
      "Requirement already satisfied: safetensors>=0.4.3 in /home/sis.virtual.uniandes.edu.co/d.escalante/venv/lib/python3.10/site-packages (from transformers) (0.5.3)\n",
      "Requirement already satisfied: packaging>=20.0 in /home/sis.virtual.uniandes.edu.co/d.escalante/venv/lib/python3.10/site-packages (from transformers) (24.2)\n",
      "Requirement already satisfied: keras>=3.5.0 in /home/sis.virtual.uniandes.edu.co/d.escalante/venv/lib/python3.10/site-packages (from tensorflow) (3.9.2)\n",
      "Requirement already satisfied: google-pasta>=0.1.1 in /home/sis.virtual.uniandes.edu.co/d.escalante/venv/lib/python3.10/site-packages (from tensorflow) (0.2.0)\n",
      "Requirement already satisfied: typing-extensions>=3.6.6 in /home/sis.virtual.uniandes.edu.co/d.escalante/venv/lib/python3.10/site-packages (from tensorflow) (4.13.1)\n",
      "Requirement already satisfied: protobuf!=4.21.0,!=4.21.1,!=4.21.2,!=4.21.3,!=4.21.4,!=4.21.5,<6.0.0dev,>=3.20.3 in /home/sis.virtual.uniandes.edu.co/d.escalante/venv/lib/python3.10/site-packages (from tensorflow) (5.29.4)\n",
      "Requirement already satisfied: six>=1.12.0 in /home/sis.virtual.uniandes.edu.co/d.escalante/venv/lib/python3.10/site-packages (from tensorflow) (1.17.0)\n",
      "Requirement already satisfied: termcolor>=1.1.0 in /home/sis.virtual.uniandes.edu.co/d.escalante/venv/lib/python3.10/site-packages (from tensorflow) (3.0.1)\n",
      "Requirement already satisfied: gast!=0.5.0,!=0.5.1,!=0.5.2,>=0.2.1 in /home/sis.virtual.uniandes.edu.co/d.escalante/venv/lib/python3.10/site-packages (from tensorflow) (0.6.0)\n",
      "Requirement already satisfied: libclang>=13.0.0 in /home/sis.virtual.uniandes.edu.co/d.escalante/venv/lib/python3.10/site-packages (from tensorflow) (18.1.1)\n",
      "Requirement already satisfied: astunparse>=1.6.0 in /home/sis.virtual.uniandes.edu.co/d.escalante/venv/lib/python3.10/site-packages (from tensorflow) (1.6.3)\n",
      "Requirement already satisfied: flatbuffers>=24.3.25 in /home/sis.virtual.uniandes.edu.co/d.escalante/venv/lib/python3.10/site-packages (from tensorflow) (25.2.10)\n",
      "Requirement already satisfied: h5py>=3.11.0 in /home/sis.virtual.uniandes.edu.co/d.escalante/venv/lib/python3.10/site-packages (from tensorflow) (3.13.0)\n",
      "Requirement already satisfied: wrapt>=1.11.0 in /home/sis.virtual.uniandes.edu.co/d.escalante/venv/lib/python3.10/site-packages (from tensorflow) (1.17.2)\n",
      "Requirement already satisfied: tensorflow-io-gcs-filesystem>=0.23.1 in /home/sis.virtual.uniandes.edu.co/d.escalante/venv/lib/python3.10/site-packages (from tensorflow) (0.37.1)\n",
      "Requirement already satisfied: ml-dtypes<1.0.0,>=0.5.1 in /home/sis.virtual.uniandes.edu.co/d.escalante/venv/lib/python3.10/site-packages (from tensorflow) (0.5.1)\n",
      "Requirement already satisfied: tensorboard~=2.19.0 in /home/sis.virtual.uniandes.edu.co/d.escalante/venv/lib/python3.10/site-packages (from tensorflow) (2.19.0)\n",
      "Requirement already satisfied: setuptools in /home/sis.virtual.uniandes.edu.co/d.escalante/venv/lib/python3.10/site-packages (from tensorflow) (59.6.0)\n",
      "Requirement already satisfied: grpcio<2.0,>=1.24.3 in /home/sis.virtual.uniandes.edu.co/d.escalante/venv/lib/python3.10/site-packages (from tensorflow) (1.71.0)\n",
      "Requirement already satisfied: opt-einsum>=2.3.2 in /home/sis.virtual.uniandes.edu.co/d.escalante/venv/lib/python3.10/site-packages (from tensorflow) (3.4.0)\n",
      "Requirement already satisfied: absl-py>=1.0.0 in /home/sis.virtual.uniandes.edu.co/d.escalante/venv/lib/python3.10/site-packages (from tensorflow) (2.2.2)\n",
      "\u001b[33mWARNING: xgboost 3.0.0 does not provide the extra 'gpu'\u001b[0m\u001b[33m\n",
      "\u001b[0mRequirement already satisfied: scipy in /home/sis.virtual.uniandes.edu.co/d.escalante/venv/lib/python3.10/site-packages (from xgboost[gpu]) (1.15.2)\n",
      "Requirement already satisfied: nvidia-nccl-cu12 in /home/sis.virtual.uniandes.edu.co/d.escalante/venv/lib/python3.10/site-packages (from xgboost[gpu]) (2.21.5)\n",
      "Requirement already satisfied: psutil in /home/sis.virtual.uniandes.edu.co/d.escalante/venv/lib/python3.10/site-packages (from accelerate) (7.0.0)\n",
      "Requirement already satisfied: torch>=2.0.0 in /home/sis.virtual.uniandes.edu.co/d.escalante/venv/lib/python3.10/site-packages (from accelerate) (2.6.0)\n",
      "Requirement already satisfied: wheel<1.0,>=0.23.0 in /home/sis.virtual.uniandes.edu.co/d.escalante/venv/lib/python3.10/site-packages (from astunparse>=1.6.0->tensorflow) (0.45.1)\n",
      "Requirement already satisfied: beautifulsoup4 in /home/sis.virtual.uniandes.edu.co/d.escalante/venv/lib/python3.10/site-packages (from gdown>=4.0.0->nlpaug) (4.13.3)\n",
      "Requirement already satisfied: fsspec>=2023.5.0 in /home/sis.virtual.uniandes.edu.co/d.escalante/venv/lib/python3.10/site-packages (from huggingface-hub<1.0,>=0.30.0->transformers) (2025.3.2)\n",
      "Requirement already satisfied: optree in /home/sis.virtual.uniandes.edu.co/d.escalante/venv/lib/python3.10/site-packages (from keras>=3.5.0->tensorflow) (0.15.0)\n",
      "Requirement already satisfied: rich in /home/sis.virtual.uniandes.edu.co/d.escalante/venv/lib/python3.10/site-packages (from keras>=3.5.0->tensorflow) (14.0.0)\n",
      "Requirement already satisfied: namex in /home/sis.virtual.uniandes.edu.co/d.escalante/venv/lib/python3.10/site-packages (from keras>=3.5.0->tensorflow) (0.0.8)\n",
      "Requirement already satisfied: pytz>=2020.1 in /home/sis.virtual.uniandes.edu.co/d.escalante/venv/lib/python3.10/site-packages (from pandas>=1.2.0->nlpaug) (2025.2)\n",
      "Requirement already satisfied: python-dateutil>=2.8.2 in /home/sis.virtual.uniandes.edu.co/d.escalante/venv/lib/python3.10/site-packages (from pandas>=1.2.0->nlpaug) (2.9.0.post0)\n",
      "Requirement already satisfied: tzdata>=2022.7 in /home/sis.virtual.uniandes.edu.co/d.escalante/venv/lib/python3.10/site-packages (from pandas>=1.2.0->nlpaug) (2025.2)\n",
      "Requirement already satisfied: idna<4,>=2.5 in /home/sis.virtual.uniandes.edu.co/d.escalante/venv/lib/python3.10/site-packages (from requests>=2.22.0->nlpaug) (3.10)\n",
      "Requirement already satisfied: certifi>=2017.4.17 in /home/sis.virtual.uniandes.edu.co/d.escalante/venv/lib/python3.10/site-packages (from requests>=2.22.0->nlpaug) (2025.1.31)\n",
      "Requirement already satisfied: urllib3<3,>=1.21.1 in /home/sis.virtual.uniandes.edu.co/d.escalante/venv/lib/python3.10/site-packages (from requests>=2.22.0->nlpaug) (2.3.0)\n",
      "Requirement already satisfied: charset-normalizer<4,>=2 in /home/sis.virtual.uniandes.edu.co/d.escalante/venv/lib/python3.10/site-packages (from requests>=2.22.0->nlpaug) (3.4.1)\n",
      "Requirement already satisfied: werkzeug>=1.0.1 in /home/sis.virtual.uniandes.edu.co/d.escalante/venv/lib/python3.10/site-packages (from tensorboard~=2.19.0->tensorflow) (3.1.3)\n",
      "Requirement already satisfied: markdown>=2.6.8 in /home/sis.virtual.uniandes.edu.co/d.escalante/venv/lib/python3.10/site-packages (from tensorboard~=2.19.0->tensorflow) (3.8)\n",
      "Requirement already satisfied: tensorboard-data-server<0.8.0,>=0.7.0 in /home/sis.virtual.uniandes.edu.co/d.escalante/venv/lib/python3.10/site-packages (from tensorboard~=2.19.0->tensorflow) (0.7.2)\n",
      "Requirement already satisfied: networkx in /home/sis.virtual.uniandes.edu.co/d.escalante/venv/lib/python3.10/site-packages (from torch>=2.0.0->accelerate) (3.4.2)\n",
      "Requirement already satisfied: nvidia-cudnn-cu12==9.1.0.70 in /home/sis.virtual.uniandes.edu.co/d.escalante/venv/lib/python3.10/site-packages (from torch>=2.0.0->accelerate) (9.1.0.70)\n",
      "Requirement already satisfied: nvidia-cusparselt-cu12==0.6.2 in /home/sis.virtual.uniandes.edu.co/d.escalante/venv/lib/python3.10/site-packages (from torch>=2.0.0->accelerate) (0.6.2)\n",
      "Requirement already satisfied: nvidia-cusparse-cu12==12.3.1.170 in /home/sis.virtual.uniandes.edu.co/d.escalante/venv/lib/python3.10/site-packages (from torch>=2.0.0->accelerate) (12.3.1.170)\n",
      "Requirement already satisfied: nvidia-nvjitlink-cu12==12.4.127 in /home/sis.virtual.uniandes.edu.co/d.escalante/venv/lib/python3.10/site-packages (from torch>=2.0.0->accelerate) (12.4.127)\n",
      "Requirement already satisfied: nvidia-cusolver-cu12==11.6.1.9 in /home/sis.virtual.uniandes.edu.co/d.escalante/venv/lib/python3.10/site-packages (from torch>=2.0.0->accelerate) (11.6.1.9)\n",
      "Requirement already satisfied: triton==3.2.0 in /home/sis.virtual.uniandes.edu.co/d.escalante/venv/lib/python3.10/site-packages (from torch>=2.0.0->accelerate) (3.2.0)\n",
      "Requirement already satisfied: sympy==1.13.1 in /home/sis.virtual.uniandes.edu.co/d.escalante/venv/lib/python3.10/site-packages (from torch>=2.0.0->accelerate) (1.13.1)\n",
      "Requirement already satisfied: nvidia-cuda-runtime-cu12==12.4.127 in /home/sis.virtual.uniandes.edu.co/d.escalante/venv/lib/python3.10/site-packages (from torch>=2.0.0->accelerate) (12.4.127)\n",
      "Requirement already satisfied: nvidia-cufft-cu12==11.2.1.3 in /home/sis.virtual.uniandes.edu.co/d.escalante/venv/lib/python3.10/site-packages (from torch>=2.0.0->accelerate) (11.2.1.3)\n",
      "Requirement already satisfied: nvidia-cublas-cu12==12.4.5.8 in /home/sis.virtual.uniandes.edu.co/d.escalante/venv/lib/python3.10/site-packages (from torch>=2.0.0->accelerate) (12.4.5.8)\n",
      "Requirement already satisfied: nvidia-cuda-cupti-cu12==12.4.127 in /home/sis.virtual.uniandes.edu.co/d.escalante/venv/lib/python3.10/site-packages (from torch>=2.0.0->accelerate) (12.4.127)\n",
      "Requirement already satisfied: nvidia-curand-cu12==10.3.5.147 in /home/sis.virtual.uniandes.edu.co/d.escalante/venv/lib/python3.10/site-packages (from torch>=2.0.0->accelerate) (10.3.5.147)\n",
      "Requirement already satisfied: jinja2 in /home/sis.virtual.uniandes.edu.co/d.escalante/venv/lib/python3.10/site-packages (from torch>=2.0.0->accelerate) (3.1.6)\n",
      "Requirement already satisfied: nvidia-nvtx-cu12==12.4.127 in /home/sis.virtual.uniandes.edu.co/d.escalante/venv/lib/python3.10/site-packages (from torch>=2.0.0->accelerate) (12.4.127)\n",
      "Requirement already satisfied: nvidia-cuda-nvrtc-cu12==12.4.127 in /home/sis.virtual.uniandes.edu.co/d.escalante/venv/lib/python3.10/site-packages (from torch>=2.0.0->accelerate) (12.4.127)\n",
      "Requirement already satisfied: mpmath<1.4,>=1.1.0 in /home/sis.virtual.uniandes.edu.co/d.escalante/venv/lib/python3.10/site-packages (from sympy==1.13.1->torch>=2.0.0->accelerate) (1.3.0)\n",
      "Requirement already satisfied: MarkupSafe>=2.1.1 in /home/sis.virtual.uniandes.edu.co/d.escalante/venv/lib/python3.10/site-packages (from werkzeug>=1.0.1->tensorboard~=2.19.0->tensorflow) (3.0.2)\n",
      "Requirement already satisfied: soupsieve>1.2 in /home/sis.virtual.uniandes.edu.co/d.escalante/venv/lib/python3.10/site-packages (from beautifulsoup4->gdown>=4.0.0->nlpaug) (2.6)\n",
      "Requirement already satisfied: PySocks!=1.5.7,>=1.5.6 in /home/sis.virtual.uniandes.edu.co/d.escalante/venv/lib/python3.10/site-packages (from requests>=2.22.0->nlpaug) (1.7.1)\n",
      "Requirement already satisfied: markdown-it-py>=2.2.0 in /home/sis.virtual.uniandes.edu.co/d.escalante/venv/lib/python3.10/site-packages (from rich->keras>=3.5.0->tensorflow) (3.0.0)\n",
      "Requirement already satisfied: pygments<3.0.0,>=2.13.0 in /home/sis.virtual.uniandes.edu.co/d.escalante/venv/lib/python3.10/site-packages (from rich->keras>=3.5.0->tensorflow) (2.19.1)\n",
      "Requirement already satisfied: mdurl~=0.1 in /home/sis.virtual.uniandes.edu.co/d.escalante/venv/lib/python3.10/site-packages (from markdown-it-py>=2.2.0->rich->keras>=3.5.0->tensorflow) (0.1.2)\n"
     ]
    }
   ],
   "source": [
    "!pip install nltk pyspellchecker tqdm emoji nlpaug transformers tensorflow xgboost[gpu] accelerate"
   ]
  },
  {
   "cell_type": "code",
   "execution_count": 2,
   "metadata": {
    "scrolled": true
   },
   "outputs": [
    {
     "name": "stdout",
     "output_type": "stream",
     "text": [
      "Requirement already satisfied: seaborn in /home/sis.virtual.uniandes.edu.co/d.escalante/venv/lib/python3.10/site-packages (0.13.2)\n",
      "Requirement already satisfied: transformers in /home/sis.virtual.uniandes.edu.co/d.escalante/venv/lib/python3.10/site-packages (4.51.3)\n",
      "Requirement already satisfied: torch in /home/sis.virtual.uniandes.edu.co/d.escalante/venv/lib/python3.10/site-packages (2.6.0)\n",
      "Requirement already satisfied: tqdm in /home/sis.virtual.uniandes.edu.co/d.escalante/venv/lib/python3.10/site-packages (4.67.1)\n",
      "Requirement already satisfied: numpy!=1.24.0,>=1.20 in /home/sis.virtual.uniandes.edu.co/d.escalante/venv/lib/python3.10/site-packages (from seaborn) (2.1.3)\n",
      "Requirement already satisfied: pandas>=1.2 in /home/sis.virtual.uniandes.edu.co/d.escalante/venv/lib/python3.10/site-packages (from seaborn) (2.2.3)\n",
      "Requirement already satisfied: matplotlib!=3.6.1,>=3.4 in /home/sis.virtual.uniandes.edu.co/d.escalante/venv/lib/python3.10/site-packages (from seaborn) (3.10.1)\n",
      "Requirement already satisfied: requests in /home/sis.virtual.uniandes.edu.co/d.escalante/venv/lib/python3.10/site-packages (from transformers) (2.32.3)\n",
      "Requirement already satisfied: packaging>=20.0 in /home/sis.virtual.uniandes.edu.co/d.escalante/venv/lib/python3.10/site-packages (from transformers) (24.2)\n",
      "Requirement already satisfied: filelock in /home/sis.virtual.uniandes.edu.co/d.escalante/venv/lib/python3.10/site-packages (from transformers) (3.18.0)\n",
      "Requirement already satisfied: huggingface-hub<1.0,>=0.30.0 in /home/sis.virtual.uniandes.edu.co/d.escalante/venv/lib/python3.10/site-packages (from transformers) (0.30.1)\n",
      "Requirement already satisfied: regex!=2019.12.17 in /home/sis.virtual.uniandes.edu.co/d.escalante/venv/lib/python3.10/site-packages (from transformers) (2024.11.6)\n",
      "Requirement already satisfied: tokenizers<0.22,>=0.21 in /home/sis.virtual.uniandes.edu.co/d.escalante/venv/lib/python3.10/site-packages (from transformers) (0.21.1)\n",
      "Requirement already satisfied: safetensors>=0.4.3 in /home/sis.virtual.uniandes.edu.co/d.escalante/venv/lib/python3.10/site-packages (from transformers) (0.5.3)\n",
      "Requirement already satisfied: pyyaml>=5.1 in /home/sis.virtual.uniandes.edu.co/d.escalante/venv/lib/python3.10/site-packages (from transformers) (6.0.2)\n",
      "Requirement already satisfied: nvidia-cuda-nvrtc-cu12==12.4.127 in /home/sis.virtual.uniandes.edu.co/d.escalante/venv/lib/python3.10/site-packages (from torch) (12.4.127)\n",
      "Requirement already satisfied: nvidia-cuda-cupti-cu12==12.4.127 in /home/sis.virtual.uniandes.edu.co/d.escalante/venv/lib/python3.10/site-packages (from torch) (12.4.127)\n",
      "Requirement already satisfied: nvidia-nvtx-cu12==12.4.127 in /home/sis.virtual.uniandes.edu.co/d.escalante/venv/lib/python3.10/site-packages (from torch) (12.4.127)\n",
      "Requirement already satisfied: nvidia-cudnn-cu12==9.1.0.70 in /home/sis.virtual.uniandes.edu.co/d.escalante/venv/lib/python3.10/site-packages (from torch) (9.1.0.70)\n",
      "Requirement already satisfied: nvidia-cusparselt-cu12==0.6.2 in /home/sis.virtual.uniandes.edu.co/d.escalante/venv/lib/python3.10/site-packages (from torch) (0.6.2)\n",
      "Requirement already satisfied: nvidia-cusolver-cu12==11.6.1.9 in /home/sis.virtual.uniandes.edu.co/d.escalante/venv/lib/python3.10/site-packages (from torch) (11.6.1.9)\n",
      "Requirement already satisfied: typing-extensions>=4.10.0 in /home/sis.virtual.uniandes.edu.co/d.escalante/venv/lib/python3.10/site-packages (from torch) (4.13.1)\n",
      "Requirement already satisfied: nvidia-nvjitlink-cu12==12.4.127 in /home/sis.virtual.uniandes.edu.co/d.escalante/venv/lib/python3.10/site-packages (from torch) (12.4.127)\n",
      "Requirement already satisfied: nvidia-cuda-runtime-cu12==12.4.127 in /home/sis.virtual.uniandes.edu.co/d.escalante/venv/lib/python3.10/site-packages (from torch) (12.4.127)\n",
      "Requirement already satisfied: nvidia-cufft-cu12==11.2.1.3 in /home/sis.virtual.uniandes.edu.co/d.escalante/venv/lib/python3.10/site-packages (from torch) (11.2.1.3)\n",
      "Requirement already satisfied: networkx in /home/sis.virtual.uniandes.edu.co/d.escalante/venv/lib/python3.10/site-packages (from torch) (3.4.2)\n",
      "Requirement already satisfied: nvidia-curand-cu12==10.3.5.147 in /home/sis.virtual.uniandes.edu.co/d.escalante/venv/lib/python3.10/site-packages (from torch) (10.3.5.147)\n",
      "Requirement already satisfied: nvidia-cusparse-cu12==12.3.1.170 in /home/sis.virtual.uniandes.edu.co/d.escalante/venv/lib/python3.10/site-packages (from torch) (12.3.1.170)\n",
      "Requirement already satisfied: fsspec in /home/sis.virtual.uniandes.edu.co/d.escalante/venv/lib/python3.10/site-packages (from torch) (2025.3.2)\n",
      "Requirement already satisfied: sympy==1.13.1 in /home/sis.virtual.uniandes.edu.co/d.escalante/venv/lib/python3.10/site-packages (from torch) (1.13.1)\n",
      "Requirement already satisfied: nvidia-nccl-cu12==2.21.5 in /home/sis.virtual.uniandes.edu.co/d.escalante/venv/lib/python3.10/site-packages (from torch) (2.21.5)\n",
      "Requirement already satisfied: triton==3.2.0 in /home/sis.virtual.uniandes.edu.co/d.escalante/venv/lib/python3.10/site-packages (from torch) (3.2.0)\n",
      "Requirement already satisfied: jinja2 in /home/sis.virtual.uniandes.edu.co/d.escalante/venv/lib/python3.10/site-packages (from torch) (3.1.6)\n",
      "Requirement already satisfied: nvidia-cublas-cu12==12.4.5.8 in /home/sis.virtual.uniandes.edu.co/d.escalante/venv/lib/python3.10/site-packages (from torch) (12.4.5.8)\n",
      "Requirement already satisfied: mpmath<1.4,>=1.1.0 in /home/sis.virtual.uniandes.edu.co/d.escalante/venv/lib/python3.10/site-packages (from sympy==1.13.1->torch) (1.3.0)\n",
      "Requirement already satisfied: cycler>=0.10 in /home/sis.virtual.uniandes.edu.co/d.escalante/venv/lib/python3.10/site-packages (from matplotlib!=3.6.1,>=3.4->seaborn) (0.12.1)\n",
      "Requirement already satisfied: python-dateutil>=2.7 in /home/sis.virtual.uniandes.edu.co/d.escalante/venv/lib/python3.10/site-packages (from matplotlib!=3.6.1,>=3.4->seaborn) (2.9.0.post0)\n",
      "Requirement already satisfied: contourpy>=1.0.1 in /home/sis.virtual.uniandes.edu.co/d.escalante/venv/lib/python3.10/site-packages (from matplotlib!=3.6.1,>=3.4->seaborn) (1.3.1)\n",
      "Requirement already satisfied: fonttools>=4.22.0 in /home/sis.virtual.uniandes.edu.co/d.escalante/venv/lib/python3.10/site-packages (from matplotlib!=3.6.1,>=3.4->seaborn) (4.57.0)\n",
      "Requirement already satisfied: pillow>=8 in /home/sis.virtual.uniandes.edu.co/d.escalante/venv/lib/python3.10/site-packages (from matplotlib!=3.6.1,>=3.4->seaborn) (11.1.0)\n",
      "Requirement already satisfied: pyparsing>=2.3.1 in /home/sis.virtual.uniandes.edu.co/d.escalante/venv/lib/python3.10/site-packages (from matplotlib!=3.6.1,>=3.4->seaborn) (3.2.3)\n",
      "Requirement already satisfied: kiwisolver>=1.3.1 in /home/sis.virtual.uniandes.edu.co/d.escalante/venv/lib/python3.10/site-packages (from matplotlib!=3.6.1,>=3.4->seaborn) (1.4.8)\n",
      "Requirement already satisfied: tzdata>=2022.7 in /home/sis.virtual.uniandes.edu.co/d.escalante/venv/lib/python3.10/site-packages (from pandas>=1.2->seaborn) (2025.2)\n",
      "Requirement already satisfied: pytz>=2020.1 in /home/sis.virtual.uniandes.edu.co/d.escalante/venv/lib/python3.10/site-packages (from pandas>=1.2->seaborn) (2025.2)\n",
      "Requirement already satisfied: MarkupSafe>=2.0 in /home/sis.virtual.uniandes.edu.co/d.escalante/venv/lib/python3.10/site-packages (from jinja2->torch) (3.0.2)\n",
      "Requirement already satisfied: charset-normalizer<4,>=2 in /home/sis.virtual.uniandes.edu.co/d.escalante/venv/lib/python3.10/site-packages (from requests->transformers) (3.4.1)\n",
      "Requirement already satisfied: idna<4,>=2.5 in /home/sis.virtual.uniandes.edu.co/d.escalante/venv/lib/python3.10/site-packages (from requests->transformers) (3.10)\n",
      "Requirement already satisfied: urllib3<3,>=1.21.1 in /home/sis.virtual.uniandes.edu.co/d.escalante/venv/lib/python3.10/site-packages (from requests->transformers) (2.3.0)\n",
      "Requirement already satisfied: certifi>=2017.4.17 in /home/sis.virtual.uniandes.edu.co/d.escalante/venv/lib/python3.10/site-packages (from requests->transformers) (2025.1.31)\n",
      "Requirement already satisfied: six>=1.5 in /home/sis.virtual.uniandes.edu.co/d.escalante/venv/lib/python3.10/site-packages (from python-dateutil>=2.7->matplotlib!=3.6.1,>=3.4->seaborn) (1.17.0)\n"
     ]
    }
   ],
   "source": [
    "!pip install seaborn transformers torch tqdm "
   ]
  },
  {
   "cell_type": "code",
   "execution_count": 3,
   "metadata": {},
   "outputs": [
    {
     "name": "stdout",
     "output_type": "stream",
     "text": [
      "Requirement already satisfied: umap-learn in /home/sis.virtual.uniandes.edu.co/d.escalante/venv/lib/python3.10/site-packages (0.5.7)\n",
      "Requirement already satisfied: plotly in /home/sis.virtual.uniandes.edu.co/d.escalante/venv/lib/python3.10/site-packages (6.0.1)\n",
      "Requirement already satisfied: pynndescent>=0.5 in /home/sis.virtual.uniandes.edu.co/d.escalante/venv/lib/python3.10/site-packages (from umap-learn) (0.5.13)\n",
      "Requirement already satisfied: scikit-learn>=0.22 in /home/sis.virtual.uniandes.edu.co/d.escalante/venv/lib/python3.10/site-packages (from umap-learn) (1.6.1)\n",
      "Requirement already satisfied: numpy>=1.17 in /home/sis.virtual.uniandes.edu.co/d.escalante/venv/lib/python3.10/site-packages (from umap-learn) (2.1.3)\n",
      "Requirement already satisfied: tqdm in /home/sis.virtual.uniandes.edu.co/d.escalante/venv/lib/python3.10/site-packages (from umap-learn) (4.67.1)\n",
      "Requirement already satisfied: numba>=0.51.2 in /home/sis.virtual.uniandes.edu.co/d.escalante/venv/lib/python3.10/site-packages (from umap-learn) (0.61.2)\n",
      "Requirement already satisfied: scipy>=1.3.1 in /home/sis.virtual.uniandes.edu.co/d.escalante/venv/lib/python3.10/site-packages (from umap-learn) (1.15.2)\n",
      "Requirement already satisfied: packaging in /home/sis.virtual.uniandes.edu.co/d.escalante/venv/lib/python3.10/site-packages (from plotly) (24.2)\n",
      "Requirement already satisfied: narwhals>=1.15.1 in /home/sis.virtual.uniandes.edu.co/d.escalante/venv/lib/python3.10/site-packages (from plotly) (1.35.0)\n",
      "Requirement already satisfied: llvmlite<0.45,>=0.44.0dev0 in /home/sis.virtual.uniandes.edu.co/d.escalante/venv/lib/python3.10/site-packages (from numba>=0.51.2->umap-learn) (0.44.0)\n",
      "Requirement already satisfied: joblib>=0.11 in /home/sis.virtual.uniandes.edu.co/d.escalante/venv/lib/python3.10/site-packages (from pynndescent>=0.5->umap-learn) (1.4.2)\n",
      "Requirement already satisfied: threadpoolctl>=3.1.0 in /home/sis.virtual.uniandes.edu.co/d.escalante/venv/lib/python3.10/site-packages (from scikit-learn>=0.22->umap-learn) (3.6.0)\n"
     ]
    }
   ],
   "source": [
    "!pip install umap-learn plotly"
   ]
  },
  {
   "cell_type": "code",
   "execution_count": 4,
   "metadata": {
    "colab": {
     "base_uri": "https://localhost:8080/"
    },
    "id": "quNgOgNV8dYw",
    "outputId": "9a88919d-ff7d-4601-e95a-759126386fc3",
    "scrolled": true
   },
   "outputs": [
    {
     "name": "stderr",
     "output_type": "stream",
     "text": [
      "2025-05-11 21:14:47.083144: I tensorflow/core/util/port.cc:153] oneDNN custom operations are on. You may see slightly different numerical results due to floating-point round-off errors from different computation orders. To turn them off, set the environment variable `TF_ENABLE_ONEDNN_OPTS=0`.\n",
      "2025-05-11 21:14:47.090443: E external/local_xla/xla/stream_executor/cuda/cuda_fft.cc:467] Unable to register cuFFT factory: Attempting to register factory for plugin cuFFT when one has already been registered\n",
      "WARNING: All log messages before absl::InitializeLog() is called are written to STDERR\n",
      "E0000 00:00:1747016087.098687   16940 cuda_dnn.cc:8579] Unable to register cuDNN factory: Attempting to register factory for plugin cuDNN when one has already been registered\n",
      "E0000 00:00:1747016087.101226   16940 cuda_blas.cc:1407] Unable to register cuBLAS factory: Attempting to register factory for plugin cuBLAS when one has already been registered\n",
      "W0000 00:00:1747016087.107738   16940 computation_placer.cc:177] computation placer already registered. Please check linkage and avoid linking the same target more than once.\n",
      "W0000 00:00:1747016087.107745   16940 computation_placer.cc:177] computation placer already registered. Please check linkage and avoid linking the same target more than once.\n",
      "W0000 00:00:1747016087.107746   16940 computation_placer.cc:177] computation placer already registered. Please check linkage and avoid linking the same target more than once.\n",
      "W0000 00:00:1747016087.107747   16940 computation_placer.cc:177] computation placer already registered. Please check linkage and avoid linking the same target more than once.\n",
      "2025-05-11 21:14:47.110083: I tensorflow/core/platform/cpu_feature_guard.cc:210] This TensorFlow binary is optimized to use available CPU instructions in performance-critical operations.\n",
      "To enable the following instructions: AVX2 AVX_VNNI FMA, in other operations, rebuild TensorFlow with the appropriate compiler flags.\n",
      "[nltk_data] Downloading package punkt to\n",
      "[nltk_data]     /home/sis.virtual.uniandes.edu.co/d.escalante/nltk_dat\n",
      "[nltk_data]     a...\n",
      "[nltk_data]   Package punkt is already up-to-date!\n",
      "[nltk_data] Downloading package punkt_tab to\n",
      "[nltk_data]     /home/sis.virtual.uniandes.edu.co/d.escalante/nltk_dat\n",
      "[nltk_data]     a...\n",
      "[nltk_data]   Package punkt_tab is already up-to-date!\n",
      "[nltk_data] Downloading package wordnet to\n",
      "[nltk_data]     /home/sis.virtual.uniandes.edu.co/d.escalante/nltk_dat\n",
      "[nltk_data]     a...\n",
      "[nltk_data]   Package wordnet is already up-to-date!\n",
      "[nltk_data] Downloading package stopwords to\n",
      "[nltk_data]     /home/sis.virtual.uniandes.edu.co/d.escalante/nltk_dat\n",
      "[nltk_data]     a...\n",
      "[nltk_data]   Package stopwords is already up-to-date!\n",
      "[nltk_data] Downloading package averaged_perceptron_tagger_eng to\n",
      "[nltk_data]     /home/sis.virtual.uniandes.edu.co/d.escalante/nltk_dat\n",
      "[nltk_data]     a...\n",
      "[nltk_data]   Package averaged_perceptron_tagger_eng is already up-to-\n",
      "[nltk_data]       date!\n"
     ]
    },
    {
     "data": {
      "text/plain": [
       "True"
      ]
     },
     "execution_count": 4,
     "metadata": {},
     "output_type": "execute_result"
    }
   ],
   "source": [
    "#Imports\n",
    "import pandas as pd\n",
    "import numpy as np\n",
    "import matplotlib.pyplot as plt\n",
    "import seaborn as sns\n",
    "import re\n",
    "from spellchecker import SpellChecker\n",
    "import nltk\n",
    "from nltk.corpus import stopwords\n",
    "from nltk.stem import PorterStemmer\n",
    "from tqdm import tqdm\n",
    "import nlpaug.augmenter.word as naw\n",
    "from nlpaug.util import Action\n",
    "import emoji\n",
    "import random\n",
    "import math\n",
    "from nltk.corpus import wordnet\n",
    "from nltk.tokenize import word_tokenize\n",
    "nltk.download('punkt')\n",
    "nltk.download('punkt_tab')\n",
    "nltk.download('wordnet')\n",
    "nltk.download('stopwords')\n",
    "nltk.download('averaged_perceptron_tagger_eng')"
   ]
  },
  {
   "cell_type": "markdown",
   "metadata": {},
   "source": [
    "Librerias ML y DL"
   ]
  },
  {
   "cell_type": "code",
   "execution_count": 5,
   "metadata": {},
   "outputs": [],
   "source": [
    "import pandas as pd\n",
    "import numpy as np\n",
    "import torch\n",
    "import torch.nn as nn\n",
    "from torch.utils.data import DataLoader, Dataset\n",
    "from torch.optim import Adam\n",
    "from transformers import AutoTokenizer, AutoModel\n",
    "from tensorflow.keras.preprocessing.sequence import pad_sequences\n",
    "from tqdm import tqdm\n",
    "import umap\n",
    "import plotly.express as px\n",
    "import ast\n",
    "from sklearn.model_selection import GridSearchCV\n",
    "from sklearn.metrics import classification_report, confusion_matrix\n",
    "from xgboost import XGBClassifier\n",
    "from sklearn.model_selection import train_test_split\n",
    "import warnings\n",
    "import random\n",
    "from sklearn.metrics.pairwise import cosine_similarity\n"
   ]
  },
  {
   "cell_type": "code",
   "execution_count": 6,
   "metadata": {},
   "outputs": [],
   "source": [
    "random_seed = 611\n",
    "torch.manual_seed(random_seed)\n",
    "if torch.cuda.is_available():\n",
    "    torch.cuda.manual_seed_all(random_seed)"
   ]
  },
  {
   "cell_type": "markdown",
   "metadata": {
    "id": "dI0vpkTC8LWM",
    "jp-MarkdownHeadingCollapsed": true
   },
   "source": [
    "## **Data preprocessing**"
   ]
  },
  {
   "cell_type": "markdown",
   "metadata": {
    "id": "4y9SS5Pg8TjJ"
   },
   "source": [
    "### **Dataset 1: Davidson et al. 2017**"
   ]
  },
  {
   "cell_type": "code",
   "execution_count": 6,
   "metadata": {
    "colab": {
     "base_uri": "https://localhost:8080/",
     "height": 206
    },
    "id": "WRllcMCL8oeV",
    "outputId": "599ff8d7-7417-44e7-fa44-42125931d1f8"
   },
   "outputs": [
    {
     "data": {
      "text/html": [
       "<div>\n",
       "<style scoped>\n",
       "    .dataframe tbody tr th:only-of-type {\n",
       "        vertical-align: middle;\n",
       "    }\n",
       "\n",
       "    .dataframe tbody tr th {\n",
       "        vertical-align: top;\n",
       "    }\n",
       "\n",
       "    .dataframe thead th {\n",
       "        text-align: right;\n",
       "    }\n",
       "</style>\n",
       "<table border=\"1\" class=\"dataframe\">\n",
       "  <thead>\n",
       "    <tr style=\"text-align: right;\">\n",
       "      <th></th>\n",
       "      <th>class</th>\n",
       "      <th>tweet</th>\n",
       "    </tr>\n",
       "  </thead>\n",
       "  <tbody>\n",
       "    <tr>\n",
       "      <th>0</th>\n",
       "      <td>2</td>\n",
       "      <td>!!! RT @mayasolovely: As a woman you shouldn't...</td>\n",
       "    </tr>\n",
       "    <tr>\n",
       "      <th>1</th>\n",
       "      <td>1</td>\n",
       "      <td>!!!!! RT @mleew17: boy dats cold...tyga dwn ba...</td>\n",
       "    </tr>\n",
       "    <tr>\n",
       "      <th>2</th>\n",
       "      <td>1</td>\n",
       "      <td>!!!!!!! RT @UrKindOfBrand Dawg!!!! RT @80sbaby...</td>\n",
       "    </tr>\n",
       "    <tr>\n",
       "      <th>3</th>\n",
       "      <td>1</td>\n",
       "      <td>!!!!!!!!! RT @C_G_Anderson: @viva_based she lo...</td>\n",
       "    </tr>\n",
       "    <tr>\n",
       "      <th>4</th>\n",
       "      <td>1</td>\n",
       "      <td>!!!!!!!!!!!!! RT @ShenikaRoberts: The shit you...</td>\n",
       "    </tr>\n",
       "  </tbody>\n",
       "</table>\n",
       "</div>"
      ],
      "text/plain": [
       "   class                                              tweet\n",
       "0      2  !!! RT @mayasolovely: As a woman you shouldn't...\n",
       "1      1  !!!!! RT @mleew17: boy dats cold...tyga dwn ba...\n",
       "2      1  !!!!!!! RT @UrKindOfBrand Dawg!!!! RT @80sbaby...\n",
       "3      1  !!!!!!!!! RT @C_G_Anderson: @viva_based she lo...\n",
       "4      1  !!!!!!!!!!!!! RT @ShenikaRoberts: The shit you..."
      ]
     },
     "execution_count": 6,
     "metadata": {},
     "output_type": "execute_result"
    }
   ],
   "source": [
    "# Load the dataset\n",
    "davidson = pd.read_csv(\"./data/davidson_2017.csv\")[[\"class\", \"tweet\"]]\n",
    "davidson.head()"
   ]
  },
  {
   "cell_type": "code",
   "execution_count": 7,
   "metadata": {
    "colab": {
     "base_uri": "https://localhost:8080/",
     "height": 178
    },
    "id": "3S5c8ynlGnio",
    "outputId": "1d3f5e57-ea97-476c-f44a-5fe9aab43b3c"
   },
   "outputs": [
    {
     "data": {
      "text/plain": [
       "class\n",
       "1    20620\n",
       "0     4163\n",
       "Name: count, dtype: int64"
      ]
     },
     "execution_count": 7,
     "metadata": {},
     "output_type": "execute_result"
    }
   ],
   "source": [
    "# Original class labels: 0 - hate speech, 1 - offensive language, 2 - neither\n",
    "# Transform the label in 1: toxic and 0: non toxic\n",
    "davidson[\"class\"] = davidson[\"class\"].replace({0: 1, 2: 0})\n",
    "davidson[\"class\"].value_counts()"
   ]
  },
  {
   "cell_type": "code",
   "execution_count": 8,
   "metadata": {
    "colab": {
     "base_uri": "https://localhost:8080/"
    },
    "id": "zctWGKDLBvlV",
    "outputId": "2585ee8d-54cc-42ae-8cc4-08310345bcc7"
   },
   "outputs": [
    {
     "name": "stdout",
     "output_type": "stream",
     "text": [
      "Rows: 24783\n",
      "Columns: 2\n"
     ]
    }
   ],
   "source": [
    "print(\"Rows:\", davidson.shape[0])\n",
    "print(\"Columns:\", davidson.shape[1])"
   ]
  },
  {
   "cell_type": "markdown",
   "metadata": {
    "id": "EtCPNKB1-PXZ",
    "jp-MarkdownHeadingCollapsed": true
   },
   "source": [
    "### **Dataset 2: HASOC (2019) English**"
   ]
  },
  {
   "cell_type": "code",
   "execution_count": 9,
   "metadata": {
    "colab": {
     "base_uri": "https://localhost:8080/",
     "height": 206
    },
    "id": "il2gw4se-UGG",
    "outputId": "2b194bd1-db75-4f95-ef0d-29ad5213bfd9"
   },
   "outputs": [
    {
     "data": {
      "text/html": [
       "<div>\n",
       "<style scoped>\n",
       "    .dataframe tbody tr th:only-of-type {\n",
       "        vertical-align: middle;\n",
       "    }\n",
       "\n",
       "    .dataframe tbody tr th {\n",
       "        vertical-align: top;\n",
       "    }\n",
       "\n",
       "    .dataframe thead th {\n",
       "        text-align: right;\n",
       "    }\n",
       "</style>\n",
       "<table border=\"1\" class=\"dataframe\">\n",
       "  <thead>\n",
       "    <tr style=\"text-align: right;\">\n",
       "      <th></th>\n",
       "      <th>text</th>\n",
       "      <th>task_1</th>\n",
       "    </tr>\n",
       "  </thead>\n",
       "  <tbody>\n",
       "    <tr>\n",
       "      <th>0</th>\n",
       "      <td>#DhoniKeepsTheGlove | WATCH: Sports Minister K...</td>\n",
       "      <td>NOT</td>\n",
       "    </tr>\n",
       "    <tr>\n",
       "      <th>1</th>\n",
       "      <td>@politico No. We should remember very clearly ...</td>\n",
       "      <td>HOF</td>\n",
       "    </tr>\n",
       "    <tr>\n",
       "      <th>2</th>\n",
       "      <td>@cricketworldcup Guess who would be the winner...</td>\n",
       "      <td>NOT</td>\n",
       "    </tr>\n",
       "    <tr>\n",
       "      <th>3</th>\n",
       "      <td>Corbyn is too politically intellectual for #Bo...</td>\n",
       "      <td>NOT</td>\n",
       "    </tr>\n",
       "    <tr>\n",
       "      <th>4</th>\n",
       "      <td>All the best to #TeamIndia for another swimmin...</td>\n",
       "      <td>NOT</td>\n",
       "    </tr>\n",
       "  </tbody>\n",
       "</table>\n",
       "</div>"
      ],
      "text/plain": [
       "                                                text task_1\n",
       "0  #DhoniKeepsTheGlove | WATCH: Sports Minister K...    NOT\n",
       "1  @politico No. We should remember very clearly ...    HOF\n",
       "2  @cricketworldcup Guess who would be the winner...    NOT\n",
       "3  Corbyn is too politically intellectual for #Bo...    NOT\n",
       "4  All the best to #TeamIndia for another swimmin...    NOT"
      ]
     },
     "execution_count": 9,
     "metadata": {},
     "output_type": "execute_result"
    }
   ],
   "source": [
    "hasoc = pd.read_csv(\"./data/HASOC_EN.tsv\",sep = '\\t')[[\"text\",\"task_1\"]]\n",
    "hasoc.head()"
   ]
  },
  {
   "cell_type": "code",
   "execution_count": 10,
   "metadata": {
    "colab": {
     "base_uri": "https://localhost:8080/",
     "height": 234
    },
    "id": "SM68qXoGHm5h",
    "outputId": "07471d31-0b6d-424e-c6c2-1a19f7bdafd7"
   },
   "outputs": [
    {
     "name": "stderr",
     "output_type": "stream",
     "text": [
      "/tmp/ipykernel_20878/1216868155.py:2: FutureWarning: Downcasting behavior in `replace` is deprecated and will be removed in a future version. To retain the old behavior, explicitly call `result.infer_objects(copy=False)`. To opt-in to the future behavior, set `pd.set_option('future.no_silent_downcasting', True)`\n",
      "  hasoc[\"task_1\"] = hasoc[\"task_1\"].replace({\"HOF\": 1, \"NOT\": 0})\n"
     ]
    },
    {
     "data": {
      "text/plain": [
       "task_1\n",
       "0    3591\n",
       "1    2261\n",
       "Name: count, dtype: int64"
      ]
     },
     "execution_count": 10,
     "metadata": {},
     "output_type": "execute_result"
    }
   ],
   "source": [
    "# Transform the label to 1: toxic and 0: non toxic\n",
    "hasoc[\"task_1\"] = hasoc[\"task_1\"].replace({\"HOF\": 1, \"NOT\": 0})\n",
    "hasoc[\"task_1\"].value_counts()"
   ]
  },
  {
   "cell_type": "code",
   "execution_count": 11,
   "metadata": {
    "colab": {
     "base_uri": "https://localhost:8080/",
     "height": 206
    },
    "id": "370Fq7v1I8nv",
    "outputId": "99fe1a8d-b726-4cb3-9094-de6f1a61c97f"
   },
   "outputs": [
    {
     "data": {
      "text/html": [
       "<div>\n",
       "<style scoped>\n",
       "    .dataframe tbody tr th:only-of-type {\n",
       "        vertical-align: middle;\n",
       "    }\n",
       "\n",
       "    .dataframe tbody tr th {\n",
       "        vertical-align: top;\n",
       "    }\n",
       "\n",
       "    .dataframe thead th {\n",
       "        text-align: right;\n",
       "    }\n",
       "</style>\n",
       "<table border=\"1\" class=\"dataframe\">\n",
       "  <thead>\n",
       "    <tr style=\"text-align: right;\">\n",
       "      <th></th>\n",
       "      <th>tweet</th>\n",
       "      <th>class</th>\n",
       "    </tr>\n",
       "  </thead>\n",
       "  <tbody>\n",
       "    <tr>\n",
       "      <th>0</th>\n",
       "      <td>#DhoniKeepsTheGlove | WATCH: Sports Minister K...</td>\n",
       "      <td>0</td>\n",
       "    </tr>\n",
       "    <tr>\n",
       "      <th>1</th>\n",
       "      <td>@politico No. We should remember very clearly ...</td>\n",
       "      <td>1</td>\n",
       "    </tr>\n",
       "    <tr>\n",
       "      <th>2</th>\n",
       "      <td>@cricketworldcup Guess who would be the winner...</td>\n",
       "      <td>0</td>\n",
       "    </tr>\n",
       "    <tr>\n",
       "      <th>3</th>\n",
       "      <td>Corbyn is too politically intellectual for #Bo...</td>\n",
       "      <td>0</td>\n",
       "    </tr>\n",
       "    <tr>\n",
       "      <th>4</th>\n",
       "      <td>All the best to #TeamIndia for another swimmin...</td>\n",
       "      <td>0</td>\n",
       "    </tr>\n",
       "  </tbody>\n",
       "</table>\n",
       "</div>"
      ],
      "text/plain": [
       "                                               tweet  class\n",
       "0  #DhoniKeepsTheGlove | WATCH: Sports Minister K...      0\n",
       "1  @politico No. We should remember very clearly ...      1\n",
       "2  @cricketworldcup Guess who would be the winner...      0\n",
       "3  Corbyn is too politically intellectual for #Bo...      0\n",
       "4  All the best to #TeamIndia for another swimmin...      0"
      ]
     },
     "execution_count": 11,
     "metadata": {},
     "output_type": "execute_result"
    }
   ],
   "source": [
    "# Change column names to match the other datasets\n",
    "hasoc = hasoc.rename(columns={'task_1': 'class', 'text': 'tweet'})\n",
    "hasoc.head()"
   ]
  },
  {
   "cell_type": "code",
   "execution_count": 12,
   "metadata": {
    "colab": {
     "base_uri": "https://localhost:8080/"
    },
    "id": "rd9gFm6XByTe",
    "outputId": "e5b13e12-a649-44dd-d96e-9fc09c089c51"
   },
   "outputs": [
    {
     "name": "stdout",
     "output_type": "stream",
     "text": [
      "Rows: 5852\n",
      "Columns: 2\n"
     ]
    }
   ],
   "source": [
    "print(\"Rows:\", hasoc.shape[0])\n",
    "print(\"Columns:\", hasoc.shape[1])"
   ]
  },
  {
   "cell_type": "markdown",
   "metadata": {
    "id": "POVzb_McGaHw",
    "jp-MarkdownHeadingCollapsed": true
   },
   "source": [
    "### **Dataset 3: Zeerak Talat’s Hate Speech Dataset**"
   ]
  },
  {
   "cell_type": "code",
   "execution_count": 13,
   "metadata": {
    "colab": {
     "base_uri": "https://localhost:8080/",
     "height": 206
    },
    "id": "ZaU4jSIJGlbd",
    "outputId": "1d01550d-3cd8-4f97-c5be-4e8e43362e2a"
   },
   "outputs": [
    {
     "data": {
      "text/html": [
       "<div>\n",
       "<style scoped>\n",
       "    .dataframe tbody tr th:only-of-type {\n",
       "        vertical-align: middle;\n",
       "    }\n",
       "\n",
       "    .dataframe tbody tr th {\n",
       "        vertical-align: top;\n",
       "    }\n",
       "\n",
       "    .dataframe thead th {\n",
       "        text-align: right;\n",
       "    }\n",
       "</style>\n",
       "<table border=\"1\" class=\"dataframe\">\n",
       "  <thead>\n",
       "    <tr style=\"text-align: right;\">\n",
       "      <th></th>\n",
       "      <th>class</th>\n",
       "      <th>text</th>\n",
       "    </tr>\n",
       "  </thead>\n",
       "  <tbody>\n",
       "    <tr>\n",
       "      <th>0</th>\n",
       "      <td>racism</td>\n",
       "      <td>So Drasko just said he was impressed the girls...</td>\n",
       "    </tr>\n",
       "    <tr>\n",
       "      <th>1</th>\n",
       "      <td>racism</td>\n",
       "      <td>Drasko they didn't cook half a bird you idiot ...</td>\n",
       "    </tr>\n",
       "    <tr>\n",
       "      <th>2</th>\n",
       "      <td>racism</td>\n",
       "      <td>Hopefully someone cooks Drasko in the next ep ...</td>\n",
       "    </tr>\n",
       "    <tr>\n",
       "      <th>3</th>\n",
       "      <td>racism</td>\n",
       "      <td>of course you were born in serbia...you're as ...</td>\n",
       "    </tr>\n",
       "    <tr>\n",
       "      <th>4</th>\n",
       "      <td>racism</td>\n",
       "      <td>RT @YesYoureRacist: At least you're only a tin...</td>\n",
       "    </tr>\n",
       "  </tbody>\n",
       "</table>\n",
       "</div>"
      ],
      "text/plain": [
       "    class                                               text\n",
       "0  racism  So Drasko just said he was impressed the girls...\n",
       "1  racism  Drasko they didn't cook half a bird you idiot ...\n",
       "2  racism  Hopefully someone cooks Drasko in the next ep ...\n",
       "3  racism  of course you were born in serbia...you're as ...\n",
       "4  racism  RT @YesYoureRacist: At least you're only a tin..."
      ]
     },
     "execution_count": 13,
     "metadata": {},
     "output_type": "execute_result"
    }
   ],
   "source": [
    "# Load the dataset\n",
    "zeerak = pd.read_csv(\"./data/NAACL_SRW_2016_fixed.csv\")[[\"class\", \"text\"]]\n",
    "zeerak.head()"
   ]
  },
  {
   "cell_type": "code",
   "execution_count": 14,
   "metadata": {
    "colab": {
     "base_uri": "https://localhost:8080/",
     "height": 210
    },
    "id": "-JjJCvd_HOzp",
    "outputId": "3e9dd718-a82f-43d8-b8c3-b589fee38bdc"
   },
   "outputs": [
    {
     "data": {
      "text/plain": [
       "class\n",
       "none      7060\n",
       "sexism    2577\n",
       "racism      11\n",
       "Name: count, dtype: int64"
      ]
     },
     "execution_count": 14,
     "metadata": {},
     "output_type": "execute_result"
    }
   ],
   "source": [
    "# Original class labels\n",
    "zeerak[\"class\"].value_counts()"
   ]
  },
  {
   "cell_type": "code",
   "execution_count": 15,
   "metadata": {
    "colab": {
     "base_uri": "https://localhost:8080/",
     "height": 234
    },
    "id": "nphlA7FBHVwP",
    "outputId": "6a8df7a9-c8a0-43aa-ebd8-1259de47c044"
   },
   "outputs": [
    {
     "name": "stderr",
     "output_type": "stream",
     "text": [
      "/tmp/ipykernel_20878/990906760.py:2: FutureWarning: Downcasting behavior in `replace` is deprecated and will be removed in a future version. To retain the old behavior, explicitly call `result.infer_objects(copy=False)`. To opt-in to the future behavior, set `pd.set_option('future.no_silent_downcasting', True)`\n",
      "  zeerak[\"class\"] = zeerak[\"class\"].replace({\"sexism\": 1, \"racism\": 1, \"none\": 0})\n"
     ]
    },
    {
     "data": {
      "text/plain": [
       "class\n",
       "0    7060\n",
       "1    2588\n",
       "Name: count, dtype: int64"
      ]
     },
     "execution_count": 15,
     "metadata": {},
     "output_type": "execute_result"
    }
   ],
   "source": [
    "# Transform the label to 1: toxic and 0: non toxic\n",
    "zeerak[\"class\"] = zeerak[\"class\"].replace({\"sexism\": 1, \"racism\": 1, \"none\": 0})\n",
    "zeerak[\"class\"].value_counts()"
   ]
  },
  {
   "cell_type": "code",
   "execution_count": 16,
   "metadata": {
    "colab": {
     "base_uri": "https://localhost:8080/",
     "height": 206
    },
    "id": "DpDoOid6HvIa",
    "outputId": "c9a410e7-26ee-4114-ffbb-359bb73e76ed"
   },
   "outputs": [
    {
     "data": {
      "text/html": [
       "<div>\n",
       "<style scoped>\n",
       "    .dataframe tbody tr th:only-of-type {\n",
       "        vertical-align: middle;\n",
       "    }\n",
       "\n",
       "    .dataframe tbody tr th {\n",
       "        vertical-align: top;\n",
       "    }\n",
       "\n",
       "    .dataframe thead th {\n",
       "        text-align: right;\n",
       "    }\n",
       "</style>\n",
       "<table border=\"1\" class=\"dataframe\">\n",
       "  <thead>\n",
       "    <tr style=\"text-align: right;\">\n",
       "      <th></th>\n",
       "      <th>class</th>\n",
       "      <th>tweet</th>\n",
       "    </tr>\n",
       "  </thead>\n",
       "  <tbody>\n",
       "    <tr>\n",
       "      <th>0</th>\n",
       "      <td>1</td>\n",
       "      <td>So Drasko just said he was impressed the girls...</td>\n",
       "    </tr>\n",
       "    <tr>\n",
       "      <th>1</th>\n",
       "      <td>1</td>\n",
       "      <td>Drasko they didn't cook half a bird you idiot ...</td>\n",
       "    </tr>\n",
       "    <tr>\n",
       "      <th>2</th>\n",
       "      <td>1</td>\n",
       "      <td>Hopefully someone cooks Drasko in the next ep ...</td>\n",
       "    </tr>\n",
       "    <tr>\n",
       "      <th>3</th>\n",
       "      <td>1</td>\n",
       "      <td>of course you were born in serbia...you're as ...</td>\n",
       "    </tr>\n",
       "    <tr>\n",
       "      <th>4</th>\n",
       "      <td>1</td>\n",
       "      <td>RT @YesYoureRacist: At least you're only a tin...</td>\n",
       "    </tr>\n",
       "  </tbody>\n",
       "</table>\n",
       "</div>"
      ],
      "text/plain": [
       "   class                                              tweet\n",
       "0      1  So Drasko just said he was impressed the girls...\n",
       "1      1  Drasko they didn't cook half a bird you idiot ...\n",
       "2      1  Hopefully someone cooks Drasko in the next ep ...\n",
       "3      1  of course you were born in serbia...you're as ...\n",
       "4      1  RT @YesYoureRacist: At least you're only a tin..."
      ]
     },
     "execution_count": 16,
     "metadata": {},
     "output_type": "execute_result"
    }
   ],
   "source": [
    "# Rename the columns to match the other datasets\n",
    "zeerak = zeerak.rename(columns={'text': 'tweet'})\n",
    "zeerak.head()"
   ]
  },
  {
   "cell_type": "code",
   "execution_count": 17,
   "metadata": {
    "colab": {
     "base_uri": "https://localhost:8080/"
    },
    "id": "zM3Lo4PpH9wW",
    "outputId": "9fd02c0b-2563-441c-cb89-57346eb234ce"
   },
   "outputs": [
    {
     "name": "stdout",
     "output_type": "stream",
     "text": [
      "Rows: 9648\n",
      "Columns: 2\n"
     ]
    }
   ],
   "source": [
    "print(\"Rows:\", zeerak.shape[0])\n",
    "print(\"Columns:\", zeerak.shape[1])"
   ]
  },
  {
   "cell_type": "markdown",
   "metadata": {
    "id": "wc6WggqZIqTd",
    "jp-MarkdownHeadingCollapsed": true
   },
   "source": [
    "### **Concatenation**"
   ]
  },
  {
   "cell_type": "code",
   "execution_count": 18,
   "metadata": {
    "colab": {
     "base_uri": "https://localhost:8080/",
     "height": 206
    },
    "id": "n039VZBvIvTL",
    "outputId": "bb659b49-76c5-4362-daa6-bf189dd4915a"
   },
   "outputs": [
    {
     "data": {
      "text/html": [
       "<div>\n",
       "<style scoped>\n",
       "    .dataframe tbody tr th:only-of-type {\n",
       "        vertical-align: middle;\n",
       "    }\n",
       "\n",
       "    .dataframe tbody tr th {\n",
       "        vertical-align: top;\n",
       "    }\n",
       "\n",
       "    .dataframe thead th {\n",
       "        text-align: right;\n",
       "    }\n",
       "</style>\n",
       "<table border=\"1\" class=\"dataframe\">\n",
       "  <thead>\n",
       "    <tr style=\"text-align: right;\">\n",
       "      <th></th>\n",
       "      <th>class</th>\n",
       "      <th>tweet</th>\n",
       "    </tr>\n",
       "  </thead>\n",
       "  <tbody>\n",
       "    <tr>\n",
       "      <th>0</th>\n",
       "      <td>0</td>\n",
       "      <td>!!! RT @mayasolovely: As a woman you shouldn't...</td>\n",
       "    </tr>\n",
       "    <tr>\n",
       "      <th>1</th>\n",
       "      <td>1</td>\n",
       "      <td>!!!!! RT @mleew17: boy dats cold...tyga dwn ba...</td>\n",
       "    </tr>\n",
       "    <tr>\n",
       "      <th>2</th>\n",
       "      <td>1</td>\n",
       "      <td>!!!!!!! RT @UrKindOfBrand Dawg!!!! RT @80sbaby...</td>\n",
       "    </tr>\n",
       "    <tr>\n",
       "      <th>3</th>\n",
       "      <td>1</td>\n",
       "      <td>!!!!!!!!! RT @C_G_Anderson: @viva_based she lo...</td>\n",
       "    </tr>\n",
       "    <tr>\n",
       "      <th>4</th>\n",
       "      <td>1</td>\n",
       "      <td>!!!!!!!!!!!!! RT @ShenikaRoberts: The shit you...</td>\n",
       "    </tr>\n",
       "  </tbody>\n",
       "</table>\n",
       "</div>"
      ],
      "text/plain": [
       "   class                                              tweet\n",
       "0      0  !!! RT @mayasolovely: As a woman you shouldn't...\n",
       "1      1  !!!!! RT @mleew17: boy dats cold...tyga dwn ba...\n",
       "2      1  !!!!!!! RT @UrKindOfBrand Dawg!!!! RT @80sbaby...\n",
       "3      1  !!!!!!!!! RT @C_G_Anderson: @viva_based she lo...\n",
       "4      1  !!!!!!!!!!!!! RT @ShenikaRoberts: The shit you..."
      ]
     },
     "execution_count": 18,
     "metadata": {},
     "output_type": "execute_result"
    }
   ],
   "source": [
    "data = pd.concat([davidson, hasoc, zeerak], axis=0, ignore_index=True)\n",
    "data.head()"
   ]
  },
  {
   "cell_type": "code",
   "execution_count": 19,
   "metadata": {
    "colab": {
     "base_uri": "https://localhost:8080/",
     "height": 178
    },
    "id": "3Ynv6GXmJaaC",
    "outputId": "a1b0d147-b4e2-4441-b95f-f73ef4901ad8"
   },
   "outputs": [
    {
     "data": {
      "text/plain": [
       "class\n",
       "1    25469\n",
       "0    14814\n",
       "Name: count, dtype: int64"
      ]
     },
     "execution_count": 19,
     "metadata": {},
     "output_type": "execute_result"
    }
   ],
   "source": [
    "data[\"class\"].value_counts()"
   ]
  },
  {
   "cell_type": "code",
   "execution_count": 20,
   "metadata": {
    "colab": {
     "base_uri": "https://localhost:8080/"
    },
    "id": "LkIiH5LTJYcI",
    "outputId": "edf2ab84-60b1-4345-89d8-86142bea1477"
   },
   "outputs": [
    {
     "name": "stdout",
     "output_type": "stream",
     "text": [
      "Rows: 40283\n",
      "Columns: 2\n"
     ]
    }
   ],
   "source": [
    "print(\"Rows:\", data.shape[0])\n",
    "print(\"Columns:\", data.shape[1])"
   ]
  },
  {
   "cell_type": "markdown",
   "metadata": {
    "id": "oDCbT5h2Jpqs",
    "jp-MarkdownHeadingCollapsed": true
   },
   "source": [
    "### **Cleaning**"
   ]
  },
  {
   "cell_type": "code",
   "execution_count": 21,
   "metadata": {
    "id": "2ri0a8eqMlba"
   },
   "outputs": [],
   "source": [
    "#Check point\n",
    "# Creation of one dataset for embedding of text into a vector and another one for embbeding with GloVe + Twitter\n",
    "data_cleaning = data.copy()\n",
    "data_cleaning_slight = data.copy()"
   ]
  },
  {
   "cell_type": "code",
   "execution_count": 22,
   "metadata": {
    "id": "uD7dNTS-Risk"
   },
   "outputs": [],
   "source": [
    "# Transform emojis into words\n",
    "\n",
    "def emoji_to_words(text):\n",
    "  return emoji.demojize(text, language='en')\n",
    "\n",
    "data_cleaning['tweet'] = data_cleaning['tweet'].apply(emoji_to_words)\n",
    "data_cleaning_slight['tweet'] = data_cleaning_slight['tweet'].apply(emoji_to_words)"
   ]
  },
  {
   "cell_type": "code",
   "execution_count": 23,
   "metadata": {
    "id": "w3W3lxHlJ0OI"
   },
   "outputs": [],
   "source": [
    "# Remove URLs from tweets\n",
    "\n",
    "def remove_urls(text):\n",
    "  return re.sub(r'http\\S+', '', text)\n",
    "\n",
    "data_cleaning['tweet'] = data_cleaning['tweet'].apply(remove_urls)\n",
    "data_cleaning_slight['tweet'] = data_cleaning_slight['tweet'].apply(remove_urls)"
   ]
  },
  {
   "cell_type": "code",
   "execution_count": 24,
   "metadata": {
    "id": "dstAzTL0KaaX"
   },
   "outputs": [],
   "source": [
    "# Remove mentions from tweets\n",
    "def remove_mentions(text):\n",
    "  return re.sub(r'@\\w+', '', text)\n",
    "\n",
    "data_cleaning['tweet'] = data_cleaning['tweet'].apply(remove_mentions)\n"
   ]
  },
  {
   "cell_type": "code",
   "execution_count": 25,
   "metadata": {
    "id": "_uF8JhSkLbft"
   },
   "outputs": [],
   "source": [
    "# Remove symbols from tweets\n",
    "\n",
    "def leave_letters(text):\n",
    "  text = re.sub(r'[^a-zA-Z]', ' ', text)\n",
    "  text = re.sub(r'\\s+', ' ', text)\n",
    "  return text\n",
    "\n",
    "data_cleaning['tweet'] = data_cleaning['tweet'].apply(leave_letters)"
   ]
  },
  {
   "cell_type": "code",
   "execution_count": 26,
   "metadata": {},
   "outputs": [],
   "source": [
    "# Remove uncommon symbols from tweets\n",
    "\n",
    "def clean_tweet_for_glove(text):\n",
    "  # Keep only letters, numbers, hashtags, mentions, apostrophes, emojis, and basic punctuation\n",
    "  text = re.sub(r\"[^a-zA-Z0-9@#'’!?.,\\s]\", '', text)  # keep @, #, apostrophes, basic punctuation\n",
    "  text = re.sub(r'\\s+', ' ', text)  # replace multiple spaces with single space\n",
    "  return text.strip()\n",
    "\n",
    "data_cleaning_slight['tweet'] = data_cleaning_slight['tweet'].apply(clean_tweet_for_glove)"
   ]
  },
  {
   "cell_type": "code",
   "execution_count": 27,
   "metadata": {
    "id": "FbJodhJyM23e"
   },
   "outputs": [],
   "source": [
    "# Remove symbols from tweets\n",
    "\n",
    "def lowercase(text):\n",
    "  return text.lower()\n",
    "\n",
    "data_cleaning['tweet'] = data_cleaning['tweet'].apply(lowercase)\n",
    "data_cleaning_slight['tweet'] = data_cleaning_slight['tweet'].apply(lowercase)"
   ]
  },
  {
   "cell_type": "code",
   "execution_count": 28,
   "metadata": {
    "id": "ggJB0i9qOFNG"
   },
   "outputs": [
    {
     "name": "stderr",
     "output_type": "stream",
     "text": [
      "100%|███████████████████████████████████████████████████████████████████████████████████████| 40283/40283 [2:47:53<00:00,  4.00it/s]\n"
     ]
    }
   ],
   "source": [
    "# Correct spelling\n",
    "spell = SpellChecker()\n",
    "\n",
    "def correct_spelling(text):\n",
    "  words = text.split()\n",
    "  corrected_words = [spell.correction(word) or word for word in words]\n",
    "  return ' '.join(corrected_words)\n",
    "\n",
    "data_cleaning['tweet'] = [correct_spelling(text) for text in tqdm(data_cleaning['tweet'])]"
   ]
  },
  {
   "cell_type": "code",
   "execution_count": 29,
   "metadata": {
    "id": "CxKYgHtCQHyK"
   },
   "outputs": [],
   "source": [
    "# Remove stopwords\n",
    "\n",
    "def remove_stopwords(text):\n",
    "  stop_words = set(stopwords.words('english'))  # Use English stop words\n",
    "  words = text.split()\n",
    "  filtered_words = [word for word in words if word not in stop_words]\n",
    "  return \" \".join(filtered_words)\n",
    "\n",
    "data_cleaning['tweet'] = data_cleaning['tweet'].apply(remove_stopwords)"
   ]
  },
  {
   "cell_type": "code",
   "execution_count": 30,
   "metadata": {
    "id": "knrHot4YQ5Za"
   },
   "outputs": [],
   "source": [
    "# Stemming the words\n",
    "\n",
    "stemmer = PorterStemmer()\n",
    "\n",
    "def stem_text(text):\n",
    "  words = text.split()\n",
    "  stemmed_words = [stemmer.stem(word) for word in words]\n",
    "  return \" \".join(stemmed_words)\n",
    "\n",
    "  data_cleaning['tweet'] = data_cleaning['tweet'].apply(stem_text)\n"
   ]
  },
  {
   "cell_type": "code",
   "execution_count": 31,
   "metadata": {
    "colab": {
     "base_uri": "https://localhost:8080/",
     "height": 459
    },
    "id": "Jo_cF0_hBOdl",
    "outputId": "3a33d01a-fee9-41ba-a8af-2066e844e10b"
   },
   "outputs": [
    {
     "data": {
      "text/plain": [
       "0      woman complain cleaning house amp man always t...\n",
       "1             boy days cold toga bad coffin hoe st place\n",
       "2           dawn ever fuck bitch start cry confused shit\n",
       "3                                       look like granny\n",
       "4         shit hear might true might faker bitch told ya\n",
       "                             ...                        \n",
       "195    tired bitches saying look mean night big af we...\n",
       "196    birds grandads may never see thanks climate ch...\n",
       "197                                 stay beautiful bitch\n",
       "198    wutkinda r purple ceeeleee man girl playing st...\n",
       "199          money getting taller bitches getting blurry\n",
       "Name: tweet, Length: 200, dtype: object"
      ]
     },
     "execution_count": 31,
     "metadata": {},
     "output_type": "execute_result"
    }
   ],
   "source": [
    "data_cleaning['tweet'].head(200)"
   ]
  },
  {
   "cell_type": "code",
   "execution_count": 32,
   "metadata": {},
   "outputs": [
    {
     "data": {
      "text/plain": [
       "0      !!! rt @mayasolovely as a woman you shouldn't ...\n",
       "1      !!!!! rt @mleew17 boy dats cold...tyga dwn bad...\n",
       "2      !!!!!!! rt @urkindofbrand dawg!!!! rt @80sbaby...\n",
       "3      !!!!!!!!! rt @cganderson @vivabased she look l...\n",
       "4      !!!!!!!!!!!!! rt @shenikaroberts the shit you ...\n",
       "                             ...                        \n",
       "195    @montrell i'm tired of bitches saying i look m...\n",
       "196    @motherjones 10 birds your grandkids may never...\n",
       "197                 @mvckfadden stay beautiful you bitch\n",
       "198    @nickiminaj #wutkinda r purple. ceeeleeeman th...\n",
       "199    @nastycopper money getting taller and bitches ...\n",
       "Name: tweet, Length: 200, dtype: object"
      ]
     },
     "execution_count": 32,
     "metadata": {},
     "output_type": "execute_result"
    }
   ],
   "source": [
    "data_cleaning_slight['tweet'].head(200)"
   ]
  },
  {
   "cell_type": "code",
   "execution_count": 33,
   "metadata": {},
   "outputs": [],
   "source": [
    "# Check and remove duplicates\n",
    "def check_remove_dup(dataset):\n",
    "  print(f'Duplicates: {dataset[\"tweet\"].duplicated().sum()}')\n",
    "  duplicated_tweets = dataset[\"tweet\"].duplicated()\n",
    "  return dataset[~duplicated_tweets]"
   ]
  },
  {
   "cell_type": "code",
   "execution_count": 34,
   "metadata": {
    "colab": {
     "base_uri": "https://localhost:8080/"
    },
    "id": "XJkqwmmvIziu",
    "outputId": "0d018b93-a1fd-49f4-85f1-a152d652ee26"
   },
   "outputs": [
    {
     "name": "stdout",
     "output_type": "stream",
     "text": [
      "Duplicates: 1823\n"
     ]
    }
   ],
   "source": [
    "# Check and remove duplicates in the first dataset\n",
    "\n",
    "data_cleaning = check_remove_dup(data_cleaning)"
   ]
  },
  {
   "cell_type": "code",
   "execution_count": 35,
   "metadata": {},
   "outputs": [
    {
     "name": "stdout",
     "output_type": "stream",
     "text": [
      "Duplicates: 185\n"
     ]
    }
   ],
   "source": [
    "# Check and remove duplicates in the second dataset\n",
    "\n",
    "data_cleaning_slight = check_remove_dup(data_cleaning_slight)\n"
   ]
  },
  {
   "cell_type": "code",
   "execution_count": 36,
   "metadata": {},
   "outputs": [],
   "source": [
    "# Check for null or empty \n",
    "\n",
    "def check_null_empty(dataset):\n",
    "  keep = ~((dataset[\"tweet\"].isnull()) | (dataset[\"tweet\"] == \"\"))\n",
    "    \n",
    "  print(f'Number of nulls or empty: {(~keep).sum()}')\n",
    "    \n",
    "  dataset = dataset[keep]\n",
    "    \n",
    "  print(f'Cleaned data shape: {dataset.shape}')\n",
    "\n",
    "  return dataset"
   ]
  },
  {
   "cell_type": "code",
   "execution_count": 37,
   "metadata": {
    "colab": {
     "base_uri": "https://localhost:8080/"
    },
    "id": "wkX2z2k6w1VS",
    "outputId": "d3d3f856-7875-4c63-e349-e6504c55d0e7"
   },
   "outputs": [
    {
     "name": "stdout",
     "output_type": "stream",
     "text": [
      "Number of nulls or empty: 1\n",
      "Cleaned data shape: (38459, 2)\n"
     ]
    }
   ],
   "source": [
    "# Check for null or empty in the first dataset\n",
    "\n",
    "data_cleaning = check_null_empty(data_cleaning)"
   ]
  },
  {
   "cell_type": "code",
   "execution_count": 38,
   "metadata": {},
   "outputs": [
    {
     "name": "stdout",
     "output_type": "stream",
     "text": [
      "Number of nulls or empty: 1\n",
      "Cleaned data shape: (40097, 2)\n"
     ]
    }
   ],
   "source": [
    "# Check for null or empty in the second dataset\n",
    "\n",
    "data_cleaning_slight = check_null_empty(data_cleaning_slight)"
   ]
  },
  {
   "cell_type": "code",
   "execution_count": 39,
   "metadata": {
    "colab": {
     "base_uri": "https://localhost:8080/",
     "height": 178
    },
    "id": "tb2qAprnpPQJ",
    "outputId": "2164773f-0d40-43b7-b2a8-5e5c7ded19c1"
   },
   "outputs": [
    {
     "data": {
      "text/plain": [
       "class\n",
       "1    24345\n",
       "0    14114\n",
       "Name: count, dtype: int64"
      ]
     },
     "execution_count": 39,
     "metadata": {},
     "output_type": "execute_result"
    }
   ],
   "source": [
    "# Checking the dataset's balance\n",
    "\n",
    "data_cleaning[\"class\"].value_counts()"
   ]
  },
  {
   "cell_type": "code",
   "execution_count": 40,
   "metadata": {},
   "outputs": [
    {
     "data": {
      "text/plain": [
       "class\n",
       "1    25419\n",
       "0    14678\n",
       "Name: count, dtype: int64"
      ]
     },
     "execution_count": 40,
     "metadata": {},
     "output_type": "execute_result"
    }
   ],
   "source": [
    "# Checking the dataset's balance\n",
    "\n",
    "data_cleaning_slight[\"class\"].value_counts()"
   ]
  },
  {
   "cell_type": "code",
   "execution_count": 41,
   "metadata": {
    "id": "-e6MsX360a3r"
   },
   "outputs": [],
   "source": [
    "# Function to get a random synonym of a word\n",
    "\n",
    "def get_synonym(word):\n",
    "  synonyms = []\n",
    "  for syn in wordnet.synsets(word):\n",
    "    for lemma in syn.lemmas():\n",
    "      synonyms.append(lemma.name())\n",
    "  if len(synonyms) > 0:\n",
    "    synonyms = list(set(synonyms))\n",
    "    return synonyms[random.randint(0, len(synonyms) - 1)]\n",
    "  else:\n",
    "    return \"\""
   ]
  },
  {
   "cell_type": "code",
   "execution_count": 42,
   "metadata": {
    "id": "8CWCzEuw0v30"
   },
   "outputs": [],
   "source": [
    "# Custom random insertion function\n",
    "\n",
    "def random_synonym_insert_augment(text, alpha):\n",
    "\n",
    "  words = text.split()\n",
    "  new_text = words.copy()\n",
    "  for word in words:\n",
    "    if random.random() < alpha:\n",
    "      synonym = get_synonym(word)\n",
    "      if synonym != \"\":\n",
    "        position = random.randint(0, len(new_text) - 1)\n",
    "        new_text.insert(position, synonym)\n",
    "\n",
    "  return [\" \".join(new_text)]"
   ]
  },
  {
   "cell_type": "code",
   "execution_count": 43,
   "metadata": {},
   "outputs": [],
   "source": [
    "# Balance the data set using easy data augmentation\n",
    "\n",
    "#Choose an alpha parameter (Percentage of words in a sentence that are changed)\n",
    "alpha = 0.25\n",
    "\n",
    "aug_synonym = naw.SynonymAug(aug_src='wordnet', aug_p = alpha)\n",
    "aug_swap = naw.RandomWordAug(action=\"swap\", aug_p = alpha)\n",
    "aug_delete = naw.RandomWordAug(action=\"delete\", aug_p = alpha)\n",
    "\n",
    "\n",
    "def data_augmentation(dataset, alpha):\n",
    "  # Store the new rows\n",
    "  new_rows = []\n",
    "\n",
    "  # Size to balance the classes\n",
    "  desired_size = len(dataset[dataset['class'] == 1]) - len(dataset[dataset['class'] == 0])\n",
    "\n",
    "  non_toxic = dataset[dataset['class'] == 0]\n",
    "\n",
    "  # Until balanced\n",
    "  while len(new_rows) < desired_size:\n",
    "    # Get a random sample from the minority class\n",
    "    random_row = non_toxic.sample(1)\n",
    "\n",
    "    # Pick a random EDA technique and apply it\n",
    "    random_num = random.randint(1, 4)\n",
    "    augmented_text = []\n",
    "\n",
    "    if random_num == 1:\n",
    "      augmented_text = aug_synonym.augment(random_row['tweet'].values[0])\n",
    "    elif random_num == 2:\n",
    "      augmented_text = aug_swap.augment(random_row['tweet'].values[0])\n",
    "    elif random_num == 3:\n",
    "      augmented_text = random_synonym_insert_augment(random_row['tweet'].values[0], alpha)\n",
    "    else:\n",
    "      augmented_text = aug_delete.augment(random_row['tweet'].values[0])\n",
    "\n",
    "    if len(augmented_text) > 0:\n",
    "      new_rows.append({ \"tweet\": augmented_text[0], \"class\": random_row['class'].values[0] })\n",
    "\n",
    "\n",
    "  # New rows dataframe\n",
    "  new_rows_df = pd.DataFrame(new_rows)\n",
    "\n",
    "  # Concatenate the datasets\n",
    "  return pd.concat([dataset, new_rows_df], ignore_index = True, axis = 0)"
   ]
  },
  {
   "cell_type": "code",
   "execution_count": 44,
   "metadata": {
    "colab": {
     "base_uri": "https://localhost:8080/",
     "height": 214
    },
    "id": "yCzR8WSkm-55",
    "outputId": "fa9ea933-6dc1-4cfb-a014-2e2bfbd969d9"
   },
   "outputs": [
    {
     "name": "stdout",
     "output_type": "stream",
     "text": [
      "Balanced data shape: (48690, 2)\n",
      "\n"
     ]
    },
    {
     "data": {
      "text/plain": [
       "class\n",
       "0    24345\n",
       "1    24345\n",
       "Name: count, dtype: int64"
      ]
     },
     "execution_count": 44,
     "metadata": {},
     "output_type": "execute_result"
    }
   ],
   "source": [
    "# Balance the first dataset\n",
    "\n",
    "balanced_data = data_augmentation(data_cleaning, alpha)\n",
    "\n",
    "print(f'Balanced data shape: {balanced_data.shape}')\n",
    "print()\n",
    "balanced_data[\"class\"].value_counts()\n"
   ]
  },
  {
   "cell_type": "code",
   "execution_count": 45,
   "metadata": {},
   "outputs": [
    {
     "name": "stdout",
     "output_type": "stream",
     "text": [
      "Balanced data shape: (50838, 2)\n",
      "\n"
     ]
    },
    {
     "data": {
      "text/plain": [
       "class\n",
       "0    25419\n",
       "1    25419\n",
       "Name: count, dtype: int64"
      ]
     },
     "execution_count": 45,
     "metadata": {},
     "output_type": "execute_result"
    }
   ],
   "source": [
    "# Balance the second dataset\n",
    "\n",
    "balanced_data_glove = data_augmentation(data_cleaning_slight, alpha)\n",
    "\n",
    "print(f'Balanced data shape: {balanced_data_glove.shape}')\n",
    "print()\n",
    "balanced_data_glove[\"class\"].value_counts()"
   ]
  },
  {
   "cell_type": "code",
   "execution_count": 46,
   "metadata": {
    "colab": {
     "base_uri": "https://localhost:8080/"
    },
    "id": "VT4oS-zymJ1-",
    "outputId": "36701ecc-5424-430f-9136-7374fcdd9aa5"
   },
   "outputs": [
    {
     "name": "stdout",
     "output_type": "stream",
     "text": [
      "Duplicates: 994\n"
     ]
    }
   ],
   "source": [
    "# Check and remove duplicates again that could have appeared due to augmentation\n",
    "\n",
    "balanced_data = check_remove_dup(balanced_data)"
   ]
  },
  {
   "cell_type": "code",
   "execution_count": 47,
   "metadata": {},
   "outputs": [
    {
     "name": "stdout",
     "output_type": "stream",
     "text": [
      "Duplicates: 655\n"
     ]
    }
   ],
   "source": [
    "# Check and remove duplicates again that could have appeared due to augmentation in the second dataset\n",
    "\n",
    "balanced_data_glove = check_remove_dup(balanced_data_glove)"
   ]
  },
  {
   "cell_type": "code",
   "execution_count": 48,
   "metadata": {
    "colab": {
     "base_uri": "https://localhost:8080/"
    },
    "id": "qzl7m5dtmVb9",
    "outputId": "0a8834c2-ee10-4f87-a065-5744ea1143d9"
   },
   "outputs": [
    {
     "name": "stdout",
     "output_type": "stream",
     "text": [
      "Number of nulls or empty: 0\n",
      "Cleaned data shape: (47696, 2)\n"
     ]
    }
   ],
   "source": [
    "# Check for null or empty again if they appeared due to augmentation\n",
    "\n",
    "balanced_data = check_null_empty(balanced_data)"
   ]
  },
  {
   "cell_type": "code",
   "execution_count": 49,
   "metadata": {},
   "outputs": [
    {
     "name": "stdout",
     "output_type": "stream",
     "text": [
      "Number of nulls or empty: 0\n",
      "Cleaned data shape: (50183, 2)\n"
     ]
    }
   ],
   "source": [
    "# Check for null or empty again if they appeared due to augmentation in the second dataset\n",
    "\n",
    "balanced_data_glove = check_null_empty(balanced_data_glove)"
   ]
  },
  {
   "cell_type": "code",
   "execution_count": 50,
   "metadata": {
    "colab": {
     "base_uri": "https://localhost:8080/",
     "height": 178
    },
    "id": "yHSD5OOFnZ-0",
    "outputId": "f015c6bb-04da-480e-a83c-5e598d371777"
   },
   "outputs": [
    {
     "data": {
      "text/plain": [
       "class\n",
       "1    24345\n",
       "0    23351\n",
       "Name: count, dtype: int64"
      ]
     },
     "execution_count": 50,
     "metadata": {},
     "output_type": "execute_result"
    }
   ],
   "source": [
    "# Final distribution\n",
    "\n",
    "balanced_data[\"class\"].value_counts()"
   ]
  },
  {
   "cell_type": "code",
   "execution_count": 51,
   "metadata": {},
   "outputs": [
    {
     "data": {
      "text/plain": [
       "class\n",
       "1    25419\n",
       "0    24764\n",
       "Name: count, dtype: int64"
      ]
     },
     "execution_count": 51,
     "metadata": {},
     "output_type": "execute_result"
    }
   ],
   "source": [
    "# Final distribution\n",
    "\n",
    "balanced_data_glove[\"class\"].value_counts()"
   ]
  },
  {
   "cell_type": "code",
   "execution_count": 52,
   "metadata": {
    "id": "1uYEqJ89B_Ji"
   },
   "outputs": [],
   "source": [
    "balanced_data.to_csv('balanced_data.csv', index=False)"
   ]
  },
  {
   "cell_type": "code",
   "execution_count": 53,
   "metadata": {},
   "outputs": [],
   "source": [
    "balanced_data_glove.to_csv('balanced_data_glove.csv', index=False)"
   ]
  },
  {
   "cell_type": "markdown",
   "metadata": {
    "jp-MarkdownHeadingCollapsed": true
   },
   "source": [
    "## **Embeddings Secuenciales roBERTa Twitter**"
   ]
  },
  {
   "cell_type": "code",
   "execution_count": 5,
   "metadata": {},
   "outputs": [
    {
     "data": {
      "text/plain": [
       "True"
      ]
     },
     "execution_count": 5,
     "metadata": {},
     "output_type": "execute_result"
    }
   ],
   "source": [
    "# Setting the device to use GPU\n",
    "\n",
    "device = torch.device(\"cuda\" if torch.cuda.is_available() else \"cpu\")\n",
    "torch.cuda.is_available()"
   ]
  },
  {
   "cell_type": "code",
   "execution_count": 6,
   "metadata": {},
   "outputs": [
    {
     "data": {
      "text/plain": [
       "RobertaModel(\n",
       "  (embeddings): RobertaEmbeddings(\n",
       "    (word_embeddings): Embedding(50265, 768, padding_idx=1)\n",
       "    (position_embeddings): Embedding(514, 768, padding_idx=1)\n",
       "    (token_type_embeddings): Embedding(1, 768)\n",
       "    (LayerNorm): LayerNorm((768,), eps=1e-05, elementwise_affine=True)\n",
       "    (dropout): Dropout(p=0.1, inplace=False)\n",
       "  )\n",
       "  (encoder): RobertaEncoder(\n",
       "    (layer): ModuleList(\n",
       "      (0-11): 12 x RobertaLayer(\n",
       "        (attention): RobertaAttention(\n",
       "          (self): RobertaSdpaSelfAttention(\n",
       "            (query): Linear(in_features=768, out_features=768, bias=True)\n",
       "            (key): Linear(in_features=768, out_features=768, bias=True)\n",
       "            (value): Linear(in_features=768, out_features=768, bias=True)\n",
       "            (dropout): Dropout(p=0.1, inplace=False)\n",
       "          )\n",
       "          (output): RobertaSelfOutput(\n",
       "            (dense): Linear(in_features=768, out_features=768, bias=True)\n",
       "            (LayerNorm): LayerNorm((768,), eps=1e-05, elementwise_affine=True)\n",
       "            (dropout): Dropout(p=0.1, inplace=False)\n",
       "          )\n",
       "        )\n",
       "        (intermediate): RobertaIntermediate(\n",
       "          (dense): Linear(in_features=768, out_features=3072, bias=True)\n",
       "          (intermediate_act_fn): GELUActivation()\n",
       "        )\n",
       "        (output): RobertaOutput(\n",
       "          (dense): Linear(in_features=3072, out_features=768, bias=True)\n",
       "          (LayerNorm): LayerNorm((768,), eps=1e-05, elementwise_affine=True)\n",
       "          (dropout): Dropout(p=0.1, inplace=False)\n",
       "        )\n",
       "      )\n",
       "    )\n",
       "  )\n",
       "  (pooler): RobertaPooler(\n",
       "    (dense): Linear(in_features=768, out_features=768, bias=True)\n",
       "    (activation): Tanh()\n",
       "  )\n",
       ")"
      ]
     },
     "execution_count": 6,
     "metadata": {},
     "output_type": "execute_result"
    }
   ],
   "source": [
    "# Instanciating pre trained model\n",
    "\n",
    "model_name = \"cardiffnlp/twitter-roberta-base\"\n",
    "tokenizer = AutoTokenizer.from_pretrained(model_name)\n",
    "model = AutoModel.from_pretrained(model_name)\n",
    "model.eval()\n",
    "model.to(device)"
   ]
  },
  {
   "cell_type": "code",
   "execution_count": 12,
   "metadata": {},
   "outputs": [],
   "source": [
    "# Reading the stored data\n",
    "\n",
    "data = pd.read_csv('balanced_data.csv')\n",
    "tweets = data['tweet'].astype(str).values"
   ]
  },
  {
   "cell_type": "code",
   "execution_count": 22,
   "metadata": {},
   "outputs": [
    {
     "name": "stderr",
     "output_type": "stream",
     "text": [
      "Generando embeddings...: 100%|███████████| 47696/47696 [01:41<00:00, 467.69it/s]\n"
     ]
    }
   ],
   "source": [
    "# Generating the embeddings\n",
    "\n",
    "embeddings = []\n",
    "\n",
    "for tweet in tqdm(tweets, desc = \"Generando embeddings...\"):\n",
    "    inputs = tokenizer(tweet, padding='max_length', max_length=32, truncation = True, return_tensors=\"pt\")\n",
    "    inputs = {k: v.to(device) for k, v in inputs.items()}\n",
    "\n",
    "    with torch.no_grad():\n",
    "        outputs = model(**inputs)\n",
    "\n",
    "    embeddings.append(outputs.last_hidden_state.squeeze(0))\n",
    "\n",
    "embeddings_tensor = torch.stack(embeddings).cpu().numpy()\n",
    "    \n"
   ]
  },
  {
   "cell_type": "code",
   "execution_count": 23,
   "metadata": {},
   "outputs": [],
   "source": [
    "# Storing the embeddings\n",
    "\n",
    "np.save('embeddings_data_sequencial.npy', embeddings_tensor)"
   ]
  },
  {
   "cell_type": "markdown",
   "metadata": {
    "jp-MarkdownHeadingCollapsed": true
   },
   "source": [
    "## **Embeddings Contextuales BERT**"
   ]
  },
  {
   "cell_type": "code",
   "execution_count": 76,
   "metadata": {},
   "outputs": [
    {
     "ename": "NameError",
     "evalue": "name 'init_empty_weights' is not defined",
     "output_type": "error",
     "traceback": [
      "\u001b[0;31m---------------------------------------------------------------------------\u001b[0m",
      "\u001b[0;31mNameError\u001b[0m                                 Traceback (most recent call last)",
      "Cell \u001b[0;32mIn[76], line 5\u001b[0m\n\u001b[1;32m      2\u001b[0m max_len \u001b[38;5;241m=\u001b[39m \u001b[38;5;241m64\u001b[39m\n\u001b[1;32m      4\u001b[0m tokenizer_roberta \u001b[38;5;241m=\u001b[39m AutoTokenizer\u001b[38;5;241m.\u001b[39mfrom_pretrained(model_name)\n\u001b[0;32m----> 5\u001b[0m model_roberta \u001b[38;5;241m=\u001b[39m \u001b[43mAutoModel\u001b[49m\u001b[38;5;241;43m.\u001b[39;49m\u001b[43mfrom_pretrained\u001b[49m\u001b[43m(\u001b[49m\u001b[43mmodel_name\u001b[49m\u001b[43m)\u001b[49m\n\u001b[1;32m      6\u001b[0m model_roberta\u001b[38;5;241m.\u001b[39meval()\n",
      "File \u001b[0;32m~/venv/lib/python3.10/site-packages/transformers/models/auto/auto_factory.py:571\u001b[0m, in \u001b[0;36m_BaseAutoModelClass.from_pretrained\u001b[0;34m(cls, pretrained_model_name_or_path, *model_args, **kwargs)\u001b[0m\n\u001b[1;32m    569\u001b[0m     \u001b[38;5;28;01mif\u001b[39;00m model_class\u001b[38;5;241m.\u001b[39mconfig_class \u001b[38;5;241m==\u001b[39m config\u001b[38;5;241m.\u001b[39msub_configs\u001b[38;5;241m.\u001b[39mget(\u001b[38;5;124m\"\u001b[39m\u001b[38;5;124mtext_config\u001b[39m\u001b[38;5;124m\"\u001b[39m, \u001b[38;5;28;01mNone\u001b[39;00m):\n\u001b[1;32m    570\u001b[0m         config \u001b[38;5;241m=\u001b[39m config\u001b[38;5;241m.\u001b[39mget_text_config()\n\u001b[0;32m--> 571\u001b[0m     \u001b[38;5;28;01mreturn\u001b[39;00m \u001b[43mmodel_class\u001b[49m\u001b[38;5;241;43m.\u001b[39;49m\u001b[43mfrom_pretrained\u001b[49m\u001b[43m(\u001b[49m\n\u001b[1;32m    572\u001b[0m \u001b[43m        \u001b[49m\u001b[43mpretrained_model_name_or_path\u001b[49m\u001b[43m,\u001b[49m\u001b[43m \u001b[49m\u001b[38;5;241;43m*\u001b[39;49m\u001b[43mmodel_args\u001b[49m\u001b[43m,\u001b[49m\u001b[43m \u001b[49m\u001b[43mconfig\u001b[49m\u001b[38;5;241;43m=\u001b[39;49m\u001b[43mconfig\u001b[49m\u001b[43m,\u001b[49m\u001b[43m \u001b[49m\u001b[38;5;241;43m*\u001b[39;49m\u001b[38;5;241;43m*\u001b[39;49m\u001b[43mhub_kwargs\u001b[49m\u001b[43m,\u001b[49m\u001b[43m \u001b[49m\u001b[38;5;241;43m*\u001b[39;49m\u001b[38;5;241;43m*\u001b[39;49m\u001b[43mkwargs\u001b[49m\n\u001b[1;32m    573\u001b[0m \u001b[43m    \u001b[49m\u001b[43m)\u001b[49m\n\u001b[1;32m    574\u001b[0m \u001b[38;5;28;01mraise\u001b[39;00m \u001b[38;5;167;01mValueError\u001b[39;00m(\n\u001b[1;32m    575\u001b[0m     \u001b[38;5;124mf\u001b[39m\u001b[38;5;124m\"\u001b[39m\u001b[38;5;124mUnrecognized configuration class \u001b[39m\u001b[38;5;132;01m{\u001b[39;00mconfig\u001b[38;5;241m.\u001b[39m\u001b[38;5;18m__class__\u001b[39m\u001b[38;5;132;01m}\u001b[39;00m\u001b[38;5;124m for this kind of AutoModel: \u001b[39m\u001b[38;5;132;01m{\u001b[39;00m\u001b[38;5;28mcls\u001b[39m\u001b[38;5;241m.\u001b[39m\u001b[38;5;18m__name__\u001b[39m\u001b[38;5;132;01m}\u001b[39;00m\u001b[38;5;124m.\u001b[39m\u001b[38;5;130;01m\\n\u001b[39;00m\u001b[38;5;124m\"\u001b[39m\n\u001b[1;32m    576\u001b[0m     \u001b[38;5;124mf\u001b[39m\u001b[38;5;124m\"\u001b[39m\u001b[38;5;124mModel type should be one of \u001b[39m\u001b[38;5;132;01m{\u001b[39;00m\u001b[38;5;124m'\u001b[39m\u001b[38;5;124m, \u001b[39m\u001b[38;5;124m'\u001b[39m\u001b[38;5;241m.\u001b[39mjoin(c\u001b[38;5;241m.\u001b[39m\u001b[38;5;18m__name__\u001b[39m\u001b[38;5;250m \u001b[39m\u001b[38;5;28;01mfor\u001b[39;00m\u001b[38;5;250m \u001b[39mc\u001b[38;5;250m \u001b[39m\u001b[38;5;129;01min\u001b[39;00m\u001b[38;5;250m \u001b[39m\u001b[38;5;28mcls\u001b[39m\u001b[38;5;241m.\u001b[39m_model_mapping\u001b[38;5;241m.\u001b[39mkeys())\u001b[38;5;132;01m}\u001b[39;00m\u001b[38;5;124m.\u001b[39m\u001b[38;5;124m\"\u001b[39m\n\u001b[1;32m    577\u001b[0m )\n",
      "File \u001b[0;32m~/venv/lib/python3.10/site-packages/transformers/modeling_utils.py:279\u001b[0m, in \u001b[0;36mrestore_default_torch_dtype.<locals>._wrapper\u001b[0;34m(*args, **kwargs)\u001b[0m\n\u001b[1;32m    277\u001b[0m old_dtype \u001b[38;5;241m=\u001b[39m torch\u001b[38;5;241m.\u001b[39mget_default_dtype()\n\u001b[1;32m    278\u001b[0m \u001b[38;5;28;01mtry\u001b[39;00m:\n\u001b[0;32m--> 279\u001b[0m     \u001b[38;5;28;01mreturn\u001b[39;00m \u001b[43mfunc\u001b[49m\u001b[43m(\u001b[49m\u001b[38;5;241;43m*\u001b[39;49m\u001b[43margs\u001b[49m\u001b[43m,\u001b[49m\u001b[43m \u001b[49m\u001b[38;5;241;43m*\u001b[39;49m\u001b[38;5;241;43m*\u001b[39;49m\u001b[43mkwargs\u001b[49m\u001b[43m)\u001b[49m\n\u001b[1;32m    280\u001b[0m \u001b[38;5;28;01mfinally\u001b[39;00m:\n\u001b[1;32m    281\u001b[0m     torch\u001b[38;5;241m.\u001b[39mset_default_dtype(old_dtype)\n",
      "File \u001b[0;32m~/venv/lib/python3.10/site-packages/transformers/modeling_utils.py:4333\u001b[0m, in \u001b[0;36mPreTrainedModel.from_pretrained\u001b[0;34m(cls, pretrained_model_name_or_path, config, cache_dir, ignore_mismatched_sizes, force_download, local_files_only, token, revision, use_safetensors, weights_only, *model_args, **kwargs)\u001b[0m\n\u001b[1;32m   4330\u001b[0m config\u001b[38;5;241m.\u001b[39mname_or_path \u001b[38;5;241m=\u001b[39m pretrained_model_name_or_path\n\u001b[1;32m   4332\u001b[0m \u001b[38;5;66;03m# Instantiate model.\u001b[39;00m\n\u001b[0;32m-> 4333\u001b[0m model_init_context \u001b[38;5;241m=\u001b[39m \u001b[38;5;28;43mcls\u001b[39;49m\u001b[38;5;241;43m.\u001b[39;49m\u001b[43mget_init_context\u001b[49m\u001b[43m(\u001b[49m\u001b[43mis_quantized\u001b[49m\u001b[43m,\u001b[49m\u001b[43m \u001b[49m\u001b[43m_is_ds_init_called\u001b[49m\u001b[43m)\u001b[49m\n\u001b[1;32m   4335\u001b[0m config \u001b[38;5;241m=\u001b[39m copy\u001b[38;5;241m.\u001b[39mdeepcopy(config)  \u001b[38;5;66;03m# We do not want to modify the config inplace in from_pretrained.\u001b[39;00m\n\u001b[1;32m   4336\u001b[0m \u001b[38;5;28;01mif\u001b[39;00m \u001b[38;5;129;01mnot\u001b[39;00m \u001b[38;5;28mgetattr\u001b[39m(config, \u001b[38;5;124m\"\u001b[39m\u001b[38;5;124m_attn_implementation_autoset\u001b[39m\u001b[38;5;124m\"\u001b[39m, \u001b[38;5;28;01mFalse\u001b[39;00m):\n",
      "File \u001b[0;32m~/venv/lib/python3.10/site-packages/transformers/modeling_utils.py:3736\u001b[0m, in \u001b[0;36mPreTrainedModel.get_init_context\u001b[0;34m(cls, is_quantized, _is_ds_init_called)\u001b[0m\n\u001b[1;32m   3734\u001b[0m         init_contexts\u001b[38;5;241m.\u001b[39mappend(set_quantized_state())\n\u001b[1;32m   3735\u001b[0m \u001b[38;5;28;01melse\u001b[39;00m:\n\u001b[0;32m-> 3736\u001b[0m     init_contexts \u001b[38;5;241m=\u001b[39m [no_init_weights(), \u001b[43minit_empty_weights\u001b[49m()]\n\u001b[1;32m   3738\u001b[0m \u001b[38;5;28;01mreturn\u001b[39;00m init_contexts\n",
      "\u001b[0;31mNameError\u001b[0m: name 'init_empty_weights' is not defined"
     ]
    }
   ],
   "source": [
    "model_name = 'cardiffnlp/twitter-roberta-base'\n",
    "max_len = 64\n",
    "\n",
    "tokenizer_roberta = AutoTokenizer.from_pretrained(model_name)\n",
    "model_roberta = AutoModel.from_pretrained(model_name)\n",
    "model_roberta.eval()"
   ]
  },
  {
   "cell_type": "code",
   "execution_count": null,
   "metadata": {},
   "outputs": [],
   "source": [
    "data = pd.read_csv('data/balanced_data.csv')\n",
    "tweets = data['tweet'].astype(str).tolist()"
   ]
  },
  {
   "cell_type": "code",
   "execution_count": null,
   "metadata": {},
   "outputs": [],
   "source": [
    "def mean_pooling(outputs, attention_mask):\n",
    "    token_embeddings = outputs.last_hidden_state\n",
    "    input_mask_expanded = attention_mask.unsqueeze(-1).expand(token_embeddings.size()).float()\n",
    "    sum_embeddings = torch.sum(token_embeddings * input_mask_expanded, dim=1)\n",
    "    sum_mask = input_mask_expanded.sum(1)\n",
    "    return sum_embeddings / sum_mask"
   ]
  },
  {
   "cell_type": "code",
   "execution_count": null,
   "metadata": {},
   "outputs": [],
   "source": [
    "def generate_embeddings(texts, model, tokenizer, max_len=64, device=None):\n",
    "    \n",
    "    if device is None:\n",
    "        device = torch.device(\"cuda\" if torch.cuda.is_available() else \"cpu\")\n",
    "    model.to(device)\n",
    "    model.eval()\n",
    "\n",
    "    embeddings_cls = []\n",
    "    embeddings_mean = []\n",
    "\n",
    "    for text in tqdm(texts, desc='Generando embeddings'):\n",
    "        inputs = tokenizer(text, return_tensors='pt', truncation=True, padding='max_length', max_length=max_len)\n",
    "        inputs = {k: v.to(device) for k, v in inputs.items()}\n",
    "        with torch.no_grad():\n",
    "            outputs = model(**inputs)\n",
    "\n",
    "        cls_embedding = outputs.last_hidden_state[:, 0, :].squeeze().cpu().numpy()\n",
    "        embeddings_cls.append(cls_embedding)\n",
    "\n",
    "        mean_embedding = mean_pooling(outputs, inputs['attention_mask']).squeeze().cpu().numpy()\n",
    "        embeddings_mean.append(mean_embedding)\n",
    "\n",
    "    return embeddings_cls, embeddings_mean"
   ]
  },
  {
   "cell_type": "code",
   "execution_count": null,
   "metadata": {},
   "outputs": [],
   "source": [
    "embeddings_cls, embeddings_mean = generate_embeddings(tweets, model_roberta, tokenizer_roberta, max_len)\n",
    "\n",
    "data[\"embedding_cls\"] = [vec.tolist() for vec in embeddings_cls]\n",
    "data[\"embedding_mean\"] = [vec.tolist() for vec in embeddings_mean]\n",
    "\n",
    "data.to_csv('data/embeddings_data.csv',index=False)"
   ]
  },
  {
   "cell_type": "code",
   "execution_count": null,
   "metadata": {},
   "outputs": [],
   "source": [
    "df = pd.read_csv(\"data/embeddings_data.csv\")\n",
    "df[\"embedding_mean\"] = df[\"embedding_mean\"].apply(ast.literal_eval)\n",
    "X = np.vstack(df[\"embedding_mean\"].values)\n",
    "labels = df[\"class\"].astype(str) if \"class\" in df.columns else None\n",
    "\n",
    "reducer = umap.UMAP(n_components=3, random_state=42)\n",
    "X_umap = reducer.fit_transform(X)\n",
    "\n",
    "fig = px.scatter_3d(\n",
    "    x=X_umap[:, 0],\n",
    "    y=X_umap[:, 1],\n",
    "    z=X_umap[:, 2],\n",
    "    color=labels,\n",
    "    title=\"UMAP 3D de embeddings de tweets\",\n",
    "    labels={\"color\": \"Clase\"}\n",
    ")\n",
    "fig.show()"
   ]
  },
  {
   "cell_type": "markdown",
   "metadata": {},
   "source": [
    "## **Machine Learning Models**"
   ]
  },
  {
   "cell_type": "markdown",
   "metadata": {},
   "source": [
    "### **Nicolas Bedoya Figueroa**"
   ]
  },
  {
   "cell_type": "markdown",
   "metadata": {},
   "source": [
    "### **Daniel Escalante Perez**"
   ]
  },
  {
   "cell_type": "markdown",
   "metadata": {},
   "source": [
    "### **XGBClassifier**"
   ]
  },
  {
   "cell_type": "code",
   "execution_count": 7,
   "metadata": {
    "scrolled": true
   },
   "outputs": [],
   "source": [
    "# Loading the embedded data\n",
    "\n",
    "data = pd.read_csv(\"./embeddings_data.csv\")"
   ]
  },
  {
   "cell_type": "code",
   "execution_count": 8,
   "metadata": {},
   "outputs": [
    {
     "data": {
      "text/plain": [
       "(47690, 4)"
      ]
     },
     "execution_count": 8,
     "metadata": {},
     "output_type": "execute_result"
    }
   ],
   "source": [
    "data.shape"
   ]
  },
  {
   "cell_type": "code",
   "execution_count": 9,
   "metadata": {},
   "outputs": [],
   "source": [
    "# Splitting the characteristics and label\n",
    "\n",
    "X = np.vstack([np.array(ast.literal_eval(vec), dtype=float) for vec in data[\"embedding_cls\"]])\n",
    "y = data[\"class\"].values"
   ]
  },
  {
   "cell_type": "code",
   "execution_count": 10,
   "metadata": {},
   "outputs": [],
   "source": [
    "# Splitting the train and test set\n",
    "\n",
    "X_train, X_test, y_train, y_test = train_test_split(X, y, test_size=0.2, random_state=611, shuffle = True)"
   ]
  },
  {
   "cell_type": "code",
   "execution_count": 11,
   "metadata": {},
   "outputs": [
    {
     "data": {
      "text/plain": [
       "(38152, 768)"
      ]
     },
     "execution_count": 11,
     "metadata": {},
     "output_type": "execute_result"
    }
   ],
   "source": [
    "X_train.shape"
   ]
  },
  {
   "cell_type": "code",
   "execution_count": 12,
   "metadata": {},
   "outputs": [],
   "source": [
    "# Parameter exploration grid\n",
    "param_grid = {\n",
    "    \"n_estimators\": [450, 500, 550],\n",
    "    \"max_depth\": [10, 20, 50],\n",
    "    \"min_child_weight\": [10, 5, 2]\n",
    "}\n",
    "\n",
    "# Grid search configuration\n",
    "characteristics = math.sqrt(X_train.shape[1]) / X_train.shape[1]\n",
    "model = XGBClassifier(tree_method=\"hist\", device=\"cuda\", subsample = 0.8, colsample_bytree = characteristics, colsample_bynode = characteristics)\n",
    "grid_search = GridSearchCV(model, param_grid, scoring = \"accuracy\", n_jobs = 2, cv = 3, verbose = 3, return_train_score = True)"
   ]
  },
  {
   "cell_type": "code",
   "execution_count": 36,
   "metadata": {
    "scrolled": true
   },
   "outputs": [
    {
     "name": "stdout",
     "output_type": "stream",
     "text": [
      "Fitting 3 folds for each of 9 candidates, totalling 27 fits\n"
     ]
    },
    {
     "name": "stderr",
     "output_type": "stream",
     "text": [
      "/home/sis.virtual.uniandes.edu.co/d.escalante/venv/lib/python3.10/site-packages/xgboost/core.py:729: UserWarning: [15:48:07] WARNING: /workspace/src/common/error_msg.cc:58: Falling back to prediction using DMatrix due to mismatched devices. This might lead to higher memory usage and slower performance. XGBoost is running on: cuda:0, while the input data is on: cpu.\n",
      "Potential solutions:\n",
      "- Use a data structure that matches the device ordinal in the booster.\n",
      "- Set the device for booster before call to inplace_predict.\n",
      "\n",
      "This warning will only be shown once.\n",
      "\n",
      "  return func(**kwargs)\n",
      "/home/sis.virtual.uniandes.edu.co/d.escalante/venv/lib/python3.10/site-packages/xgboost/core.py:729: UserWarning: [15:48:07] WARNING: /workspace/src/common/error_msg.cc:58: Falling back to prediction using DMatrix due to mismatched devices. This might lead to higher memory usage and slower performance. XGBoost is running on: cuda:0, while the input data is on: cpu.\n",
      "Potential solutions:\n",
      "- Use a data structure that matches the device ordinal in the booster.\n",
      "- Set the device for booster before call to inplace_predict.\n",
      "\n",
      "This warning will only be shown once.\n",
      "\n",
      "  return func(**kwargs)\n"
     ]
    },
    {
     "name": "stdout",
     "output_type": "stream",
     "text": [
      "[CV 1/3] END max_depth=19, min_child_weight=2, n_estimators=490;, score=(train=1.000, test=0.855) total time=  47.1s\n",
      "[CV 3/3] END max_depth=19, min_child_weight=2, n_estimators=490;, score=(train=1.000, test=0.848) total time=  45.7s\n",
      "[CV 2/3] END max_depth=19, min_child_weight=2, n_estimators=500;, score=(train=1.000, test=0.847) total time=  45.0s\n"
     ]
    },
    {
     "name": "stderr",
     "output_type": "stream",
     "text": [
      "/home/sis.virtual.uniandes.edu.co/d.escalante/venv/lib/python3.10/site-packages/joblib/externals/loky/process_executor.py:752: UserWarning: A worker stopped while some jobs were given to the executor. This can be caused by a too short worker timeout or by a memory leak.\n",
      "  warnings.warn(\n"
     ]
    },
    {
     "name": "stdout",
     "output_type": "stream",
     "text": [
      "[CV 2/3] END max_depth=19, min_child_weight=2, n_estimators=490;, score=(train=1.000, test=0.847) total time=  47.2s\n",
      "[CV 1/3] END max_depth=19, min_child_weight=2, n_estimators=500;, score=(train=1.000, test=0.854) total time=  46.7s\n",
      "[CV 3/3] END max_depth=19, min_child_weight=2, n_estimators=500;, score=(train=1.000, test=0.847) total time=  44.9s\n"
     ]
    },
    {
     "name": "stderr",
     "output_type": "stream",
     "text": [
      "/home/sis.virtual.uniandes.edu.co/d.escalante/venv/lib/python3.10/site-packages/xgboost/core.py:729: UserWarning: [15:50:19] WARNING: /workspace/src/common/error_msg.cc:58: Falling back to prediction using DMatrix due to mismatched devices. This might lead to higher memory usage and slower performance. XGBoost is running on: cuda:0, while the input data is on: cpu.\n",
      "Potential solutions:\n",
      "- Use a data structure that matches the device ordinal in the booster.\n",
      "- Set the device for booster before call to inplace_predict.\n",
      "\n",
      "This warning will only be shown once.\n",
      "\n",
      "  return func(**kwargs)\n",
      "/home/sis.virtual.uniandes.edu.co/d.escalante/venv/lib/python3.10/site-packages/xgboost/core.py:729: UserWarning: [15:50:27] WARNING: /workspace/src/common/error_msg.cc:58: Falling back to prediction using DMatrix due to mismatched devices. This might lead to higher memory usage and slower performance. XGBoost is running on: cuda:0, while the input data is on: cpu.\n",
      "Potential solutions:\n",
      "- Use a data structure that matches the device ordinal in the booster.\n",
      "- Set the device for booster before call to inplace_predict.\n",
      "\n",
      "This warning will only be shown once.\n",
      "\n",
      "  return func(**kwargs)\n"
     ]
    },
    {
     "name": "stdout",
     "output_type": "stream",
     "text": [
      "[CV 1/3] END max_depth=19, min_child_weight=2, n_estimators=510;, score=(train=1.000, test=0.855) total time=  40.3s\n",
      "[CV 3/3] END max_depth=19, min_child_weight=2, n_estimators=510;, score=(train=1.000, test=0.848) total time=  44.1s\n",
      "[CV 2/3] END max_depth=20, min_child_weight=2, n_estimators=490;, score=(train=1.000, test=0.847) total time=  45.1s\n",
      "[CV 2/3] END max_depth=19, min_child_weight=2, n_estimators=510;, score=(train=1.000, test=0.847) total time=  47.3s\n",
      "[CV 1/3] END max_depth=20, min_child_weight=2, n_estimators=490;, score=(train=1.000, test=0.855) total time=  46.7s\n",
      "[CV 3/3] END max_depth=20, min_child_weight=2, n_estimators=490;, score=(train=1.000, test=0.853) total time=  44.0s\n"
     ]
    },
    {
     "name": "stderr",
     "output_type": "stream",
     "text": [
      "/home/sis.virtual.uniandes.edu.co/d.escalante/venv/lib/python3.10/site-packages/xgboost/core.py:729: UserWarning: [15:52:29] WARNING: /workspace/src/common/error_msg.cc:58: Falling back to prediction using DMatrix due to mismatched devices. This might lead to higher memory usage and slower performance. XGBoost is running on: cuda:0, while the input data is on: cpu.\n",
      "Potential solutions:\n",
      "- Use a data structure that matches the device ordinal in the booster.\n",
      "- Set the device for booster before call to inplace_predict.\n",
      "\n",
      "This warning will only be shown once.\n",
      "\n",
      "  return func(**kwargs)\n",
      "/home/sis.virtual.uniandes.edu.co/d.escalante/venv/lib/python3.10/site-packages/xgboost/core.py:729: UserWarning: [15:52:45] WARNING: /workspace/src/common/error_msg.cc:58: Falling back to prediction using DMatrix due to mismatched devices. This might lead to higher memory usage and slower performance. XGBoost is running on: cuda:0, while the input data is on: cpu.\n",
      "Potential solutions:\n",
      "- Use a data structure that matches the device ordinal in the booster.\n",
      "- Set the device for booster before call to inplace_predict.\n",
      "\n",
      "This warning will only be shown once.\n",
      "\n",
      "  return func(**kwargs)\n"
     ]
    },
    {
     "name": "stdout",
     "output_type": "stream",
     "text": [
      "[CV 1/3] END max_depth=20, min_child_weight=2, n_estimators=500;, score=(train=1.000, test=0.856) total time=  40.5s\n",
      "[CV 3/3] END max_depth=20, min_child_weight=2, n_estimators=500;, score=(train=1.000, test=0.853) total time=  45.1s\n",
      "[CV 2/3] END max_depth=20, min_child_weight=2, n_estimators=510;, score=(train=1.000, test=0.847) total time=  46.1s\n",
      "[CV 2/3] END max_depth=20, min_child_weight=2, n_estimators=500;, score=(train=1.000, test=0.847) total time=  46.5s\n",
      "[CV 1/3] END max_depth=20, min_child_weight=2, n_estimators=510;, score=(train=1.000, test=0.855) total time=  46.8s\n",
      "[CV 3/3] END max_depth=20, min_child_weight=2, n_estimators=510;, score=(train=1.000, test=0.854) total time=  43.9s\n"
     ]
    },
    {
     "name": "stderr",
     "output_type": "stream",
     "text": [
      "/home/sis.virtual.uniandes.edu.co/d.escalante/venv/lib/python3.10/site-packages/xgboost/core.py:729: UserWarning: [15:54:42] WARNING: /workspace/src/common/error_msg.cc:58: Falling back to prediction using DMatrix due to mismatched devices. This might lead to higher memory usage and slower performance. XGBoost is running on: cuda:0, while the input data is on: cpu.\n",
      "Potential solutions:\n",
      "- Use a data structure that matches the device ordinal in the booster.\n",
      "- Set the device for booster before call to inplace_predict.\n",
      "\n",
      "This warning will only be shown once.\n",
      "\n",
      "  return func(**kwargs)\n",
      "/home/sis.virtual.uniandes.edu.co/d.escalante/venv/lib/python3.10/site-packages/xgboost/core.py:729: UserWarning: [15:55:02] WARNING: /workspace/src/common/error_msg.cc:58: Falling back to prediction using DMatrix due to mismatched devices. This might lead to higher memory usage and slower performance. XGBoost is running on: cuda:0, while the input data is on: cpu.\n",
      "Potential solutions:\n",
      "- Use a data structure that matches the device ordinal in the booster.\n",
      "- Set the device for booster before call to inplace_predict.\n",
      "\n",
      "This warning will only be shown once.\n",
      "\n",
      "  return func(**kwargs)\n"
     ]
    },
    {
     "name": "stdout",
     "output_type": "stream",
     "text": [
      "[CV 1/3] END max_depth=21, min_child_weight=2, n_estimators=490;, score=(train=1.000, test=0.857) total time=  41.2s\n",
      "[CV 3/3] END max_depth=21, min_child_weight=2, n_estimators=490;, score=(train=1.000, test=0.847) total time=  45.5s\n",
      "[CV 2/3] END max_depth=21, min_child_weight=2, n_estimators=500;, score=(train=1.000, test=0.852) total time=  45.9s\n",
      "[CV 2/3] END max_depth=21, min_child_weight=2, n_estimators=490;, score=(train=1.000, test=0.850) total time=  45.9s\n",
      "[CV 1/3] END max_depth=21, min_child_weight=2, n_estimators=500;, score=(train=1.000, test=0.857) total time=  46.0s\n",
      "[CV 3/3] END max_depth=21, min_child_weight=2, n_estimators=500;, score=(train=1.000, test=0.846) total time=  43.6s\n"
     ]
    },
    {
     "name": "stderr",
     "output_type": "stream",
     "text": [
      "/home/sis.virtual.uniandes.edu.co/d.escalante/venv/lib/python3.10/site-packages/xgboost/core.py:729: UserWarning: [15:56:57] WARNING: /workspace/src/common/error_msg.cc:58: Falling back to prediction using DMatrix due to mismatched devices. This might lead to higher memory usage and slower performance. XGBoost is running on: cuda:0, while the input data is on: cpu.\n",
      "Potential solutions:\n",
      "- Use a data structure that matches the device ordinal in the booster.\n",
      "- Set the device for booster before call to inplace_predict.\n",
      "\n",
      "This warning will only be shown once.\n",
      "\n",
      "  return func(**kwargs)\n",
      "/home/sis.virtual.uniandes.edu.co/d.escalante/venv/lib/python3.10/site-packages/xgboost/core.py:729: UserWarning: [15:57:19] WARNING: /workspace/src/common/error_msg.cc:58: Falling back to prediction using DMatrix due to mismatched devices. This might lead to higher memory usage and slower performance. XGBoost is running on: cuda:0, while the input data is on: cpu.\n",
      "Potential solutions:\n",
      "- Use a data structure that matches the device ordinal in the booster.\n",
      "- Set the device for booster before call to inplace_predict.\n",
      "\n",
      "This warning will only be shown once.\n",
      "\n",
      "  return func(**kwargs)\n"
     ]
    },
    {
     "data": {
      "text/html": [
       "<style>#sk-container-id-6 {\n",
       "  /* Definition of color scheme common for light and dark mode */\n",
       "  --sklearn-color-text: #000;\n",
       "  --sklearn-color-text-muted: #666;\n",
       "  --sklearn-color-line: gray;\n",
       "  /* Definition of color scheme for unfitted estimators */\n",
       "  --sklearn-color-unfitted-level-0: #fff5e6;\n",
       "  --sklearn-color-unfitted-level-1: #f6e4d2;\n",
       "  --sklearn-color-unfitted-level-2: #ffe0b3;\n",
       "  --sklearn-color-unfitted-level-3: chocolate;\n",
       "  /* Definition of color scheme for fitted estimators */\n",
       "  --sklearn-color-fitted-level-0: #f0f8ff;\n",
       "  --sklearn-color-fitted-level-1: #d4ebff;\n",
       "  --sklearn-color-fitted-level-2: #b3dbfd;\n",
       "  --sklearn-color-fitted-level-3: cornflowerblue;\n",
       "\n",
       "  /* Specific color for light theme */\n",
       "  --sklearn-color-text-on-default-background: var(--sg-text-color, var(--theme-code-foreground, var(--jp-content-font-color1, black)));\n",
       "  --sklearn-color-background: var(--sg-background-color, var(--theme-background, var(--jp-layout-color0, white)));\n",
       "  --sklearn-color-border-box: var(--sg-text-color, var(--theme-code-foreground, var(--jp-content-font-color1, black)));\n",
       "  --sklearn-color-icon: #696969;\n",
       "\n",
       "  @media (prefers-color-scheme: dark) {\n",
       "    /* Redefinition of color scheme for dark theme */\n",
       "    --sklearn-color-text-on-default-background: var(--sg-text-color, var(--theme-code-foreground, var(--jp-content-font-color1, white)));\n",
       "    --sklearn-color-background: var(--sg-background-color, var(--theme-background, var(--jp-layout-color0, #111)));\n",
       "    --sklearn-color-border-box: var(--sg-text-color, var(--theme-code-foreground, var(--jp-content-font-color1, white)));\n",
       "    --sklearn-color-icon: #878787;\n",
       "  }\n",
       "}\n",
       "\n",
       "#sk-container-id-6 {\n",
       "  color: var(--sklearn-color-text);\n",
       "}\n",
       "\n",
       "#sk-container-id-6 pre {\n",
       "  padding: 0;\n",
       "}\n",
       "\n",
       "#sk-container-id-6 input.sk-hidden--visually {\n",
       "  border: 0;\n",
       "  clip: rect(1px 1px 1px 1px);\n",
       "  clip: rect(1px, 1px, 1px, 1px);\n",
       "  height: 1px;\n",
       "  margin: -1px;\n",
       "  overflow: hidden;\n",
       "  padding: 0;\n",
       "  position: absolute;\n",
       "  width: 1px;\n",
       "}\n",
       "\n",
       "#sk-container-id-6 div.sk-dashed-wrapped {\n",
       "  border: 1px dashed var(--sklearn-color-line);\n",
       "  margin: 0 0.4em 0.5em 0.4em;\n",
       "  box-sizing: border-box;\n",
       "  padding-bottom: 0.4em;\n",
       "  background-color: var(--sklearn-color-background);\n",
       "}\n",
       "\n",
       "#sk-container-id-6 div.sk-container {\n",
       "  /* jupyter's `normalize.less` sets `[hidden] { display: none; }`\n",
       "     but bootstrap.min.css set `[hidden] { display: none !important; }`\n",
       "     so we also need the `!important` here to be able to override the\n",
       "     default hidden behavior on the sphinx rendered scikit-learn.org.\n",
       "     See: https://github.com/scikit-learn/scikit-learn/issues/21755 */\n",
       "  display: inline-block !important;\n",
       "  position: relative;\n",
       "}\n",
       "\n",
       "#sk-container-id-6 div.sk-text-repr-fallback {\n",
       "  display: none;\n",
       "}\n",
       "\n",
       "div.sk-parallel-item,\n",
       "div.sk-serial,\n",
       "div.sk-item {\n",
       "  /* draw centered vertical line to link estimators */\n",
       "  background-image: linear-gradient(var(--sklearn-color-text-on-default-background), var(--sklearn-color-text-on-default-background));\n",
       "  background-size: 2px 100%;\n",
       "  background-repeat: no-repeat;\n",
       "  background-position: center center;\n",
       "}\n",
       "\n",
       "/* Parallel-specific style estimator block */\n",
       "\n",
       "#sk-container-id-6 div.sk-parallel-item::after {\n",
       "  content: \"\";\n",
       "  width: 100%;\n",
       "  border-bottom: 2px solid var(--sklearn-color-text-on-default-background);\n",
       "  flex-grow: 1;\n",
       "}\n",
       "\n",
       "#sk-container-id-6 div.sk-parallel {\n",
       "  display: flex;\n",
       "  align-items: stretch;\n",
       "  justify-content: center;\n",
       "  background-color: var(--sklearn-color-background);\n",
       "  position: relative;\n",
       "}\n",
       "\n",
       "#sk-container-id-6 div.sk-parallel-item {\n",
       "  display: flex;\n",
       "  flex-direction: column;\n",
       "}\n",
       "\n",
       "#sk-container-id-6 div.sk-parallel-item:first-child::after {\n",
       "  align-self: flex-end;\n",
       "  width: 50%;\n",
       "}\n",
       "\n",
       "#sk-container-id-6 div.sk-parallel-item:last-child::after {\n",
       "  align-self: flex-start;\n",
       "  width: 50%;\n",
       "}\n",
       "\n",
       "#sk-container-id-6 div.sk-parallel-item:only-child::after {\n",
       "  width: 0;\n",
       "}\n",
       "\n",
       "/* Serial-specific style estimator block */\n",
       "\n",
       "#sk-container-id-6 div.sk-serial {\n",
       "  display: flex;\n",
       "  flex-direction: column;\n",
       "  align-items: center;\n",
       "  background-color: var(--sklearn-color-background);\n",
       "  padding-right: 1em;\n",
       "  padding-left: 1em;\n",
       "}\n",
       "\n",
       "\n",
       "/* Toggleable style: style used for estimator/Pipeline/ColumnTransformer box that is\n",
       "clickable and can be expanded/collapsed.\n",
       "- Pipeline and ColumnTransformer use this feature and define the default style\n",
       "- Estimators will overwrite some part of the style using the `sk-estimator` class\n",
       "*/\n",
       "\n",
       "/* Pipeline and ColumnTransformer style (default) */\n",
       "\n",
       "#sk-container-id-6 div.sk-toggleable {\n",
       "  /* Default theme specific background. It is overwritten whether we have a\n",
       "  specific estimator or a Pipeline/ColumnTransformer */\n",
       "  background-color: var(--sklearn-color-background);\n",
       "}\n",
       "\n",
       "/* Toggleable label */\n",
       "#sk-container-id-6 label.sk-toggleable__label {\n",
       "  cursor: pointer;\n",
       "  display: flex;\n",
       "  width: 100%;\n",
       "  margin-bottom: 0;\n",
       "  padding: 0.5em;\n",
       "  box-sizing: border-box;\n",
       "  text-align: center;\n",
       "  align-items: start;\n",
       "  justify-content: space-between;\n",
       "  gap: 0.5em;\n",
       "}\n",
       "\n",
       "#sk-container-id-6 label.sk-toggleable__label .caption {\n",
       "  font-size: 0.6rem;\n",
       "  font-weight: lighter;\n",
       "  color: var(--sklearn-color-text-muted);\n",
       "}\n",
       "\n",
       "#sk-container-id-6 label.sk-toggleable__label-arrow:before {\n",
       "  /* Arrow on the left of the label */\n",
       "  content: \"▸\";\n",
       "  float: left;\n",
       "  margin-right: 0.25em;\n",
       "  color: var(--sklearn-color-icon);\n",
       "}\n",
       "\n",
       "#sk-container-id-6 label.sk-toggleable__label-arrow:hover:before {\n",
       "  color: var(--sklearn-color-text);\n",
       "}\n",
       "\n",
       "/* Toggleable content - dropdown */\n",
       "\n",
       "#sk-container-id-6 div.sk-toggleable__content {\n",
       "  max-height: 0;\n",
       "  max-width: 0;\n",
       "  overflow: hidden;\n",
       "  text-align: left;\n",
       "  /* unfitted */\n",
       "  background-color: var(--sklearn-color-unfitted-level-0);\n",
       "}\n",
       "\n",
       "#sk-container-id-6 div.sk-toggleable__content.fitted {\n",
       "  /* fitted */\n",
       "  background-color: var(--sklearn-color-fitted-level-0);\n",
       "}\n",
       "\n",
       "#sk-container-id-6 div.sk-toggleable__content pre {\n",
       "  margin: 0.2em;\n",
       "  border-radius: 0.25em;\n",
       "  color: var(--sklearn-color-text);\n",
       "  /* unfitted */\n",
       "  background-color: var(--sklearn-color-unfitted-level-0);\n",
       "}\n",
       "\n",
       "#sk-container-id-6 div.sk-toggleable__content.fitted pre {\n",
       "  /* unfitted */\n",
       "  background-color: var(--sklearn-color-fitted-level-0);\n",
       "}\n",
       "\n",
       "#sk-container-id-6 input.sk-toggleable__control:checked~div.sk-toggleable__content {\n",
       "  /* Expand drop-down */\n",
       "  max-height: 200px;\n",
       "  max-width: 100%;\n",
       "  overflow: auto;\n",
       "}\n",
       "\n",
       "#sk-container-id-6 input.sk-toggleable__control:checked~label.sk-toggleable__label-arrow:before {\n",
       "  content: \"▾\";\n",
       "}\n",
       "\n",
       "/* Pipeline/ColumnTransformer-specific style */\n",
       "\n",
       "#sk-container-id-6 div.sk-label input.sk-toggleable__control:checked~label.sk-toggleable__label {\n",
       "  color: var(--sklearn-color-text);\n",
       "  background-color: var(--sklearn-color-unfitted-level-2);\n",
       "}\n",
       "\n",
       "#sk-container-id-6 div.sk-label.fitted input.sk-toggleable__control:checked~label.sk-toggleable__label {\n",
       "  background-color: var(--sklearn-color-fitted-level-2);\n",
       "}\n",
       "\n",
       "/* Estimator-specific style */\n",
       "\n",
       "/* Colorize estimator box */\n",
       "#sk-container-id-6 div.sk-estimator input.sk-toggleable__control:checked~label.sk-toggleable__label {\n",
       "  /* unfitted */\n",
       "  background-color: var(--sklearn-color-unfitted-level-2);\n",
       "}\n",
       "\n",
       "#sk-container-id-6 div.sk-estimator.fitted input.sk-toggleable__control:checked~label.sk-toggleable__label {\n",
       "  /* fitted */\n",
       "  background-color: var(--sklearn-color-fitted-level-2);\n",
       "}\n",
       "\n",
       "#sk-container-id-6 div.sk-label label.sk-toggleable__label,\n",
       "#sk-container-id-6 div.sk-label label {\n",
       "  /* The background is the default theme color */\n",
       "  color: var(--sklearn-color-text-on-default-background);\n",
       "}\n",
       "\n",
       "/* On hover, darken the color of the background */\n",
       "#sk-container-id-6 div.sk-label:hover label.sk-toggleable__label {\n",
       "  color: var(--sklearn-color-text);\n",
       "  background-color: var(--sklearn-color-unfitted-level-2);\n",
       "}\n",
       "\n",
       "/* Label box, darken color on hover, fitted */\n",
       "#sk-container-id-6 div.sk-label.fitted:hover label.sk-toggleable__label.fitted {\n",
       "  color: var(--sklearn-color-text);\n",
       "  background-color: var(--sklearn-color-fitted-level-2);\n",
       "}\n",
       "\n",
       "/* Estimator label */\n",
       "\n",
       "#sk-container-id-6 div.sk-label label {\n",
       "  font-family: monospace;\n",
       "  font-weight: bold;\n",
       "  display: inline-block;\n",
       "  line-height: 1.2em;\n",
       "}\n",
       "\n",
       "#sk-container-id-6 div.sk-label-container {\n",
       "  text-align: center;\n",
       "}\n",
       "\n",
       "/* Estimator-specific */\n",
       "#sk-container-id-6 div.sk-estimator {\n",
       "  font-family: monospace;\n",
       "  border: 1px dotted var(--sklearn-color-border-box);\n",
       "  border-radius: 0.25em;\n",
       "  box-sizing: border-box;\n",
       "  margin-bottom: 0.5em;\n",
       "  /* unfitted */\n",
       "  background-color: var(--sklearn-color-unfitted-level-0);\n",
       "}\n",
       "\n",
       "#sk-container-id-6 div.sk-estimator.fitted {\n",
       "  /* fitted */\n",
       "  background-color: var(--sklearn-color-fitted-level-0);\n",
       "}\n",
       "\n",
       "/* on hover */\n",
       "#sk-container-id-6 div.sk-estimator:hover {\n",
       "  /* unfitted */\n",
       "  background-color: var(--sklearn-color-unfitted-level-2);\n",
       "}\n",
       "\n",
       "#sk-container-id-6 div.sk-estimator.fitted:hover {\n",
       "  /* fitted */\n",
       "  background-color: var(--sklearn-color-fitted-level-2);\n",
       "}\n",
       "\n",
       "/* Specification for estimator info (e.g. \"i\" and \"?\") */\n",
       "\n",
       "/* Common style for \"i\" and \"?\" */\n",
       "\n",
       ".sk-estimator-doc-link,\n",
       "a:link.sk-estimator-doc-link,\n",
       "a:visited.sk-estimator-doc-link {\n",
       "  float: right;\n",
       "  font-size: smaller;\n",
       "  line-height: 1em;\n",
       "  font-family: monospace;\n",
       "  background-color: var(--sklearn-color-background);\n",
       "  border-radius: 1em;\n",
       "  height: 1em;\n",
       "  width: 1em;\n",
       "  text-decoration: none !important;\n",
       "  margin-left: 0.5em;\n",
       "  text-align: center;\n",
       "  /* unfitted */\n",
       "  border: var(--sklearn-color-unfitted-level-1) 1pt solid;\n",
       "  color: var(--sklearn-color-unfitted-level-1);\n",
       "}\n",
       "\n",
       ".sk-estimator-doc-link.fitted,\n",
       "a:link.sk-estimator-doc-link.fitted,\n",
       "a:visited.sk-estimator-doc-link.fitted {\n",
       "  /* fitted */\n",
       "  border: var(--sklearn-color-fitted-level-1) 1pt solid;\n",
       "  color: var(--sklearn-color-fitted-level-1);\n",
       "}\n",
       "\n",
       "/* On hover */\n",
       "div.sk-estimator:hover .sk-estimator-doc-link:hover,\n",
       ".sk-estimator-doc-link:hover,\n",
       "div.sk-label-container:hover .sk-estimator-doc-link:hover,\n",
       ".sk-estimator-doc-link:hover {\n",
       "  /* unfitted */\n",
       "  background-color: var(--sklearn-color-unfitted-level-3);\n",
       "  color: var(--sklearn-color-background);\n",
       "  text-decoration: none;\n",
       "}\n",
       "\n",
       "div.sk-estimator.fitted:hover .sk-estimator-doc-link.fitted:hover,\n",
       ".sk-estimator-doc-link.fitted:hover,\n",
       "div.sk-label-container:hover .sk-estimator-doc-link.fitted:hover,\n",
       ".sk-estimator-doc-link.fitted:hover {\n",
       "  /* fitted */\n",
       "  background-color: var(--sklearn-color-fitted-level-3);\n",
       "  color: var(--sklearn-color-background);\n",
       "  text-decoration: none;\n",
       "}\n",
       "\n",
       "/* Span, style for the box shown on hovering the info icon */\n",
       ".sk-estimator-doc-link span {\n",
       "  display: none;\n",
       "  z-index: 9999;\n",
       "  position: relative;\n",
       "  font-weight: normal;\n",
       "  right: .2ex;\n",
       "  padding: .5ex;\n",
       "  margin: .5ex;\n",
       "  width: min-content;\n",
       "  min-width: 20ex;\n",
       "  max-width: 50ex;\n",
       "  color: var(--sklearn-color-text);\n",
       "  box-shadow: 2pt 2pt 4pt #999;\n",
       "  /* unfitted */\n",
       "  background: var(--sklearn-color-unfitted-level-0);\n",
       "  border: .5pt solid var(--sklearn-color-unfitted-level-3);\n",
       "}\n",
       "\n",
       ".sk-estimator-doc-link.fitted span {\n",
       "  /* fitted */\n",
       "  background: var(--sklearn-color-fitted-level-0);\n",
       "  border: var(--sklearn-color-fitted-level-3);\n",
       "}\n",
       "\n",
       ".sk-estimator-doc-link:hover span {\n",
       "  display: block;\n",
       "}\n",
       "\n",
       "/* \"?\"-specific style due to the `<a>` HTML tag */\n",
       "\n",
       "#sk-container-id-6 a.estimator_doc_link {\n",
       "  float: right;\n",
       "  font-size: 1rem;\n",
       "  line-height: 1em;\n",
       "  font-family: monospace;\n",
       "  background-color: var(--sklearn-color-background);\n",
       "  border-radius: 1rem;\n",
       "  height: 1rem;\n",
       "  width: 1rem;\n",
       "  text-decoration: none;\n",
       "  /* unfitted */\n",
       "  color: var(--sklearn-color-unfitted-level-1);\n",
       "  border: var(--sklearn-color-unfitted-level-1) 1pt solid;\n",
       "}\n",
       "\n",
       "#sk-container-id-6 a.estimator_doc_link.fitted {\n",
       "  /* fitted */\n",
       "  border: var(--sklearn-color-fitted-level-1) 1pt solid;\n",
       "  color: var(--sklearn-color-fitted-level-1);\n",
       "}\n",
       "\n",
       "/* On hover */\n",
       "#sk-container-id-6 a.estimator_doc_link:hover {\n",
       "  /* unfitted */\n",
       "  background-color: var(--sklearn-color-unfitted-level-3);\n",
       "  color: var(--sklearn-color-background);\n",
       "  text-decoration: none;\n",
       "}\n",
       "\n",
       "#sk-container-id-6 a.estimator_doc_link.fitted:hover {\n",
       "  /* fitted */\n",
       "  background-color: var(--sklearn-color-fitted-level-3);\n",
       "}\n",
       "</style><div id=\"sk-container-id-6\" class=\"sk-top-container\"><div class=\"sk-text-repr-fallback\"><pre>GridSearchCV(cv=3,\n",
       "             estimator=XGBClassifier(base_score=None, booster=None,\n",
       "                                     callbacks=None, colsample_bylevel=None,\n",
       "                                     colsample_bynode=0.03608439182435161,\n",
       "                                     colsample_bytree=0.03608439182435161,\n",
       "                                     device=&#x27;cuda&#x27;, early_stopping_rounds=None,\n",
       "                                     enable_categorical=False, eval_metric=None,\n",
       "                                     feature_types=None, feature_weights=None,\n",
       "                                     gamma=None, grow_policy=None,\n",
       "                                     importance_type=...\n",
       "                                     max_cat_to_onehot=None,\n",
       "                                     max_delta_step=None, max_depth=None,\n",
       "                                     max_leaves=None, min_child_weight=None,\n",
       "                                     missing=nan, monotone_constraints=None,\n",
       "                                     multi_strategy=None, n_estimators=None,\n",
       "                                     n_jobs=None, num_parallel_tree=None, ...),\n",
       "             n_jobs=2,\n",
       "             param_grid={&#x27;max_depth&#x27;: [19, 20, 21], &#x27;min_child_weight&#x27;: [2],\n",
       "                         &#x27;n_estimators&#x27;: [490, 500, 510]},\n",
       "             return_train_score=True, scoring=&#x27;accuracy&#x27;, verbose=3)</pre><b>In a Jupyter environment, please rerun this cell to show the HTML representation or trust the notebook. <br />On GitHub, the HTML representation is unable to render, please try loading this page with nbviewer.org.</b></div><div class=\"sk-container\" hidden><div class=\"sk-item sk-dashed-wrapped\"><div class=\"sk-label-container\"><div class=\"sk-label fitted sk-toggleable\"><input class=\"sk-toggleable__control sk-hidden--visually\" id=\"sk-estimator-id-16\" type=\"checkbox\" ><label for=\"sk-estimator-id-16\" class=\"sk-toggleable__label fitted sk-toggleable__label-arrow\"><div><div>GridSearchCV</div></div><div><a class=\"sk-estimator-doc-link fitted\" rel=\"noreferrer\" target=\"_blank\" href=\"https://scikit-learn.org/1.6/modules/generated/sklearn.model_selection.GridSearchCV.html\">?<span>Documentation for GridSearchCV</span></a><span class=\"sk-estimator-doc-link fitted\">i<span>Fitted</span></span></div></label><div class=\"sk-toggleable__content fitted\"><pre>GridSearchCV(cv=3,\n",
       "             estimator=XGBClassifier(base_score=None, booster=None,\n",
       "                                     callbacks=None, colsample_bylevel=None,\n",
       "                                     colsample_bynode=0.03608439182435161,\n",
       "                                     colsample_bytree=0.03608439182435161,\n",
       "                                     device=&#x27;cuda&#x27;, early_stopping_rounds=None,\n",
       "                                     enable_categorical=False, eval_metric=None,\n",
       "                                     feature_types=None, feature_weights=None,\n",
       "                                     gamma=None, grow_policy=None,\n",
       "                                     importance_type=...\n",
       "                                     max_cat_to_onehot=None,\n",
       "                                     max_delta_step=None, max_depth=None,\n",
       "                                     max_leaves=None, min_child_weight=None,\n",
       "                                     missing=nan, monotone_constraints=None,\n",
       "                                     multi_strategy=None, n_estimators=None,\n",
       "                                     n_jobs=None, num_parallel_tree=None, ...),\n",
       "             n_jobs=2,\n",
       "             param_grid={&#x27;max_depth&#x27;: [19, 20, 21], &#x27;min_child_weight&#x27;: [2],\n",
       "                         &#x27;n_estimators&#x27;: [490, 500, 510]},\n",
       "             return_train_score=True, scoring=&#x27;accuracy&#x27;, verbose=3)</pre></div> </div></div><div class=\"sk-parallel\"><div class=\"sk-parallel-item\"><div class=\"sk-item\"><div class=\"sk-label-container\"><div class=\"sk-label fitted sk-toggleable\"><input class=\"sk-toggleable__control sk-hidden--visually\" id=\"sk-estimator-id-17\" type=\"checkbox\" ><label for=\"sk-estimator-id-17\" class=\"sk-toggleable__label fitted sk-toggleable__label-arrow\"><div><div>best_estimator_: XGBClassifier</div></div></label><div class=\"sk-toggleable__content fitted\"><pre>XGBClassifier(base_score=None, booster=None, callbacks=None,\n",
       "              colsample_bylevel=None, colsample_bynode=0.03608439182435161,\n",
       "              colsample_bytree=0.03608439182435161, device=&#x27;cuda&#x27;,\n",
       "              early_stopping_rounds=None, enable_categorical=False,\n",
       "              eval_metric=None, feature_types=None, feature_weights=None,\n",
       "              gamma=None, grow_policy=None, importance_type=None,\n",
       "              interaction_constraints=None, learning_rate=None, max_bin=None,\n",
       "              max_cat_threshold=None, max_cat_to_onehot=None,\n",
       "              max_delta_step=None, max_depth=20, max_leaves=None,\n",
       "              min_child_weight=2, missing=nan, monotone_constraints=None,\n",
       "              multi_strategy=None, n_estimators=500, n_jobs=None,\n",
       "              num_parallel_tree=None, ...)</pre></div> </div></div><div class=\"sk-serial\"><div class=\"sk-item\"><div class=\"sk-estimator fitted sk-toggleable\"><input class=\"sk-toggleable__control sk-hidden--visually\" id=\"sk-estimator-id-18\" type=\"checkbox\" ><label for=\"sk-estimator-id-18\" class=\"sk-toggleable__label fitted sk-toggleable__label-arrow\"><div><div>XGBClassifier</div></div><div><a class=\"sk-estimator-doc-link fitted\" rel=\"noreferrer\" target=\"_blank\" href=\"https://xgboost.readthedocs.io/en/release_3.0.0/python/python_api.html#xgboost.XGBClassifier\">?<span>Documentation for XGBClassifier</span></a></div></label><div class=\"sk-toggleable__content fitted\"><pre>XGBClassifier(base_score=None, booster=None, callbacks=None,\n",
       "              colsample_bylevel=None, colsample_bynode=0.03608439182435161,\n",
       "              colsample_bytree=0.03608439182435161, device=&#x27;cuda&#x27;,\n",
       "              early_stopping_rounds=None, enable_categorical=False,\n",
       "              eval_metric=None, feature_types=None, feature_weights=None,\n",
       "              gamma=None, grow_policy=None, importance_type=None,\n",
       "              interaction_constraints=None, learning_rate=None, max_bin=None,\n",
       "              max_cat_threshold=None, max_cat_to_onehot=None,\n",
       "              max_delta_step=None, max_depth=20, max_leaves=None,\n",
       "              min_child_weight=2, missing=nan, monotone_constraints=None,\n",
       "              multi_strategy=None, n_estimators=500, n_jobs=None,\n",
       "              num_parallel_tree=None, ...)</pre></div> </div></div></div></div></div></div></div></div></div>"
      ],
      "text/plain": [
       "GridSearchCV(cv=3,\n",
       "             estimator=XGBClassifier(base_score=None, booster=None,\n",
       "                                     callbacks=None, colsample_bylevel=None,\n",
       "                                     colsample_bynode=0.03608439182435161,\n",
       "                                     colsample_bytree=0.03608439182435161,\n",
       "                                     device='cuda', early_stopping_rounds=None,\n",
       "                                     enable_categorical=False, eval_metric=None,\n",
       "                                     feature_types=None, feature_weights=None,\n",
       "                                     gamma=None, grow_policy=None,\n",
       "                                     importance_type=...\n",
       "                                     max_cat_to_onehot=None,\n",
       "                                     max_delta_step=None, max_depth=None,\n",
       "                                     max_leaves=None, min_child_weight=None,\n",
       "                                     missing=nan, monotone_constraints=None,\n",
       "                                     multi_strategy=None, n_estimators=None,\n",
       "                                     n_jobs=None, num_parallel_tree=None, ...),\n",
       "             n_jobs=2,\n",
       "             param_grid={'max_depth': [19, 20, 21], 'min_child_weight': [2],\n",
       "                         'n_estimators': [490, 500, 510]},\n",
       "             return_train_score=True, scoring='accuracy', verbose=3)"
      ]
     },
     "execution_count": 36,
     "metadata": {},
     "output_type": "execute_result"
    }
   ],
   "source": [
    "# Train the model and search for the hyperparameters with 50% of the whole set, theres no enough GPU memory for the whole training set\n",
    "grid_search.fit(X_train[:25000], y_train[:25000])"
   ]
  },
  {
   "cell_type": "code",
   "execution_count": 37,
   "metadata": {},
   "outputs": [
    {
     "data": {
      "text/plain": [
       "{'max_depth': 20, 'min_child_weight': 2, 'n_estimators': 500}"
      ]
     },
     "execution_count": 37,
     "metadata": {},
     "output_type": "execute_result"
    }
   ],
   "source": [
    "grid_search.best_params_"
   ]
  },
  {
   "cell_type": "code",
   "execution_count": 38,
   "metadata": {},
   "outputs": [
    {
     "data": {
      "text/plain": [
       "np.float64(0.8518798299328182)"
      ]
     },
     "execution_count": 38,
     "metadata": {},
     "output_type": "execute_result"
    }
   ],
   "source": [
    "grid_search.best_score_"
   ]
  },
  {
   "cell_type": "code",
   "execution_count": 13,
   "metadata": {},
   "outputs": [],
   "source": [
    "# Creation of the final model\n",
    "model = XGBClassifier(tree_method=\"hist\", device=\"cuda\", subsample = 0.8, colsample_bytree = characteristics, colsample_bynode = characteristics, n_estimators = 500, max_depth = 20, min_child_weight = 20)"
   ]
  },
  {
   "cell_type": "code",
   "execution_count": 14,
   "metadata": {},
   "outputs": [
    {
     "data": {
      "text/html": [
       "<style>#sk-container-id-1 {\n",
       "  /* Definition of color scheme common for light and dark mode */\n",
       "  --sklearn-color-text: #000;\n",
       "  --sklearn-color-text-muted: #666;\n",
       "  --sklearn-color-line: gray;\n",
       "  /* Definition of color scheme for unfitted estimators */\n",
       "  --sklearn-color-unfitted-level-0: #fff5e6;\n",
       "  --sklearn-color-unfitted-level-1: #f6e4d2;\n",
       "  --sklearn-color-unfitted-level-2: #ffe0b3;\n",
       "  --sklearn-color-unfitted-level-3: chocolate;\n",
       "  /* Definition of color scheme for fitted estimators */\n",
       "  --sklearn-color-fitted-level-0: #f0f8ff;\n",
       "  --sklearn-color-fitted-level-1: #d4ebff;\n",
       "  --sklearn-color-fitted-level-2: #b3dbfd;\n",
       "  --sklearn-color-fitted-level-3: cornflowerblue;\n",
       "\n",
       "  /* Specific color for light theme */\n",
       "  --sklearn-color-text-on-default-background: var(--sg-text-color, var(--theme-code-foreground, var(--jp-content-font-color1, black)));\n",
       "  --sklearn-color-background: var(--sg-background-color, var(--theme-background, var(--jp-layout-color0, white)));\n",
       "  --sklearn-color-border-box: var(--sg-text-color, var(--theme-code-foreground, var(--jp-content-font-color1, black)));\n",
       "  --sklearn-color-icon: #696969;\n",
       "\n",
       "  @media (prefers-color-scheme: dark) {\n",
       "    /* Redefinition of color scheme for dark theme */\n",
       "    --sklearn-color-text-on-default-background: var(--sg-text-color, var(--theme-code-foreground, var(--jp-content-font-color1, white)));\n",
       "    --sklearn-color-background: var(--sg-background-color, var(--theme-background, var(--jp-layout-color0, #111)));\n",
       "    --sklearn-color-border-box: var(--sg-text-color, var(--theme-code-foreground, var(--jp-content-font-color1, white)));\n",
       "    --sklearn-color-icon: #878787;\n",
       "  }\n",
       "}\n",
       "\n",
       "#sk-container-id-1 {\n",
       "  color: var(--sklearn-color-text);\n",
       "}\n",
       "\n",
       "#sk-container-id-1 pre {\n",
       "  padding: 0;\n",
       "}\n",
       "\n",
       "#sk-container-id-1 input.sk-hidden--visually {\n",
       "  border: 0;\n",
       "  clip: rect(1px 1px 1px 1px);\n",
       "  clip: rect(1px, 1px, 1px, 1px);\n",
       "  height: 1px;\n",
       "  margin: -1px;\n",
       "  overflow: hidden;\n",
       "  padding: 0;\n",
       "  position: absolute;\n",
       "  width: 1px;\n",
       "}\n",
       "\n",
       "#sk-container-id-1 div.sk-dashed-wrapped {\n",
       "  border: 1px dashed var(--sklearn-color-line);\n",
       "  margin: 0 0.4em 0.5em 0.4em;\n",
       "  box-sizing: border-box;\n",
       "  padding-bottom: 0.4em;\n",
       "  background-color: var(--sklearn-color-background);\n",
       "}\n",
       "\n",
       "#sk-container-id-1 div.sk-container {\n",
       "  /* jupyter's `normalize.less` sets `[hidden] { display: none; }`\n",
       "     but bootstrap.min.css set `[hidden] { display: none !important; }`\n",
       "     so we also need the `!important` here to be able to override the\n",
       "     default hidden behavior on the sphinx rendered scikit-learn.org.\n",
       "     See: https://github.com/scikit-learn/scikit-learn/issues/21755 */\n",
       "  display: inline-block !important;\n",
       "  position: relative;\n",
       "}\n",
       "\n",
       "#sk-container-id-1 div.sk-text-repr-fallback {\n",
       "  display: none;\n",
       "}\n",
       "\n",
       "div.sk-parallel-item,\n",
       "div.sk-serial,\n",
       "div.sk-item {\n",
       "  /* draw centered vertical line to link estimators */\n",
       "  background-image: linear-gradient(var(--sklearn-color-text-on-default-background), var(--sklearn-color-text-on-default-background));\n",
       "  background-size: 2px 100%;\n",
       "  background-repeat: no-repeat;\n",
       "  background-position: center center;\n",
       "}\n",
       "\n",
       "/* Parallel-specific style estimator block */\n",
       "\n",
       "#sk-container-id-1 div.sk-parallel-item::after {\n",
       "  content: \"\";\n",
       "  width: 100%;\n",
       "  border-bottom: 2px solid var(--sklearn-color-text-on-default-background);\n",
       "  flex-grow: 1;\n",
       "}\n",
       "\n",
       "#sk-container-id-1 div.sk-parallel {\n",
       "  display: flex;\n",
       "  align-items: stretch;\n",
       "  justify-content: center;\n",
       "  background-color: var(--sklearn-color-background);\n",
       "  position: relative;\n",
       "}\n",
       "\n",
       "#sk-container-id-1 div.sk-parallel-item {\n",
       "  display: flex;\n",
       "  flex-direction: column;\n",
       "}\n",
       "\n",
       "#sk-container-id-1 div.sk-parallel-item:first-child::after {\n",
       "  align-self: flex-end;\n",
       "  width: 50%;\n",
       "}\n",
       "\n",
       "#sk-container-id-1 div.sk-parallel-item:last-child::after {\n",
       "  align-self: flex-start;\n",
       "  width: 50%;\n",
       "}\n",
       "\n",
       "#sk-container-id-1 div.sk-parallel-item:only-child::after {\n",
       "  width: 0;\n",
       "}\n",
       "\n",
       "/* Serial-specific style estimator block */\n",
       "\n",
       "#sk-container-id-1 div.sk-serial {\n",
       "  display: flex;\n",
       "  flex-direction: column;\n",
       "  align-items: center;\n",
       "  background-color: var(--sklearn-color-background);\n",
       "  padding-right: 1em;\n",
       "  padding-left: 1em;\n",
       "}\n",
       "\n",
       "\n",
       "/* Toggleable style: style used for estimator/Pipeline/ColumnTransformer box that is\n",
       "clickable and can be expanded/collapsed.\n",
       "- Pipeline and ColumnTransformer use this feature and define the default style\n",
       "- Estimators will overwrite some part of the style using the `sk-estimator` class\n",
       "*/\n",
       "\n",
       "/* Pipeline and ColumnTransformer style (default) */\n",
       "\n",
       "#sk-container-id-1 div.sk-toggleable {\n",
       "  /* Default theme specific background. It is overwritten whether we have a\n",
       "  specific estimator or a Pipeline/ColumnTransformer */\n",
       "  background-color: var(--sklearn-color-background);\n",
       "}\n",
       "\n",
       "/* Toggleable label */\n",
       "#sk-container-id-1 label.sk-toggleable__label {\n",
       "  cursor: pointer;\n",
       "  display: flex;\n",
       "  width: 100%;\n",
       "  margin-bottom: 0;\n",
       "  padding: 0.5em;\n",
       "  box-sizing: border-box;\n",
       "  text-align: center;\n",
       "  align-items: start;\n",
       "  justify-content: space-between;\n",
       "  gap: 0.5em;\n",
       "}\n",
       "\n",
       "#sk-container-id-1 label.sk-toggleable__label .caption {\n",
       "  font-size: 0.6rem;\n",
       "  font-weight: lighter;\n",
       "  color: var(--sklearn-color-text-muted);\n",
       "}\n",
       "\n",
       "#sk-container-id-1 label.sk-toggleable__label-arrow:before {\n",
       "  /* Arrow on the left of the label */\n",
       "  content: \"▸\";\n",
       "  float: left;\n",
       "  margin-right: 0.25em;\n",
       "  color: var(--sklearn-color-icon);\n",
       "}\n",
       "\n",
       "#sk-container-id-1 label.sk-toggleable__label-arrow:hover:before {\n",
       "  color: var(--sklearn-color-text);\n",
       "}\n",
       "\n",
       "/* Toggleable content - dropdown */\n",
       "\n",
       "#sk-container-id-1 div.sk-toggleable__content {\n",
       "  max-height: 0;\n",
       "  max-width: 0;\n",
       "  overflow: hidden;\n",
       "  text-align: left;\n",
       "  /* unfitted */\n",
       "  background-color: var(--sklearn-color-unfitted-level-0);\n",
       "}\n",
       "\n",
       "#sk-container-id-1 div.sk-toggleable__content.fitted {\n",
       "  /* fitted */\n",
       "  background-color: var(--sklearn-color-fitted-level-0);\n",
       "}\n",
       "\n",
       "#sk-container-id-1 div.sk-toggleable__content pre {\n",
       "  margin: 0.2em;\n",
       "  border-radius: 0.25em;\n",
       "  color: var(--sklearn-color-text);\n",
       "  /* unfitted */\n",
       "  background-color: var(--sklearn-color-unfitted-level-0);\n",
       "}\n",
       "\n",
       "#sk-container-id-1 div.sk-toggleable__content.fitted pre {\n",
       "  /* unfitted */\n",
       "  background-color: var(--sklearn-color-fitted-level-0);\n",
       "}\n",
       "\n",
       "#sk-container-id-1 input.sk-toggleable__control:checked~div.sk-toggleable__content {\n",
       "  /* Expand drop-down */\n",
       "  max-height: 200px;\n",
       "  max-width: 100%;\n",
       "  overflow: auto;\n",
       "}\n",
       "\n",
       "#sk-container-id-1 input.sk-toggleable__control:checked~label.sk-toggleable__label-arrow:before {\n",
       "  content: \"▾\";\n",
       "}\n",
       "\n",
       "/* Pipeline/ColumnTransformer-specific style */\n",
       "\n",
       "#sk-container-id-1 div.sk-label input.sk-toggleable__control:checked~label.sk-toggleable__label {\n",
       "  color: var(--sklearn-color-text);\n",
       "  background-color: var(--sklearn-color-unfitted-level-2);\n",
       "}\n",
       "\n",
       "#sk-container-id-1 div.sk-label.fitted input.sk-toggleable__control:checked~label.sk-toggleable__label {\n",
       "  background-color: var(--sklearn-color-fitted-level-2);\n",
       "}\n",
       "\n",
       "/* Estimator-specific style */\n",
       "\n",
       "/* Colorize estimator box */\n",
       "#sk-container-id-1 div.sk-estimator input.sk-toggleable__control:checked~label.sk-toggleable__label {\n",
       "  /* unfitted */\n",
       "  background-color: var(--sklearn-color-unfitted-level-2);\n",
       "}\n",
       "\n",
       "#sk-container-id-1 div.sk-estimator.fitted input.sk-toggleable__control:checked~label.sk-toggleable__label {\n",
       "  /* fitted */\n",
       "  background-color: var(--sklearn-color-fitted-level-2);\n",
       "}\n",
       "\n",
       "#sk-container-id-1 div.sk-label label.sk-toggleable__label,\n",
       "#sk-container-id-1 div.sk-label label {\n",
       "  /* The background is the default theme color */\n",
       "  color: var(--sklearn-color-text-on-default-background);\n",
       "}\n",
       "\n",
       "/* On hover, darken the color of the background */\n",
       "#sk-container-id-1 div.sk-label:hover label.sk-toggleable__label {\n",
       "  color: var(--sklearn-color-text);\n",
       "  background-color: var(--sklearn-color-unfitted-level-2);\n",
       "}\n",
       "\n",
       "/* Label box, darken color on hover, fitted */\n",
       "#sk-container-id-1 div.sk-label.fitted:hover label.sk-toggleable__label.fitted {\n",
       "  color: var(--sklearn-color-text);\n",
       "  background-color: var(--sklearn-color-fitted-level-2);\n",
       "}\n",
       "\n",
       "/* Estimator label */\n",
       "\n",
       "#sk-container-id-1 div.sk-label label {\n",
       "  font-family: monospace;\n",
       "  font-weight: bold;\n",
       "  display: inline-block;\n",
       "  line-height: 1.2em;\n",
       "}\n",
       "\n",
       "#sk-container-id-1 div.sk-label-container {\n",
       "  text-align: center;\n",
       "}\n",
       "\n",
       "/* Estimator-specific */\n",
       "#sk-container-id-1 div.sk-estimator {\n",
       "  font-family: monospace;\n",
       "  border: 1px dotted var(--sklearn-color-border-box);\n",
       "  border-radius: 0.25em;\n",
       "  box-sizing: border-box;\n",
       "  margin-bottom: 0.5em;\n",
       "  /* unfitted */\n",
       "  background-color: var(--sklearn-color-unfitted-level-0);\n",
       "}\n",
       "\n",
       "#sk-container-id-1 div.sk-estimator.fitted {\n",
       "  /* fitted */\n",
       "  background-color: var(--sklearn-color-fitted-level-0);\n",
       "}\n",
       "\n",
       "/* on hover */\n",
       "#sk-container-id-1 div.sk-estimator:hover {\n",
       "  /* unfitted */\n",
       "  background-color: var(--sklearn-color-unfitted-level-2);\n",
       "}\n",
       "\n",
       "#sk-container-id-1 div.sk-estimator.fitted:hover {\n",
       "  /* fitted */\n",
       "  background-color: var(--sklearn-color-fitted-level-2);\n",
       "}\n",
       "\n",
       "/* Specification for estimator info (e.g. \"i\" and \"?\") */\n",
       "\n",
       "/* Common style for \"i\" and \"?\" */\n",
       "\n",
       ".sk-estimator-doc-link,\n",
       "a:link.sk-estimator-doc-link,\n",
       "a:visited.sk-estimator-doc-link {\n",
       "  float: right;\n",
       "  font-size: smaller;\n",
       "  line-height: 1em;\n",
       "  font-family: monospace;\n",
       "  background-color: var(--sklearn-color-background);\n",
       "  border-radius: 1em;\n",
       "  height: 1em;\n",
       "  width: 1em;\n",
       "  text-decoration: none !important;\n",
       "  margin-left: 0.5em;\n",
       "  text-align: center;\n",
       "  /* unfitted */\n",
       "  border: var(--sklearn-color-unfitted-level-1) 1pt solid;\n",
       "  color: var(--sklearn-color-unfitted-level-1);\n",
       "}\n",
       "\n",
       ".sk-estimator-doc-link.fitted,\n",
       "a:link.sk-estimator-doc-link.fitted,\n",
       "a:visited.sk-estimator-doc-link.fitted {\n",
       "  /* fitted */\n",
       "  border: var(--sklearn-color-fitted-level-1) 1pt solid;\n",
       "  color: var(--sklearn-color-fitted-level-1);\n",
       "}\n",
       "\n",
       "/* On hover */\n",
       "div.sk-estimator:hover .sk-estimator-doc-link:hover,\n",
       ".sk-estimator-doc-link:hover,\n",
       "div.sk-label-container:hover .sk-estimator-doc-link:hover,\n",
       ".sk-estimator-doc-link:hover {\n",
       "  /* unfitted */\n",
       "  background-color: var(--sklearn-color-unfitted-level-3);\n",
       "  color: var(--sklearn-color-background);\n",
       "  text-decoration: none;\n",
       "}\n",
       "\n",
       "div.sk-estimator.fitted:hover .sk-estimator-doc-link.fitted:hover,\n",
       ".sk-estimator-doc-link.fitted:hover,\n",
       "div.sk-label-container:hover .sk-estimator-doc-link.fitted:hover,\n",
       ".sk-estimator-doc-link.fitted:hover {\n",
       "  /* fitted */\n",
       "  background-color: var(--sklearn-color-fitted-level-3);\n",
       "  color: var(--sklearn-color-background);\n",
       "  text-decoration: none;\n",
       "}\n",
       "\n",
       "/* Span, style for the box shown on hovering the info icon */\n",
       ".sk-estimator-doc-link span {\n",
       "  display: none;\n",
       "  z-index: 9999;\n",
       "  position: relative;\n",
       "  font-weight: normal;\n",
       "  right: .2ex;\n",
       "  padding: .5ex;\n",
       "  margin: .5ex;\n",
       "  width: min-content;\n",
       "  min-width: 20ex;\n",
       "  max-width: 50ex;\n",
       "  color: var(--sklearn-color-text);\n",
       "  box-shadow: 2pt 2pt 4pt #999;\n",
       "  /* unfitted */\n",
       "  background: var(--sklearn-color-unfitted-level-0);\n",
       "  border: .5pt solid var(--sklearn-color-unfitted-level-3);\n",
       "}\n",
       "\n",
       ".sk-estimator-doc-link.fitted span {\n",
       "  /* fitted */\n",
       "  background: var(--sklearn-color-fitted-level-0);\n",
       "  border: var(--sklearn-color-fitted-level-3);\n",
       "}\n",
       "\n",
       ".sk-estimator-doc-link:hover span {\n",
       "  display: block;\n",
       "}\n",
       "\n",
       "/* \"?\"-specific style due to the `<a>` HTML tag */\n",
       "\n",
       "#sk-container-id-1 a.estimator_doc_link {\n",
       "  float: right;\n",
       "  font-size: 1rem;\n",
       "  line-height: 1em;\n",
       "  font-family: monospace;\n",
       "  background-color: var(--sklearn-color-background);\n",
       "  border-radius: 1rem;\n",
       "  height: 1rem;\n",
       "  width: 1rem;\n",
       "  text-decoration: none;\n",
       "  /* unfitted */\n",
       "  color: var(--sklearn-color-unfitted-level-1);\n",
       "  border: var(--sklearn-color-unfitted-level-1) 1pt solid;\n",
       "}\n",
       "\n",
       "#sk-container-id-1 a.estimator_doc_link.fitted {\n",
       "  /* fitted */\n",
       "  border: var(--sklearn-color-fitted-level-1) 1pt solid;\n",
       "  color: var(--sklearn-color-fitted-level-1);\n",
       "}\n",
       "\n",
       "/* On hover */\n",
       "#sk-container-id-1 a.estimator_doc_link:hover {\n",
       "  /* unfitted */\n",
       "  background-color: var(--sklearn-color-unfitted-level-3);\n",
       "  color: var(--sklearn-color-background);\n",
       "  text-decoration: none;\n",
       "}\n",
       "\n",
       "#sk-container-id-1 a.estimator_doc_link.fitted:hover {\n",
       "  /* fitted */\n",
       "  background-color: var(--sklearn-color-fitted-level-3);\n",
       "}\n",
       "</style><div id=\"sk-container-id-1\" class=\"sk-top-container\"><div class=\"sk-text-repr-fallback\"><pre>XGBClassifier(base_score=None, booster=None, callbacks=None,\n",
       "              colsample_bylevel=None, colsample_bynode=0.03608439182435161,\n",
       "              colsample_bytree=0.03608439182435161, device=&#x27;cuda&#x27;,\n",
       "              early_stopping_rounds=None, enable_categorical=False,\n",
       "              eval_metric=None, feature_types=None, feature_weights=None,\n",
       "              gamma=None, grow_policy=None, importance_type=None,\n",
       "              interaction_constraints=None, learning_rate=None, max_bin=None,\n",
       "              max_cat_threshold=None, max_cat_to_onehot=None,\n",
       "              max_delta_step=None, max_depth=20, max_leaves=None,\n",
       "              min_child_weight=20, missing=nan, monotone_constraints=None,\n",
       "              multi_strategy=None, n_estimators=500, n_jobs=None,\n",
       "              num_parallel_tree=None, ...)</pre><b>In a Jupyter environment, please rerun this cell to show the HTML representation or trust the notebook. <br />On GitHub, the HTML representation is unable to render, please try loading this page with nbviewer.org.</b></div><div class=\"sk-container\" hidden><div class=\"sk-item\"><div class=\"sk-estimator fitted sk-toggleable\"><input class=\"sk-toggleable__control sk-hidden--visually\" id=\"sk-estimator-id-1\" type=\"checkbox\" checked><label for=\"sk-estimator-id-1\" class=\"sk-toggleable__label fitted sk-toggleable__label-arrow\"><div><div>XGBClassifier</div></div><div><a class=\"sk-estimator-doc-link fitted\" rel=\"noreferrer\" target=\"_blank\" href=\"https://xgboost.readthedocs.io/en/release_3.0.0/python/python_api.html#xgboost.XGBClassifier\">?<span>Documentation for XGBClassifier</span></a><span class=\"sk-estimator-doc-link fitted\">i<span>Fitted</span></span></div></label><div class=\"sk-toggleable__content fitted\"><pre>XGBClassifier(base_score=None, booster=None, callbacks=None,\n",
       "              colsample_bylevel=None, colsample_bynode=0.03608439182435161,\n",
       "              colsample_bytree=0.03608439182435161, device=&#x27;cuda&#x27;,\n",
       "              early_stopping_rounds=None, enable_categorical=False,\n",
       "              eval_metric=None, feature_types=None, feature_weights=None,\n",
       "              gamma=None, grow_policy=None, importance_type=None,\n",
       "              interaction_constraints=None, learning_rate=None, max_bin=None,\n",
       "              max_cat_threshold=None, max_cat_to_onehot=None,\n",
       "              max_delta_step=None, max_depth=20, max_leaves=None,\n",
       "              min_child_weight=20, missing=nan, monotone_constraints=None,\n",
       "              multi_strategy=None, n_estimators=500, n_jobs=None,\n",
       "              num_parallel_tree=None, ...)</pre></div> </div></div></div></div>"
      ],
      "text/plain": [
       "XGBClassifier(base_score=None, booster=None, callbacks=None,\n",
       "              colsample_bylevel=None, colsample_bynode=0.03608439182435161,\n",
       "              colsample_bytree=0.03608439182435161, device='cuda',\n",
       "              early_stopping_rounds=None, enable_categorical=False,\n",
       "              eval_metric=None, feature_types=None, feature_weights=None,\n",
       "              gamma=None, grow_policy=None, importance_type=None,\n",
       "              interaction_constraints=None, learning_rate=None, max_bin=None,\n",
       "              max_cat_threshold=None, max_cat_to_onehot=None,\n",
       "              max_delta_step=None, max_depth=20, max_leaves=None,\n",
       "              min_child_weight=20, missing=nan, monotone_constraints=None,\n",
       "              multi_strategy=None, n_estimators=500, n_jobs=None,\n",
       "              num_parallel_tree=None, ...)"
      ]
     },
     "execution_count": 14,
     "metadata": {},
     "output_type": "execute_result"
    }
   ],
   "source": [
    "model.fit(X_train, y_train)"
   ]
  },
  {
   "cell_type": "code",
   "execution_count": 15,
   "metadata": {},
   "outputs": [
    {
     "name": "stdout",
     "output_type": "stream",
     "text": [
      "              precision    recall  f1-score   support\n",
      "\n",
      "           0       0.83      0.89      0.86      4626\n",
      "           1       0.89      0.83      0.86      4912\n",
      "\n",
      "    accuracy                           0.86      9538\n",
      "   macro avg       0.86      0.86      0.86      9538\n",
      "weighted avg       0.86      0.86      0.86      9538\n",
      "\n"
     ]
    },
    {
     "name": "stderr",
     "output_type": "stream",
     "text": [
      "/home/sis.virtual.uniandes.edu.co/d.escalante/venv/lib/python3.10/site-packages/xgboost/core.py:729: UserWarning: [21:15:47] WARNING: /workspace/src/common/error_msg.cc:58: Falling back to prediction using DMatrix due to mismatched devices. This might lead to higher memory usage and slower performance. XGBoost is running on: cuda:0, while the input data is on: cpu.\n",
      "Potential solutions:\n",
      "- Use a data structure that matches the device ordinal in the booster.\n",
      "- Set the device for booster before call to inplace_predict.\n",
      "\n",
      "This warning will only be shown once.\n",
      "\n",
      "  return func(**kwargs)\n"
     ]
    },
    {
     "data": {
      "image/png": "[encoded data removed]",
      "text/plain": [
       "<Figure size 640x480 with 2 Axes>"
      ]
     },
     "metadata": {},
     "output_type": "display_data"
    }
   ],
   "source": [
    "# Evaluation of the model\n",
    "\n",
    "y_pred = model.predict(X_test)\n",
    "\n",
    "print(classification_report(y_test, y_pred))\n",
    "\n",
    "conf_matrix = confusion_matrix(y_test, y_pred)\n",
    "\n",
    "sns.heatmap(conf_matrix, xticklabels = [\"0\", \"1\"], yticklabels = [\"0\", \"1\"], annot=True, cmap='Blues', fmt = 'g')\n",
    "plt.ylabel(\"Real\")\n",
    "plt.xlabel(\"Predicción\")\n",
    "plt.show()\n"
   ]
  },
  {
   "cell_type": "markdown",
   "metadata": {},
   "source": [
    "### **Marilyn Stephany Joven Fonseca**"
   ]
  },
  {
   "cell_type": "markdown",
   "metadata": {},
   "source": [
    "### **Eder Leandro Carbonero Baquero**"
   ]
  },
  {
   "cell_type": "markdown",
   "metadata": {},
   "source": [
    "## **Deep Learning Models**"
   ]
  },
  {
   "cell_type": "markdown",
   "metadata": {},
   "source": [
    "### **Nicolas Bedoya Figueroa**"
   ]
  },
  {
   "cell_type": "markdown",
   "metadata": {},
   "source": [
    "### **Daniel Escalante Perez**"
   ]
  },
  {
   "cell_type": "markdown",
   "metadata": {},
   "source": [
    "#### **Utils**"
   ]
  },
  {
   "cell_type": "code",
   "execution_count": 7,
   "metadata": {},
   "outputs": [],
   "source": [
    "# Function for measuring the accuracy\n",
    "\n",
    "def get_accuracy(output, y, train_size):\n",
    "    pred = torch.sigmoid(output) > 0.5  # Thresholding\n",
    "    correct = pred.eq(y.bool()).sum().item()\n",
    "    return correct / train_size"
   ]
  },
  {
   "cell_type": "code",
   "execution_count": 8,
   "metadata": {},
   "outputs": [],
   "source": [
    "# Training function\n",
    "\n",
    "def train(train_loader, optimizer, loss_function, model_train):\n",
    "    loss = 0\n",
    "    accuracy = 0\n",
    "    batch_num = 0\n",
    "    model_train.train()\n",
    "    for x, y in train_loader:\n",
    "        batch_num += 1\n",
    "        output = model_train(x)\n",
    "        optimizer.zero_grad()\n",
    "        batch_loss = loss_function(output, y)\n",
    "        batch_loss.backward()\n",
    "        optimizer.step()\n",
    "\n",
    "        loss += batch_loss.item()\n",
    "        accuracy += get_accuracy(output, y, len(train_loader.dataset))\n",
    "    print(f\"Train Loss: {round(loss/batch_num, 5)}, Train Accuracy: {round(accuracy, 5)}\")\n",
    "\n",
    "    return loss/batch_num, accuracy"
   ]
  },
  {
   "cell_type": "code",
   "execution_count": 9,
   "metadata": {},
   "outputs": [],
   "source": [
    "# Validation function\n",
    "\n",
    "def validate(val_loader, loss_function, model_val):\n",
    "\n",
    "    loss = 0\n",
    "    accuracy = 0\n",
    "    batch_num = 0\n",
    "\n",
    "    model_val.eval()\n",
    "    with torch.no_grad():\n",
    "        for x, y in val_loader:\n",
    "            batch_num += 1\n",
    "            output = model_val(x)\n",
    "            batch_loss = loss_function(output, y)\n",
    "\n",
    "            loss += batch_loss.item()\n",
    "            accuracy += get_accuracy(output, y, len(val_loader.dataset))\n",
    "    print(f\"Validation Loss: {round(loss/batch_num, 5)}, Validation Accuracy: {round(accuracy, 5)}\")\n",
    "    return loss/batch_num, accuracy"
   ]
  },
  {
   "cell_type": "code",
   "execution_count": 10,
   "metadata": {},
   "outputs": [],
   "source": [
    "# Saving the best model\n",
    "\n",
    "def save_checkpoint(model_save):\n",
    "    torch.save(model_save.state_dict(), \"best_model.pth\")\n",
    "    "
   ]
  },
  {
   "cell_type": "code",
   "execution_count": 11,
   "metadata": {},
   "outputs": [],
   "source": [
    "# Loading the best model\n",
    "\n",
    "def load_checkpoint(model_load):\n",
    "    checkpoint = torch.load(\"best_model.pth\", map_location=device)\n",
    "    checkpoint = { k.replace(\"_orig_mod.\", \"\"): v for k, v in checkpoint.items() }\n",
    "    model_load.load_state_dict(checkpoint)\n",
    "    model_load = torch.compile(model_load.to(device), backend=\"eager\")\n",
    "    model_load.eval()\n",
    "    return model_load\n",
    "    "
   ]
  },
  {
   "cell_type": "code",
   "execution_count": 12,
   "metadata": {},
   "outputs": [],
   "source": [
    "# Loss and accuracy graphing\n",
    "\n",
    "def loss_accuracy_graph(loss_accuracy_list):\n",
    "    epochs = len(loss_accuracy_list)\n",
    "    train_loss = [loss_accuracy_list[i][0] for i in range(epochs)]\n",
    "    train_accuracy = [loss_accuracy_list[i][1] for i in range(epochs)]\n",
    "    val_loss = [loss_accuracy_list[i][2] for i in range(epochs)]\n",
    "    val_accuracy = [loss_accuracy_list[i][3] for i in range(epochs)]\n",
    "\n",
    "    plt.plot(range(1, epochs + 1), train_loss, 'r-', label = \"Training\")\n",
    "    plt.plot(range(1, epochs + 1), val_loss, 'b-', label = \"Validation\")\n",
    "    plt.legend()\n",
    "    plt.xlabel('Epochs')\n",
    "    plt.ylabel('Loss')\n",
    "    plt.title('Train and Validation Loss')\n",
    "    plt.show()\n",
    "\n",
    "    plt.plot(range(1, epochs + 1), train_accuracy, 'r-', label = \"Training\")\n",
    "    plt.plot(range(1, epochs + 1), val_accuracy, 'b-', label = \"Validation\")\n",
    "    plt.legend()\n",
    "    plt.xlabel('Epochs')\n",
    "    plt.ylabel('Accuracy')\n",
    "    plt.title('Train and Validation Accuracy')\n",
    "    plt.show()\n",
    "    "
   ]
  },
  {
   "cell_type": "code",
   "execution_count": 13,
   "metadata": {},
   "outputs": [],
   "source": [
    "# Training loop\n",
    "\n",
    "def training_loop(epochs, train_loader, val_loader, optimizer, loss_function, model_train_loop):\n",
    "    max_accuracy = float(\"-inf\")\n",
    "    loss_accuracy_list = []\n",
    "\n",
    "    for epoch in range(epochs):\n",
    "        print(f\"Epoch {epoch + 1}/{epochs}\")\n",
    "        train_loss, train_accuracy = train(train_loader, optimizer, loss_function, model_train_loop)\n",
    "        current_loss, val_accuracy = validate(val_loader, loss_function, model_train_loop)\n",
    "        loss_accuracy_list.append((train_loss, train_accuracy, current_loss, val_accuracy))\n",
    "        if val_accuracy > max_accuracy:\n",
    "            max_accuracy = val_accuracy\n",
    "            save_checkpoint(model_train_loop)\n",
    "            print(\"Model saved!\")\n",
    "        else:\n",
    "            print(\"Model not saved!\")\n",
    "    \n",
    "    loss_accuracy_graph(loss_accuracy_list)"
   ]
  },
  {
   "cell_type": "code",
   "execution_count": 14,
   "metadata": {},
   "outputs": [],
   "source": [
    "# Model evaluation\n",
    "\n",
    "def evaluate_model(model_load, X_test, y_test):\n",
    "    model_eval = load_checkpoint(model_load)\n",
    "\n",
    "    with torch.no_grad():\n",
    "        y_pred = model_eval(torch.tensor(X_test).float().to(device))\n",
    "\n",
    "    pred = torch.sigmoid(y_pred).cpu().numpy() > 0.5\n",
    "\n",
    "    print(classification_report(y_test, pred))\n",
    "\n",
    "    conf_matrix = confusion_matrix(y_test, pred)\n",
    "\n",
    "    sns.heatmap(conf_matrix, xticklabels = [\"0\", \"1\"], yticklabels = [\"0\", \"1\"], annot=True, cmap='Blues', fmt = 'g')\n",
    "    plt.ylabel(\"Real\")\n",
    "    plt.xlabel(\"Predicción\")\n",
    "    plt.show()"
   ]
  },
  {
   "cell_type": "markdown",
   "metadata": {},
   "source": [
    "#### **BI-LSTM**"
   ]
  },
  {
   "cell_type": "code",
   "execution_count": 15,
   "metadata": {},
   "outputs": [
    {
     "data": {
      "text/plain": [
       "True"
      ]
     },
     "execution_count": 15,
     "metadata": {},
     "output_type": "execute_result"
    }
   ],
   "source": [
    "# Check GPU availability\n",
    "\n",
    "device = torch.device(\"cuda\" if torch.cuda.is_available() else \"cpu\")\n",
    "torch.cuda.is_available()"
   ]
  },
  {
   "cell_type": "code",
   "execution_count": 16,
   "metadata": {},
   "outputs": [
    {
     "data": {
      "text/plain": [
       "(47696, 32, 768)"
      ]
     },
     "execution_count": 16,
     "metadata": {},
     "output_type": "execute_result"
    }
   ],
   "source": [
    "# Embedding loading\n",
    "X = np.load(\"./embeddings_data_sequencial.npy\")\n",
    "X.shape"
   ]
  },
  {
   "cell_type": "code",
   "execution_count": 17,
   "metadata": {},
   "outputs": [
    {
     "data": {
      "text/plain": [
       "(47696,)"
      ]
     },
     "execution_count": 17,
     "metadata": {},
     "output_type": "execute_result"
    }
   ],
   "source": [
    "# Labels loading\n",
    "data = pd.read_csv(\"./balanced_data.csv\")\n",
    "y = data[\"class\"].values\n",
    "y.shape"
   ]
  },
  {
   "cell_type": "code",
   "execution_count": 18,
   "metadata": {},
   "outputs": [],
   "source": [
    "# Shuffling the dataset\n",
    "\n",
    "permutation = np.random.permutation(len(y))\n",
    "y = y[permutation].reshape(-1, 1)\n",
    "X = X[permutation]"
   ]
  },
  {
   "cell_type": "code",
   "execution_count": 19,
   "metadata": {},
   "outputs": [],
   "source": [
    "# Calculation of the set distribution\n",
    "\n",
    "test_size = int(y.shape[0] * 0.15)\n",
    "val_size = int(y.shape[0] * 0.15)\n",
    "train_size = int(y.shape[0] * 0.7)"
   ]
  },
  {
   "cell_type": "code",
   "execution_count": 20,
   "metadata": {},
   "outputs": [],
   "source": [
    "# Set definition\n",
    "\n",
    "X_train = X[:train_size]\n",
    "y_train = y[:train_size]\n",
    "\n",
    "X_val = X[train_size:train_size + val_size]\n",
    "y_val = y[train_size:train_size + val_size]\n",
    "\n",
    "X_test = X[train_size + val_size : ]\n",
    "y_test = y[train_size + val_size : ]"
   ]
  },
  {
   "cell_type": "code",
   "execution_count": 21,
   "metadata": {},
   "outputs": [],
   "source": [
    "# Custom layer that takes the last hidden state of the sequences\n",
    "\n",
    "class Modifier(nn.Module):\n",
    "    def __init__(self):\n",
    "        super().__init__()\n",
    "    \n",
    "\n",
    "    def forward(self, x):\n",
    "        output = x[:,-1,:]\n",
    "        \n",
    "        return output"
   ]
  },
  {
   "cell_type": "code",
   "execution_count": 22,
   "metadata": {},
   "outputs": [],
   "source": [
    "# Custom dataset class\n",
    "\n",
    "class CustomDataset(Dataset):\n",
    "    def __init__(self, x, y):\n",
    "        self.xs = torch.tensor(x).float().to(device)\n",
    "        self.ys = torch.tensor(y).float().to(device)\n",
    "\n",
    "    def __getitem__(self, idx):\n",
    "        x = self.xs[idx]\n",
    "        y = self.ys[idx]\n",
    "        return x, y\n",
    "\n",
    "    def __len__(self):\n",
    "        return len(self.xs)"
   ]
  },
  {
   "cell_type": "code",
   "execution_count": 23,
   "metadata": {},
   "outputs": [],
   "source": [
    "# Creation of the custom training and validation datasets\n",
    "\n",
    "train_data = CustomDataset(X_train, y_train)\n",
    "val_data = CustomDataset(X_val, y_val)"
   ]
  },
  {
   "cell_type": "code",
   "execution_count": 24,
   "metadata": {},
   "outputs": [],
   "source": [
    "# Creation of the dataloaders\n",
    "\n",
    "train_loader = DataLoader(train_data, batch_size = 32, shuffle = True)\n",
    "val_loader = DataLoader(val_data, batch_size = 32, shuffle = True)"
   ]
  },
  {
   "cell_type": "code",
   "execution_count": 25,
   "metadata": {},
   "outputs": [
    {
     "data": {
      "text/plain": [
       "torch.Size([32, 32, 768])"
      ]
     },
     "execution_count": 25,
     "metadata": {},
     "output_type": "execute_result"
    }
   ],
   "source": [
    "# Loader testing\n",
    "\n",
    "x_batch, y_batch = next(iter(train_loader))\n",
    "x_batch.shape"
   ]
  },
  {
   "cell_type": "code",
   "execution_count": 26,
   "metadata": {},
   "outputs": [],
   "source": [
    "# Custom layer that takes the last hidden state of the sequences\n",
    "\n",
    "class Modifier(nn.Module):\n",
    "    def __init__(self):\n",
    "        super().__init__()\n",
    "    \n",
    "\n",
    "    def forward(self, x):\n",
    "        output = x[:,-1,:]\n",
    "        \n",
    "        return output"
   ]
  },
  {
   "cell_type": "code",
   "execution_count": 27,
   "metadata": {},
   "outputs": [],
   "source": [
    "# Model architecture definition\n",
    "\n",
    "class CustomModel(nn.Module):\n",
    "    def __init__(self):\n",
    "        super().__init__()\n",
    "        self.lstm = nn.LSTM(input_size = 768, hidden_size = 256, num_layers = 1, batch_first = True, bidirectional=True)\n",
    "        self.dropout = nn.Dropout(p = 0.3)\n",
    "        self.lstm2 = nn.LSTM(input_size = 512, hidden_size = 128, num_layers = 1, batch_first = True, bidirectional=True)\n",
    "        self.modifier = Modifier()\n",
    "        self.dropout2 = nn.Dropout(p = 0.3)\n",
    "        \n",
    "        self.linear = nn.Linear(256, 64)\n",
    "        self.relu = nn.ReLU()\n",
    "        self.linear2 = nn.Linear(64, 1)\n",
    "        \n",
    "\n",
    "    def forward(self, x):\n",
    "        lstm_out, _ = self.lstm(x)\n",
    "        x = self.dropout(lstm_out)\n",
    "        lstm_out, _ = self.lstm2(x)\n",
    "        x = self.modifier(lstm_out)\n",
    "        x = self.dropout2(x)\n",
    "        \n",
    "        x = self.linear(x)\n",
    "        x = self.relu(x)\n",
    "        x = self.linear2(x)\n",
    "        \n",
    "        return x\n",
    "\n",
    "model = CustomModel()"
   ]
  },
  {
   "cell_type": "code",
   "execution_count": 28,
   "metadata": {},
   "outputs": [
    {
     "data": {
      "text/plain": [
       "OptimizedModule(\n",
       "  (_orig_mod): CustomModel(\n",
       "    (lstm): LSTM(768, 256, batch_first=True, bidirectional=True)\n",
       "    (dropout): Dropout(p=0.3, inplace=False)\n",
       "    (lstm2): LSTM(512, 128, batch_first=True, bidirectional=True)\n",
       "    (modifier): Modifier()\n",
       "    (dropout2): Dropout(p=0.3, inplace=False)\n",
       "    (linear): Linear(in_features=256, out_features=64, bias=True)\n",
       "    (relu): ReLU()\n",
       "    (linear2): Linear(in_features=64, out_features=1, bias=True)\n",
       "  )\n",
       ")"
      ]
     },
     "execution_count": 28,
     "metadata": {},
     "output_type": "execute_result"
    }
   ],
   "source": [
    "# Model compilation\n",
    "\n",
    "model = torch.compile(model.to(device), backend=\"eager\")\n",
    "model"
   ]
  },
  {
   "cell_type": "code",
   "execution_count": 29,
   "metadata": {},
   "outputs": [],
   "source": [
    "# Loss and optimizer definition\n",
    "\n",
    "loss_function = nn.BCEWithLogitsLoss()\n",
    "optimizer = Adam(model.parameters())\n",
    "model = model.to(device)"
   ]
  },
  {
   "cell_type": "code",
   "execution_count": 30,
   "metadata": {
    "scrolled": true
   },
   "outputs": [
    {
     "name": "stdout",
     "output_type": "stream",
     "text": [
      "Epoch 1/200\n",
      "Train Loss: 0.35935, Train Accuracy: 0.84341\n",
      "Validation Loss: 0.30861, Validation Accuracy: 0.87252\n",
      "Model saved!\n",
      "Epoch 2/200\n",
      "Train Loss: 0.29725, Train Accuracy: 0.87288\n",
      "Validation Loss: 0.29606, Validation Accuracy: 0.87126\n",
      "Model not saved!\n",
      "Epoch 3/200\n",
      "Train Loss: 0.27212, Train Accuracy: 0.88534\n",
      "Validation Loss: 0.27715, Validation Accuracy: 0.88286\n",
      "Model saved!\n",
      "Epoch 4/200\n",
      "Train Loss: 0.24642, Train Accuracy: 0.89822\n",
      "Validation Loss: 0.2637, Validation Accuracy: 0.89069\n",
      "Model saved!\n",
      "Epoch 5/200\n",
      "Train Loss: 0.21778, Train Accuracy: 0.91128\n",
      "Validation Loss: 0.27756, Validation Accuracy: 0.88426\n",
      "Model not saved!\n",
      "Epoch 6/200\n",
      "Train Loss: 0.18451, Train Accuracy: 0.92602\n",
      "Validation Loss: 0.27377, Validation Accuracy: 0.88762\n",
      "Model not saved!\n",
      "Epoch 7/200\n",
      "Train Loss: 0.14808, Train Accuracy: 0.94279\n",
      "Validation Loss: 0.31842, Validation Accuracy: 0.88957\n",
      "Model not saved!\n",
      "Epoch 8/200\n",
      "Train Loss: 0.1152, Train Accuracy: 0.9566\n",
      "Validation Loss: 0.32697, Validation Accuracy: 0.88216\n",
      "Model not saved!\n",
      "Epoch 9/200\n",
      "Train Loss: 0.087, Train Accuracy: 0.96807\n",
      "Validation Loss: 0.37672, Validation Accuracy: 0.87517\n",
      "Model not saved!\n",
      "Epoch 10/200\n",
      "Train Loss: 0.07076, Train Accuracy: 0.97505\n",
      "Validation Loss: 0.43116, Validation Accuracy: 0.87839\n",
      "Model not saved!\n",
      "Epoch 11/200\n",
      "Train Loss: 0.05496, Train Accuracy: 0.98122\n",
      "Validation Loss: 0.49188, Validation Accuracy: 0.87406\n",
      "Model not saved!\n",
      "Epoch 12/200\n",
      "Train Loss: 0.04823, Train Accuracy: 0.98326\n",
      "Validation Loss: 0.51754, Validation Accuracy: 0.87014\n",
      "Model not saved!\n",
      "Epoch 13/200\n",
      "Train Loss: 0.0418, Train Accuracy: 0.98679\n",
      "Validation Loss: 0.49812, Validation Accuracy: 0.88286\n",
      "Model not saved!\n",
      "Epoch 14/200\n",
      "Train Loss: 0.04016, Train Accuracy: 0.98691\n",
      "Validation Loss: 0.45075, Validation Accuracy: 0.87825\n",
      "Model not saved!\n",
      "Epoch 15/200\n",
      "Train Loss: 0.03786, Train Accuracy: 0.98748\n",
      "Validation Loss: 0.58752, Validation Accuracy: 0.8837\n",
      "Model not saved!\n",
      "Epoch 16/200\n",
      "Train Loss: 0.03187, Train Accuracy: 0.98907\n",
      "Validation Loss: 0.60424, Validation Accuracy: 0.87741\n",
      "Model not saved!\n",
      "Epoch 17/200\n",
      "Train Loss: 0.02806, Train Accuracy: 0.99095\n",
      "Validation Loss: 0.67405, Validation Accuracy: 0.88188\n",
      "Model not saved!\n",
      "Epoch 18/200\n",
      "Train Loss: 0.02899, Train Accuracy: 0.9903\n",
      "Validation Loss: 0.61843, Validation Accuracy: 0.85239\n",
      "Model not saved!\n",
      "Epoch 19/200\n",
      "Train Loss: 0.02705, Train Accuracy: 0.99048\n",
      "Validation Loss: 0.66711, Validation Accuracy: 0.87923\n",
      "Model not saved!\n",
      "Epoch 20/200\n",
      "Train Loss: 0.0242, Train Accuracy: 0.99203\n",
      "Validation Loss: 0.62108, Validation Accuracy: 0.87545\n",
      "Model not saved!\n",
      "Epoch 21/200\n",
      "Train Loss: 0.02462, Train Accuracy: 0.99182\n",
      "Validation Loss: 0.75871, Validation Accuracy: 0.88552\n",
      "Model not saved!\n",
      "Epoch 22/200\n",
      "Train Loss: 0.02438, Train Accuracy: 0.99227\n",
      "Validation Loss: 0.61506, Validation Accuracy: 0.88384\n",
      "Model not saved!\n",
      "Epoch 23/200\n",
      "Train Loss: 0.02247, Train Accuracy: 0.99233\n",
      "Validation Loss: 0.58161, Validation Accuracy: 0.87965\n",
      "Model not saved!\n",
      "Epoch 24/200\n",
      "Train Loss: 0.01761, Train Accuracy: 0.99437\n",
      "Validation Loss: 0.8039, Validation Accuracy: 0.86805\n",
      "Model not saved!\n",
      "Epoch 25/200\n",
      "Train Loss: 0.02248, Train Accuracy: 0.99239\n",
      "Validation Loss: 0.6755, Validation Accuracy: 0.88188\n",
      "Model not saved!\n",
      "Epoch 26/200\n",
      "Train Loss: 0.01981, Train Accuracy: 0.99365\n",
      "Validation Loss: 0.69768, Validation Accuracy: 0.87965\n",
      "Model not saved!\n",
      "Epoch 27/200\n",
      "Train Loss: 0.02001, Train Accuracy: 0.99374\n",
      "Validation Loss: 0.69753, Validation Accuracy: 0.88398\n",
      "Model not saved!\n",
      "Epoch 28/200\n",
      "Train Loss: 0.01502, Train Accuracy: 0.99482\n",
      "Validation Loss: 0.59741, Validation Accuracy: 0.87727\n",
      "Model not saved!\n",
      "Epoch 29/200\n",
      "Train Loss: 0.0215, Train Accuracy: 0.99299\n",
      "Validation Loss: 0.5766, Validation Accuracy: 0.88762\n",
      "Model not saved!\n",
      "Epoch 30/200\n",
      "Train Loss: 0.01657, Train Accuracy: 0.99443\n",
      "Validation Loss: 0.66493, Validation Accuracy: 0.87797\n",
      "Model not saved!\n",
      "Epoch 31/200\n",
      "Train Loss: 0.01606, Train Accuracy: 0.99449\n",
      "Validation Loss: 0.69031, Validation Accuracy: 0.88188\n",
      "Model not saved!\n",
      "Epoch 32/200\n",
      "Train Loss: 0.01752, Train Accuracy: 0.99437\n",
      "Validation Loss: 0.75413, Validation Accuracy: 0.88803\n",
      "Model not saved!\n",
      "Epoch 33/200\n",
      "Train Loss: 0.0151, Train Accuracy: 0.99527\n",
      "Validation Loss: 0.74848, Validation Accuracy: 0.88426\n",
      "Model not saved!\n",
      "Epoch 34/200\n",
      "Train Loss: 0.01429, Train Accuracy: 0.99578\n",
      "Validation Loss: 0.6124, Validation Accuracy: 0.87671\n",
      "Model not saved!\n",
      "Epoch 35/200\n",
      "Train Loss: 0.01573, Train Accuracy: 0.995\n",
      "Validation Loss: 0.54365, Validation Accuracy: 0.8858\n",
      "Model not saved!\n",
      "Epoch 36/200\n",
      "Train Loss: 0.01546, Train Accuracy: 0.99512\n",
      "Validation Loss: 0.74874, Validation Accuracy: 0.88636\n",
      "Model not saved!\n",
      "Epoch 37/200\n",
      "Train Loss: 0.01545, Train Accuracy: 0.99566\n",
      "Validation Loss: 0.69375, Validation Accuracy: 0.87629\n",
      "Model not saved!\n",
      "Epoch 38/200\n",
      "Train Loss: 0.01626, Train Accuracy: 0.99542\n",
      "Validation Loss: 0.61913, Validation Accuracy: 0.88622\n",
      "Model not saved!\n",
      "Epoch 39/200\n",
      "Train Loss: 0.01445, Train Accuracy: 0.99545\n",
      "Validation Loss: 0.51931, Validation Accuracy: 0.87909\n",
      "Model not saved!\n",
      "Epoch 40/200\n",
      "Train Loss: 0.01674, Train Accuracy: 0.99494\n",
      "Validation Loss: 0.6322, Validation Accuracy: 0.8865\n",
      "Model not saved!\n",
      "Epoch 41/200\n",
      "Train Loss: 0.01538, Train Accuracy: 0.99527\n",
      "Validation Loss: 0.78637, Validation Accuracy: 0.8872\n",
      "Model not saved!\n",
      "Epoch 42/200\n",
      "Train Loss: 0.01496, Train Accuracy: 0.99515\n",
      "Validation Loss: 0.50904, Validation Accuracy: 0.88859\n",
      "Model not saved!\n",
      "Epoch 43/200\n",
      "Train Loss: 0.01358, Train Accuracy: 0.99563\n",
      "Validation Loss: 0.73376, Validation Accuracy: 0.8823\n",
      "Model not saved!\n",
      "Epoch 44/200\n",
      "Train Loss: 0.01372, Train Accuracy: 0.99581\n",
      "Validation Loss: 0.76529, Validation Accuracy: 0.88454\n",
      "Model not saved!\n",
      "Epoch 45/200\n",
      "Train Loss: 0.01284, Train Accuracy: 0.99581\n",
      "Validation Loss: 0.69622, Validation Accuracy: 0.88314\n",
      "Model not saved!\n",
      "Epoch 46/200\n",
      "Train Loss: 0.01061, Train Accuracy: 0.99626\n",
      "Validation Loss: 0.80363, Validation Accuracy: 0.88384\n",
      "Model not saved!\n",
      "Epoch 47/200\n",
      "Train Loss: 0.01125, Train Accuracy: 0.99665\n",
      "Validation Loss: 0.63568, Validation Accuracy: 0.8851\n",
      "Model not saved!\n",
      "Epoch 48/200\n",
      "Train Loss: 0.01034, Train Accuracy: 0.9968\n",
      "Validation Loss: 0.778, Validation Accuracy: 0.87937\n",
      "Model not saved!\n",
      "Epoch 49/200\n",
      "Train Loss: 0.0151, Train Accuracy: 0.99497\n",
      "Validation Loss: 0.6399, Validation Accuracy: 0.8872\n",
      "Model not saved!\n",
      "Epoch 50/200\n",
      "Train Loss: 0.01391, Train Accuracy: 0.9959\n",
      "Validation Loss: 0.70259, Validation Accuracy: 0.88971\n",
      "Model not saved!\n",
      "Epoch 51/200\n",
      "Train Loss: 0.01046, Train Accuracy: 0.99721\n",
      "Validation Loss: 0.86931, Validation Accuracy: 0.88622\n",
      "Model not saved!\n",
      "Epoch 52/200\n",
      "Train Loss: 0.0127, Train Accuracy: 0.99611\n",
      "Validation Loss: 0.59333, Validation Accuracy: 0.88678\n",
      "Model not saved!\n",
      "Epoch 53/200\n",
      "Train Loss: 0.01257, Train Accuracy: 0.99653\n",
      "Validation Loss: 0.66014, Validation Accuracy: 0.88915\n",
      "Model not saved!\n",
      "Epoch 54/200\n",
      "Train Loss: 0.01477, Train Accuracy: 0.99527\n",
      "Validation Loss: 0.78407, Validation Accuracy: 0.88734\n",
      "Model not saved!\n",
      "Epoch 55/200\n",
      "Train Loss: 0.01059, Train Accuracy: 0.99697\n",
      "Validation Loss: 0.78958, Validation Accuracy: 0.88566\n",
      "Model not saved!\n",
      "Epoch 56/200\n",
      "Train Loss: 0.00852, Train Accuracy: 0.99712\n",
      "Validation Loss: 0.7482, Validation Accuracy: 0.89111\n",
      "Model saved!\n",
      "Epoch 57/200\n",
      "Train Loss: 0.01011, Train Accuracy: 0.99691\n",
      "Validation Loss: 0.77275, Validation Accuracy: 0.88608\n",
      "Model not saved!\n",
      "Epoch 58/200\n",
      "Train Loss: 0.00952, Train Accuracy: 0.99709\n",
      "Validation Loss: 0.78967, Validation Accuracy: 0.88454\n",
      "Model not saved!\n",
      "Epoch 59/200\n",
      "Train Loss: 0.01349, Train Accuracy: 0.99566\n",
      "Validation Loss: 0.68173, Validation Accuracy: 0.88384\n",
      "Model not saved!\n",
      "Epoch 60/200\n",
      "Train Loss: 0.00963, Train Accuracy: 0.99691\n",
      "Validation Loss: 0.69984, Validation Accuracy: 0.88021\n",
      "Model not saved!\n",
      "Epoch 61/200\n",
      "Train Loss: 0.01271, Train Accuracy: 0.99581\n",
      "Validation Loss: 0.83917, Validation Accuracy: 0.88873\n",
      "Model not saved!\n",
      "Epoch 62/200\n",
      "Train Loss: 0.0077, Train Accuracy: 0.99757\n",
      "Validation Loss: 0.715, Validation Accuracy: 0.88901\n",
      "Model not saved!\n",
      "Epoch 63/200\n",
      "Train Loss: 0.01204, Train Accuracy: 0.9962\n",
      "Validation Loss: 0.57555, Validation Accuracy: 0.88035\n",
      "Model not saved!\n",
      "Epoch 64/200\n",
      "Train Loss: 0.01131, Train Accuracy: 0.9962\n",
      "Validation Loss: 0.68163, Validation Accuracy: 0.88021\n",
      "Model not saved!\n",
      "Epoch 65/200\n",
      "Train Loss: 0.01048, Train Accuracy: 0.99691\n",
      "Validation Loss: 0.68956, Validation Accuracy: 0.88845\n",
      "Model not saved!\n",
      "Epoch 66/200\n",
      "Train Loss: 0.00875, Train Accuracy: 0.9973\n",
      "Validation Loss: 0.67255, Validation Accuracy: 0.87629\n",
      "Model not saved!\n",
      "Epoch 67/200\n",
      "Train Loss: 0.00922, Train Accuracy: 0.99709\n",
      "Validation Loss: 0.91478, Validation Accuracy: 0.88496\n",
      "Model not saved!\n",
      "Epoch 68/200\n",
      "Train Loss: 0.01176, Train Accuracy: 0.99587\n",
      "Validation Loss: 0.82263, Validation Accuracy: 0.88636\n",
      "Model not saved!\n",
      "Epoch 69/200\n",
      "Train Loss: 0.00946, Train Accuracy: 0.99727\n",
      "Validation Loss: 0.83342, Validation Accuracy: 0.88859\n",
      "Model not saved!\n",
      "Epoch 70/200\n",
      "Train Loss: 0.01307, Train Accuracy: 0.99578\n",
      "Validation Loss: 0.6316, Validation Accuracy: 0.88608\n",
      "Model not saved!\n",
      "Epoch 71/200\n",
      "Train Loss: 0.00841, Train Accuracy: 0.99751\n",
      "Validation Loss: 0.90091, Validation Accuracy: 0.88216\n",
      "Model not saved!\n",
      "Epoch 72/200\n",
      "Train Loss: 0.00993, Train Accuracy: 0.99647\n",
      "Validation Loss: 0.81846, Validation Accuracy: 0.8823\n",
      "Model not saved!\n",
      "Epoch 73/200\n",
      "Train Loss: 0.00752, Train Accuracy: 0.99775\n",
      "Validation Loss: 0.95377, Validation Accuracy: 0.88887\n",
      "Model not saved!\n",
      "Epoch 74/200\n",
      "Train Loss: 0.01008, Train Accuracy: 0.99712\n",
      "Validation Loss: 0.62909, Validation Accuracy: 0.88692\n",
      "Model not saved!\n",
      "Epoch 75/200\n",
      "Train Loss: 0.01079, Train Accuracy: 0.99686\n",
      "Validation Loss: 0.67843, Validation Accuracy: 0.88678\n",
      "Model not saved!\n",
      "Epoch 76/200\n",
      "Train Loss: 0.01073, Train Accuracy: 0.997\n",
      "Validation Loss: 0.62064, Validation Accuracy: 0.88077\n",
      "Model not saved!\n",
      "Epoch 77/200\n",
      "Train Loss: 0.00842, Train Accuracy: 0.99766\n",
      "Validation Loss: 0.66268, Validation Accuracy: 0.87923\n",
      "Model not saved!\n",
      "Epoch 78/200\n",
      "Train Loss: 0.00887, Train Accuracy: 0.99715\n",
      "Validation Loss: 0.64891, Validation Accuracy: 0.88105\n",
      "Model not saved!\n",
      "Epoch 79/200\n",
      "Train Loss: 0.0128, Train Accuracy: 0.99623\n",
      "Validation Loss: 0.65674, Validation Accuracy: 0.88119\n",
      "Model not saved!\n",
      "Epoch 80/200\n",
      "Train Loss: 0.00757, Train Accuracy: 0.99784\n",
      "Validation Loss: 0.75049, Validation Accuracy: 0.88328\n",
      "Model not saved!\n",
      "Epoch 81/200\n",
      "Train Loss: 0.00905, Train Accuracy: 0.99724\n",
      "Validation Loss: 0.71918, Validation Accuracy: 0.88468\n",
      "Model not saved!\n",
      "Epoch 82/200\n",
      "Train Loss: 0.0078, Train Accuracy: 0.99778\n",
      "Validation Loss: 0.81822, Validation Accuracy: 0.87657\n",
      "Model not saved!\n",
      "Epoch 83/200\n",
      "Train Loss: 0.00831, Train Accuracy: 0.99721\n",
      "Validation Loss: 0.79321, Validation Accuracy: 0.88552\n",
      "Model not saved!\n",
      "Epoch 84/200\n",
      "Train Loss: 0.00753, Train Accuracy: 0.99781\n",
      "Validation Loss: 0.88107, Validation Accuracy: 0.88957\n",
      "Model not saved!\n",
      "Epoch 85/200\n",
      "Train Loss: 0.00812, Train Accuracy: 0.99745\n",
      "Validation Loss: 0.85913, Validation Accuracy: 0.88678\n",
      "Model not saved!\n",
      "Epoch 86/200\n",
      "Train Loss: 0.00981, Train Accuracy: 0.99718\n",
      "Validation Loss: 0.70454, Validation Accuracy: 0.88622\n",
      "Model not saved!\n",
      "Epoch 87/200\n",
      "Train Loss: 0.01042, Train Accuracy: 0.99671\n",
      "Validation Loss: 0.58485, Validation Accuracy: 0.87601\n",
      "Model not saved!\n",
      "Epoch 88/200\n",
      "Train Loss: 0.01087, Train Accuracy: 0.99677\n",
      "Validation Loss: 0.7255, Validation Accuracy: 0.88538\n",
      "Model not saved!\n",
      "Epoch 89/200\n",
      "Train Loss: 0.00685, Train Accuracy: 0.99793\n",
      "Validation Loss: 0.74701, Validation Accuracy: 0.88314\n",
      "Model not saved!\n",
      "Epoch 90/200\n",
      "Train Loss: 0.00888, Train Accuracy: 0.99709\n",
      "Validation Loss: 0.66587, Validation Accuracy: 0.88384\n",
      "Model not saved!\n",
      "Epoch 91/200\n",
      "Train Loss: 0.00694, Train Accuracy: 0.99784\n",
      "Validation Loss: 0.87005, Validation Accuracy: 0.88314\n",
      "Model not saved!\n",
      "Epoch 92/200\n",
      "Train Loss: 0.00991, Train Accuracy: 0.99683\n",
      "Validation Loss: 0.75103, Validation Accuracy: 0.88258\n",
      "Model not saved!\n",
      "Epoch 93/200\n",
      "Train Loss: 0.00855, Train Accuracy: 0.99751\n",
      "Validation Loss: 0.6074, Validation Accuracy: 0.88202\n",
      "Model not saved!\n",
      "Epoch 94/200\n",
      "Train Loss: 0.0081, Train Accuracy: 0.99754\n",
      "Validation Loss: 0.6944, Validation Accuracy: 0.88566\n",
      "Model not saved!\n",
      "Epoch 95/200\n",
      "Train Loss: 0.0075, Train Accuracy: 0.99742\n",
      "Validation Loss: 0.90863, Validation Accuracy: 0.88174\n",
      "Model not saved!\n",
      "Epoch 96/200\n",
      "Train Loss: 0.00903, Train Accuracy: 0.99724\n",
      "Validation Loss: 0.69602, Validation Accuracy: 0.87727\n",
      "Model not saved!\n",
      "Epoch 97/200\n",
      "Train Loss: 0.00921, Train Accuracy: 0.99683\n",
      "Validation Loss: 0.84672, Validation Accuracy: 0.87685\n",
      "Model not saved!\n",
      "Epoch 98/200\n",
      "Train Loss: 0.00796, Train Accuracy: 0.99784\n",
      "Validation Loss: 0.77356, Validation Accuracy: 0.88482\n",
      "Model not saved!\n",
      "Epoch 99/200\n",
      "Train Loss: 0.00681, Train Accuracy: 0.99793\n",
      "Validation Loss: 0.8527, Validation Accuracy: 0.88454\n",
      "Model not saved!\n",
      "Epoch 100/200\n",
      "Train Loss: 0.00772, Train Accuracy: 0.99775\n",
      "Validation Loss: 0.81864, Validation Accuracy: 0.88608\n",
      "Model not saved!\n",
      "Epoch 101/200\n",
      "Train Loss: 0.00982, Train Accuracy: 0.99677\n",
      "Validation Loss: 0.71233, Validation Accuracy: 0.88356\n",
      "Model not saved!\n",
      "Epoch 102/200\n",
      "Train Loss: 0.00825, Train Accuracy: 0.99775\n",
      "Validation Loss: 0.84287, Validation Accuracy: 0.88706\n",
      "Model not saved!\n",
      "Epoch 103/200\n",
      "Train Loss: 0.00787, Train Accuracy: 0.9976\n",
      "Validation Loss: 0.77596, Validation Accuracy: 0.8858\n",
      "Model not saved!\n",
      "Epoch 104/200\n",
      "Train Loss: 0.00923, Train Accuracy: 0.99715\n",
      "Validation Loss: 0.73984, Validation Accuracy: 0.88845\n",
      "Model not saved!\n",
      "Epoch 105/200\n",
      "Train Loss: 0.00683, Train Accuracy: 0.99811\n",
      "Validation Loss: 0.79031, Validation Accuracy: 0.88426\n",
      "Model not saved!\n",
      "Epoch 106/200\n",
      "Train Loss: 0.00811, Train Accuracy: 0.99733\n",
      "Validation Loss: 0.82891, Validation Accuracy: 0.88566\n",
      "Model not saved!\n",
      "Epoch 107/200\n",
      "Train Loss: 0.00671, Train Accuracy: 0.9979\n",
      "Validation Loss: 0.79321, Validation Accuracy: 0.87685\n",
      "Model not saved!\n",
      "Epoch 108/200\n",
      "Train Loss: 0.00818, Train Accuracy: 0.99724\n",
      "Validation Loss: 0.85598, Validation Accuracy: 0.88524\n",
      "Model not saved!\n",
      "Epoch 109/200\n",
      "Train Loss: 0.00865, Train Accuracy: 0.99739\n",
      "Validation Loss: 0.90089, Validation Accuracy: 0.88734\n",
      "Model not saved!\n",
      "Epoch 110/200\n",
      "Train Loss: 0.00912, Train Accuracy: 0.99751\n",
      "Validation Loss: 0.70135, Validation Accuracy: 0.88384\n",
      "Model not saved!\n",
      "Epoch 111/200\n",
      "Train Loss: 0.00696, Train Accuracy: 0.99775\n",
      "Validation Loss: 0.66782, Validation Accuracy: 0.88482\n",
      "Model not saved!\n",
      "Epoch 112/200\n",
      "Train Loss: 0.00693, Train Accuracy: 0.99814\n",
      "Validation Loss: 0.8743, Validation Accuracy: 0.87853\n",
      "Model not saved!\n",
      "Epoch 113/200\n",
      "Train Loss: 0.00905, Train Accuracy: 0.99703\n",
      "Validation Loss: 0.81767, Validation Accuracy: 0.88678\n",
      "Model not saved!\n",
      "Epoch 114/200\n",
      "Train Loss: 0.00526, Train Accuracy: 0.99832\n",
      "Validation Loss: 0.88048, Validation Accuracy: 0.88901\n",
      "Model not saved!\n",
      "Epoch 115/200\n",
      "Train Loss: 0.00943, Train Accuracy: 0.99745\n",
      "Validation Loss: 0.95773, Validation Accuracy: 0.89125\n",
      "Model saved!\n",
      "Epoch 116/200\n",
      "Train Loss: 0.00762, Train Accuracy: 0.99772\n",
      "Validation Loss: 0.78179, Validation Accuracy: 0.87685\n",
      "Model not saved!\n",
      "Epoch 117/200\n",
      "Train Loss: 0.01038, Train Accuracy: 0.99715\n",
      "Validation Loss: 0.84726, Validation Accuracy: 0.8872\n",
      "Model not saved!\n",
      "Epoch 118/200\n",
      "Train Loss: 0.00501, Train Accuracy: 0.99874\n",
      "Validation Loss: 0.65037, Validation Accuracy: 0.88831\n",
      "Model not saved!\n",
      "Epoch 119/200\n",
      "Train Loss: 0.00873, Train Accuracy: 0.99709\n",
      "Validation Loss: 0.77107, Validation Accuracy: 0.89069\n",
      "Model not saved!\n",
      "Epoch 120/200\n",
      "Train Loss: 0.00814, Train Accuracy: 0.99739\n",
      "Validation Loss: 0.73328, Validation Accuracy: 0.89013\n",
      "Model not saved!\n",
      "Epoch 121/200\n",
      "Train Loss: 0.00541, Train Accuracy: 0.99874\n",
      "Validation Loss: 0.85665, Validation Accuracy: 0.88748\n",
      "Model not saved!\n",
      "Epoch 122/200\n",
      "Train Loss: 0.00723, Train Accuracy: 0.9976\n",
      "Validation Loss: 1.02396, Validation Accuracy: 0.89321\n",
      "Model saved!\n",
      "Epoch 123/200\n",
      "Train Loss: 0.00642, Train Accuracy: 0.99805\n",
      "Validation Loss: 0.76443, Validation Accuracy: 0.88538\n",
      "Model not saved!\n",
      "Epoch 124/200\n",
      "Train Loss: 0.00715, Train Accuracy: 0.99814\n",
      "Validation Loss: 0.84591, Validation Accuracy: 0.88706\n",
      "Model not saved!\n",
      "Epoch 125/200\n",
      "Train Loss: 0.00766, Train Accuracy: 0.9976\n",
      "Validation Loss: 0.70352, Validation Accuracy: 0.88356\n",
      "Model not saved!\n",
      "Epoch 126/200\n",
      "Train Loss: 0.00767, Train Accuracy: 0.9979\n",
      "Validation Loss: 0.70265, Validation Accuracy: 0.87741\n",
      "Model not saved!\n",
      "Epoch 127/200\n",
      "Train Loss: 0.00862, Train Accuracy: 0.9973\n",
      "Validation Loss: 0.77427, Validation Accuracy: 0.88706\n",
      "Model not saved!\n",
      "Epoch 128/200\n",
      "Train Loss: 0.00644, Train Accuracy: 0.99781\n",
      "Validation Loss: 0.96037, Validation Accuracy: 0.88258\n",
      "Model not saved!\n",
      "Epoch 129/200\n",
      "Train Loss: 0.00723, Train Accuracy: 0.99784\n",
      "Validation Loss: 0.83298, Validation Accuracy: 0.88538\n",
      "Model not saved!\n",
      "Epoch 130/200\n",
      "Train Loss: 0.00869, Train Accuracy: 0.99742\n",
      "Validation Loss: 0.63857, Validation Accuracy: 0.8872\n",
      "Model not saved!\n",
      "Epoch 131/200\n",
      "Train Loss: 0.00499, Train Accuracy: 0.9988\n",
      "Validation Loss: 0.77691, Validation Accuracy: 0.88776\n",
      "Model not saved!\n",
      "Epoch 132/200\n",
      "Train Loss: 0.00798, Train Accuracy: 0.99754\n",
      "Validation Loss: 0.64681, Validation Accuracy: 0.88146\n",
      "Model not saved!\n",
      "Epoch 133/200\n",
      "Train Loss: 0.00914, Train Accuracy: 0.99694\n",
      "Validation Loss: 0.78015, Validation Accuracy: 0.88538\n",
      "Model not saved!\n",
      "Epoch 134/200\n",
      "Train Loss: 0.00454, Train Accuracy: 0.99874\n",
      "Validation Loss: 0.94152, Validation Accuracy: 0.88748\n",
      "Model not saved!\n",
      "Epoch 135/200\n",
      "Train Loss: 0.00461, Train Accuracy: 0.99841\n",
      "Validation Loss: 1.03789, Validation Accuracy: 0.88789\n",
      "Model not saved!\n",
      "Epoch 136/200\n",
      "Train Loss: 0.00836, Train Accuracy: 0.99733\n",
      "Validation Loss: 0.78093, Validation Accuracy: 0.88272\n",
      "Model not saved!\n",
      "Epoch 137/200\n",
      "Train Loss: 0.00677, Train Accuracy: 0.9982\n",
      "Validation Loss: 0.79864, Validation Accuracy: 0.88384\n",
      "Model not saved!\n",
      "Epoch 138/200\n",
      "Train Loss: 0.00701, Train Accuracy: 0.99799\n",
      "Validation Loss: 0.81169, Validation Accuracy: 0.88426\n",
      "Model not saved!\n",
      "Epoch 139/200\n",
      "Train Loss: 0.00789, Train Accuracy: 0.99748\n",
      "Validation Loss: 0.92389, Validation Accuracy: 0.88594\n",
      "Model not saved!\n",
      "Epoch 140/200\n",
      "Train Loss: 0.00671, Train Accuracy: 0.99805\n",
      "Validation Loss: 0.84544, Validation Accuracy: 0.88706\n",
      "Model not saved!\n",
      "Epoch 141/200\n",
      "Train Loss: 0.01046, Train Accuracy: 0.99727\n",
      "Validation Loss: 0.68792, Validation Accuracy: 0.88356\n",
      "Model not saved!\n",
      "Epoch 142/200\n",
      "Train Loss: 0.00559, Train Accuracy: 0.99817\n",
      "Validation Loss: 0.73579, Validation Accuracy: 0.88692\n",
      "Model not saved!\n",
      "Epoch 143/200\n",
      "Train Loss: 0.00465, Train Accuracy: 0.99862\n",
      "Validation Loss: 0.78428, Validation Accuracy: 0.88636\n",
      "Model not saved!\n",
      "Epoch 144/200\n",
      "Train Loss: 0.00669, Train Accuracy: 0.9979\n",
      "Validation Loss: 0.85201, Validation Accuracy: 0.88789\n",
      "Model not saved!\n",
      "Epoch 145/200\n",
      "Train Loss: 0.00892, Train Accuracy: 0.99715\n",
      "Validation Loss: 0.71997, Validation Accuracy: 0.8816\n",
      "Model not saved!\n",
      "Epoch 146/200\n",
      "Train Loss: 0.00723, Train Accuracy: 0.99763\n",
      "Validation Loss: 0.884, Validation Accuracy: 0.88468\n",
      "Model not saved!\n",
      "Epoch 147/200\n",
      "Train Loss: 0.00697, Train Accuracy: 0.99808\n",
      "Validation Loss: 0.79511, Validation Accuracy: 0.88105\n",
      "Model not saved!\n",
      "Epoch 148/200\n",
      "Train Loss: 0.00701, Train Accuracy: 0.99775\n",
      "Validation Loss: 0.8917, Validation Accuracy: 0.88328\n",
      "Model not saved!\n",
      "Epoch 149/200\n",
      "Train Loss: 0.00469, Train Accuracy: 0.99874\n",
      "Validation Loss: 0.93433, Validation Accuracy: 0.88174\n",
      "Model not saved!\n",
      "Epoch 150/200\n",
      "Train Loss: 0.00641, Train Accuracy: 0.99811\n",
      "Validation Loss: 0.90463, Validation Accuracy: 0.88454\n",
      "Model not saved!\n",
      "Epoch 151/200\n",
      "Train Loss: 0.00685, Train Accuracy: 0.9976\n",
      "Validation Loss: 0.73347, Validation Accuracy: 0.87993\n",
      "Model not saved!\n",
      "Epoch 152/200\n",
      "Train Loss: 0.00686, Train Accuracy: 0.99811\n",
      "Validation Loss: 0.8632, Validation Accuracy: 0.88384\n",
      "Model not saved!\n",
      "Epoch 153/200\n",
      "Train Loss: 0.0084, Train Accuracy: 0.99757\n",
      "Validation Loss: 0.68753, Validation Accuracy: 0.88552\n",
      "Model not saved!\n",
      "Epoch 154/200\n",
      "Train Loss: 0.00777, Train Accuracy: 0.99748\n",
      "Validation Loss: 0.74229, Validation Accuracy: 0.88356\n",
      "Model not saved!\n",
      "Epoch 155/200\n",
      "Train Loss: 0.00539, Train Accuracy: 0.99859\n",
      "Validation Loss: 0.86385, Validation Accuracy: 0.88496\n",
      "Model not saved!\n",
      "Epoch 156/200\n",
      "Train Loss: 0.00755, Train Accuracy: 0.99754\n",
      "Validation Loss: 0.81139, Validation Accuracy: 0.88776\n",
      "Model not saved!\n",
      "Epoch 157/200\n",
      "Train Loss: 0.00727, Train Accuracy: 0.99796\n",
      "Validation Loss: 0.87155, Validation Accuracy: 0.88845\n",
      "Model not saved!\n",
      "Epoch 158/200\n",
      "Train Loss: 0.00584, Train Accuracy: 0.99817\n",
      "Validation Loss: 1.02236, Validation Accuracy: 0.88328\n",
      "Model not saved!\n",
      "Epoch 159/200\n",
      "Train Loss: 0.00763, Train Accuracy: 0.99793\n",
      "Validation Loss: 0.87222, Validation Accuracy: 0.8858\n",
      "Model not saved!\n",
      "Epoch 160/200\n",
      "Train Loss: 0.007, Train Accuracy: 0.9979\n",
      "Validation Loss: 0.71463, Validation Accuracy: 0.87993\n",
      "Model not saved!\n",
      "Epoch 161/200\n",
      "Train Loss: 0.00833, Train Accuracy: 0.99799\n",
      "Validation Loss: 0.61182, Validation Accuracy: 0.88901\n",
      "Model not saved!\n",
      "Epoch 162/200\n",
      "Train Loss: 0.00791, Train Accuracy: 0.99766\n",
      "Validation Loss: 0.78017, Validation Accuracy: 0.88272\n",
      "Model not saved!\n",
      "Epoch 163/200\n",
      "Train Loss: 0.00534, Train Accuracy: 0.9985\n",
      "Validation Loss: 0.65869, Validation Accuracy: 0.88007\n",
      "Model not saved!\n",
      "Epoch 164/200\n",
      "Train Loss: 0.00857, Train Accuracy: 0.99727\n",
      "Validation Loss: 0.80079, Validation Accuracy: 0.88706\n",
      "Model not saved!\n",
      "Epoch 165/200\n",
      "Train Loss: 0.00561, Train Accuracy: 0.99868\n",
      "Validation Loss: 0.67384, Validation Accuracy: 0.88286\n",
      "Model not saved!\n",
      "Epoch 166/200\n",
      "Train Loss: 0.00642, Train Accuracy: 0.99829\n",
      "Validation Loss: 0.86662, Validation Accuracy: 0.89125\n",
      "Model not saved!\n",
      "Epoch 167/200\n",
      "Train Loss: 0.00763, Train Accuracy: 0.9979\n",
      "Validation Loss: 0.59947, Validation Accuracy: 0.88748\n",
      "Model not saved!\n",
      "Epoch 168/200\n",
      "Train Loss: 0.00837, Train Accuracy: 0.99754\n",
      "Validation Loss: 0.63137, Validation Accuracy: 0.88636\n",
      "Model not saved!\n",
      "Epoch 169/200\n",
      "Train Loss: 0.00328, Train Accuracy: 0.99898\n",
      "Validation Loss: 0.92507, Validation Accuracy: 0.88384\n",
      "Model not saved!\n",
      "Epoch 170/200\n",
      "Train Loss: 0.00607, Train Accuracy: 0.99832\n",
      "Validation Loss: 0.82002, Validation Accuracy: 0.89041\n",
      "Model not saved!\n",
      "Epoch 171/200\n",
      "Train Loss: 0.00669, Train Accuracy: 0.99799\n",
      "Validation Loss: 0.61973, Validation Accuracy: 0.88188\n",
      "Model not saved!\n",
      "Epoch 172/200\n",
      "Train Loss: 0.00927, Train Accuracy: 0.99703\n",
      "Validation Loss: 0.61085, Validation Accuracy: 0.88845\n",
      "Model not saved!\n",
      "Epoch 173/200\n",
      "Train Loss: 0.00593, Train Accuracy: 0.99841\n",
      "Validation Loss: 0.74214, Validation Accuracy: 0.88859\n",
      "Model not saved!\n",
      "Epoch 174/200\n",
      "Train Loss: 0.00524, Train Accuracy: 0.99856\n",
      "Validation Loss: 0.80558, Validation Accuracy: 0.88608\n",
      "Model not saved!\n",
      "Epoch 175/200\n",
      "Train Loss: 0.00631, Train Accuracy: 0.99796\n",
      "Validation Loss: 0.67253, Validation Accuracy: 0.88174\n",
      "Model not saved!\n",
      "Epoch 176/200\n",
      "Train Loss: 0.00624, Train Accuracy: 0.99829\n",
      "Validation Loss: 0.75212, Validation Accuracy: 0.88328\n",
      "Model not saved!\n",
      "Epoch 177/200\n",
      "Train Loss: 0.00649, Train Accuracy: 0.99796\n",
      "Validation Loss: 0.85867, Validation Accuracy: 0.88957\n",
      "Model not saved!\n",
      "Epoch 178/200\n",
      "Train Loss: 0.00562, Train Accuracy: 0.99835\n",
      "Validation Loss: 0.82748, Validation Accuracy: 0.88398\n",
      "Model not saved!\n",
      "Epoch 179/200\n",
      "Train Loss: 0.00495, Train Accuracy: 0.99847\n",
      "Validation Loss: 0.95385, Validation Accuracy: 0.8865\n",
      "Model not saved!\n",
      "Epoch 180/200\n",
      "Train Loss: 0.00954, Train Accuracy: 0.99736\n",
      "Validation Loss: 0.73814, Validation Accuracy: 0.88538\n",
      "Model not saved!\n",
      "Epoch 181/200\n",
      "Train Loss: 0.00549, Train Accuracy: 0.99868\n",
      "Validation Loss: 0.70444, Validation Accuracy: 0.88468\n",
      "Model not saved!\n",
      "Epoch 182/200\n",
      "Train Loss: 0.01006, Train Accuracy: 0.99736\n",
      "Validation Loss: 0.62943, Validation Accuracy: 0.88146\n",
      "Model not saved!\n",
      "Epoch 183/200\n",
      "Train Loss: 0.00801, Train Accuracy: 0.9973\n",
      "Validation Loss: 0.74197, Validation Accuracy: 0.88356\n",
      "Model not saved!\n",
      "Epoch 184/200\n",
      "Train Loss: 0.00289, Train Accuracy: 0.99916\n",
      "Validation Loss: 1.34326, Validation Accuracy: 0.8872\n",
      "Model not saved!\n",
      "Epoch 185/200\n",
      "Train Loss: 0.0077, Train Accuracy: 0.99769\n",
      "Validation Loss: 0.88447, Validation Accuracy: 0.88174\n",
      "Model not saved!\n",
      "Epoch 186/200\n",
      "Train Loss: 0.00588, Train Accuracy: 0.99841\n",
      "Validation Loss: 0.78866, Validation Accuracy: 0.89125\n",
      "Model not saved!\n",
      "Epoch 187/200\n",
      "Train Loss: 0.00648, Train Accuracy: 0.99811\n",
      "Validation Loss: 0.68813, Validation Accuracy: 0.88566\n",
      "Model not saved!\n",
      "Epoch 188/200\n",
      "Train Loss: 0.00988, Train Accuracy: 0.99727\n",
      "Validation Loss: 0.75817, Validation Accuracy: 0.88594\n",
      "Model not saved!\n",
      "Epoch 189/200\n",
      "Train Loss: 0.00501, Train Accuracy: 0.9985\n",
      "Validation Loss: 0.89863, Validation Accuracy: 0.88566\n",
      "Model not saved!\n",
      "Epoch 190/200\n",
      "Train Loss: 0.00732, Train Accuracy: 0.99775\n",
      "Validation Loss: 0.80077, Validation Accuracy: 0.8823\n",
      "Model not saved!\n",
      "Epoch 191/200\n",
      "Train Loss: 0.00708, Train Accuracy: 0.99793\n",
      "Validation Loss: 0.68611, Validation Accuracy: 0.88622\n",
      "Model not saved!\n",
      "Epoch 192/200\n",
      "Train Loss: 0.00746, Train Accuracy: 0.99799\n",
      "Validation Loss: 0.63654, Validation Accuracy: 0.87448\n",
      "Model not saved!\n",
      "Epoch 193/200\n",
      "Train Loss: 0.00609, Train Accuracy: 0.99823\n",
      "Validation Loss: 0.78229, Validation Accuracy: 0.88049\n",
      "Model not saved!\n",
      "Epoch 194/200\n",
      "Train Loss: 0.00723, Train Accuracy: 0.99802\n",
      "Validation Loss: 0.87349, Validation Accuracy: 0.88272\n",
      "Model not saved!\n",
      "Epoch 195/200\n",
      "Train Loss: 0.00619, Train Accuracy: 0.99823\n",
      "Validation Loss: 0.71667, Validation Accuracy: 0.88608\n",
      "Model not saved!\n",
      "Epoch 196/200\n",
      "Train Loss: 0.00818, Train Accuracy: 0.99769\n",
      "Validation Loss: 0.74783, Validation Accuracy: 0.88272\n",
      "Model not saved!\n",
      "Epoch 197/200\n",
      "Train Loss: 0.00727, Train Accuracy: 0.99793\n",
      "Validation Loss: 0.82071, Validation Accuracy: 0.88957\n",
      "Model not saved!\n",
      "Epoch 198/200\n",
      "Train Loss: 0.00654, Train Accuracy: 0.99817\n",
      "Validation Loss: 0.85822, Validation Accuracy: 0.88188\n",
      "Model not saved!\n",
      "Epoch 199/200\n",
      "Train Loss: 0.00438, Train Accuracy: 0.99895\n",
      "Validation Loss: 0.78794, Validation Accuracy: 0.8844\n",
      "Model not saved!\n",
      "Epoch 200/200\n",
      "Train Loss: 0.0057, Train Accuracy: 0.99829\n",
      "Validation Loss: 1.08509, Validation Accuracy: 0.88636\n",
      "Model not saved!\n"
     ]
    },
    {
     "data": {
      "image/png": "[encoded data removed]",
      "text/plain": [
       "<Figure size 640x480 with 1 Axes>"
      ]
     },
     "metadata": {},
     "output_type": "display_data"
    },
    {
     "data": {
      "image/png": "[encoded data removed]",
      "text/plain": [
       "<Figure size 640x480 with 1 Axes>"
      ]
     },
     "metadata": {},
     "output_type": "display_data"
    }
   ],
   "source": [
    "training_loop(200, train_loader, val_loader, optimizer, loss_function, model)"
   ]
  },
  {
   "cell_type": "code",
   "execution_count": 34,
   "metadata": {},
   "outputs": [
    {
     "name": "stdout",
     "output_type": "stream",
     "text": [
      "              precision    recall  f1-score   support\n",
      "\n",
      "           0       0.86      0.93      0.89      3517\n",
      "           1       0.92      0.86      0.89      3638\n",
      "\n",
      "    accuracy                           0.89      7155\n",
      "   macro avg       0.89      0.89      0.89      7155\n",
      "weighted avg       0.89      0.89      0.89      7155\n",
      "\n"
     ]
    },
    {
     "data": {
      "image/png": "[encoded data removed]",
      "text/plain": [
       "<Figure size 640x480 with 2 Axes>"
      ]
     },
     "metadata": {},
     "output_type": "display_data"
    }
   ],
   "source": [
    "model_load = CustomModel()\n",
    "evaluate_model(model_load, X_test, y_test)"
   ]
  },
  {
   "cell_type": "markdown",
   "metadata": {},
   "source": [
    "#### **roBERTa Fine tunning with a dense classification head**"
   ]
  },
  {
   "cell_type": "markdown",
   "metadata": {},
   "source": [
    "##### **Utils**"
   ]
  },
  {
   "cell_type": "code",
   "execution_count": 15,
   "metadata": {},
   "outputs": [],
   "source": [
    "# Training function\n",
    "\n",
    "def train(train_loader, optimizer, loss_function, model_train):\n",
    "    loss = 0\n",
    "    accuracy = 0\n",
    "    batch_num = 0\n",
    "    model_train.train()\n",
    "    for batch in train_loader:\n",
    "        batch_num += 1\n",
    "        input_ids = batch[\"input_ids\"].to(device)\n",
    "        attention_mask = batch[\"attention_mask\"].to(device)\n",
    "        y = batch[\"label\"].to(device).float()\n",
    "        output = model_train(input_ids, attention_mask)\n",
    "        optimizer.zero_grad()\n",
    "        batch_loss = loss_function(output, y)\n",
    "        batch_loss.backward()\n",
    "        optimizer.step()\n",
    "\n",
    "        loss += batch_loss.item()\n",
    "        accuracy += get_accuracy(output, y, len(train_loader.dataset))\n",
    "    print(f\"Train Loss: {round(loss/batch_num, 5)}, Train Accuracy: {round(accuracy, 5)}\")\n",
    "\n",
    "    return loss/batch_num, accuracy"
   ]
  },
  {
   "cell_type": "code",
   "execution_count": 16,
   "metadata": {},
   "outputs": [],
   "source": [
    "# Validation function\n",
    "\n",
    "def validate(val_loader, loss_function, model_val):\n",
    "\n",
    "    loss = 0\n",
    "    accuracy = 0\n",
    "    batch_num = 0\n",
    "\n",
    "    model_val.eval()\n",
    "    with torch.no_grad():\n",
    "        for batch in val_loader:\n",
    "            batch_num += 1\n",
    "            input_ids = batch[\"input_ids\"].to(device)\n",
    "            attention_mask = batch[\"attention_mask\"].to(device)\n",
    "            y = batch[\"label\"].to(device).float()\n",
    "            output = model_val(input_ids, attention_mask)\n",
    "            batch_loss = loss_function(output, y)\n",
    "\n",
    "            loss += batch_loss.item()\n",
    "            accuracy += get_accuracy(output, y, len(val_loader.dataset))\n",
    "    print(f\"Validation Loss: {round(loss/batch_num, 5)}, Validation Accuracy: {round(accuracy, 5)}\")\n",
    "    return loss/batch_num, accuracy"
   ]
  },
  {
   "cell_type": "code",
   "execution_count": 17,
   "metadata": {},
   "outputs": [],
   "source": [
    "# Model evaluation\n",
    "\n",
    "def evaluate_model(model_load, test_loader):\n",
    "    model_eval = load_checkpoint(model_load)\n",
    "    batch = next(iter(test_loader))\n",
    "    input_ids = batch[\"input_ids\"].to(device)\n",
    "    attention_mask = batch[\"attention_mask\"].to(device)\n",
    "    y = batch[\"label\"].cpu().float().numpy()\n",
    "\n",
    "    with torch.no_grad():\n",
    "        y_pred = model_eval(input_ids, attention_mask)\n",
    "    \n",
    "    pred = torch.sigmoid(y_pred).cpu().numpy() > 0.5\n",
    "    \n",
    "    print(classification_report(y, pred))\n",
    "\n",
    "    conf_matrix = confusion_matrix(y, pred)\n",
    "\n",
    "    sns.heatmap(conf_matrix, xticklabels = [\"0\", \"1\"], yticklabels = [\"0\", \"1\"], annot=True, cmap='Blues', fmt = 'g')\n",
    "    plt.ylabel(\"Real\")\n",
    "    plt.xlabel(\"Predicción\")\n",
    "    plt.show()"
   ]
  },
  {
   "cell_type": "code",
   "execution_count": 18,
   "metadata": {},
   "outputs": [],
   "source": [
    "# Model evaluation without loading\n",
    "\n",
    "def evaluate_model_no_load(model_eval, test_loader):\n",
    "    batch = next(iter(test_loader))\n",
    "    input_ids = batch[\"input_ids\"].to(device)\n",
    "    attention_mask = batch[\"attention_mask\"].to(device)\n",
    "    y = batch[\"label\"].cpu().float().numpy()\n",
    "    model_eval.eval()\n",
    "    with torch.no_grad():\n",
    "        y_pred = model_eval(input_ids, attention_mask)\n",
    "    \n",
    "    pred = torch.sigmoid(y_pred).cpu().numpy() > 0.5\n",
    "    \n",
    "    print(classification_report(y, pred))\n",
    "\n",
    "    conf_matrix = confusion_matrix(y, pred)\n",
    "\n",
    "    sns.heatmap(conf_matrix, xticklabels = [\"0\", \"1\"], yticklabels = [\"0\", \"1\"], annot=True, cmap='Blues', fmt = 'g')\n",
    "    plt.ylabel(\"Real\")\n",
    "    plt.xlabel(\"Predicción\")\n",
    "    plt.show()"
   ]
  },
  {
   "cell_type": "code",
   "execution_count": 19,
   "metadata": {},
   "outputs": [],
   "source": [
    "# Training loop\n",
    "\n",
    "def training_loop(epochs, train_loader, val_loader, optimizer, loss_function, model_train_loop):\n",
    "    max_accuracy = 0\n",
    "    loss_accuracy_list = []\n",
    "\n",
    "    for epoch in range(epochs):\n",
    "        print(f\"Epoch {epoch + 1}/{epochs}\")\n",
    "        train_loss, train_accuracy = train(train_loader, optimizer, loss_function, model_train_loop)\n",
    "        current_loss, val_accuracy = validate(val_loader, loss_function, model_train_loop)\n",
    "        loss_accuracy_list.append((train_loss, train_accuracy, current_loss, val_accuracy))\n",
    "        if max_accuracy < val_accuracy:\n",
    "            max_accuracy = val_accuracy\n",
    "            save_checkpoint(model_train_loop)\n",
    "            print(\"Model saved!\")\n",
    "        else:\n",
    "            print(\"Model not saved!\")\n",
    "    \n",
    "    loss_accuracy_graph(loss_accuracy_list)"
   ]
  },
  {
   "cell_type": "markdown",
   "metadata": {},
   "source": [
    "##### **Implementation**"
   ]
  },
  {
   "cell_type": "code",
   "execution_count": 20,
   "metadata": {},
   "outputs": [
    {
     "data": {
      "text/plain": [
       "True"
      ]
     },
     "execution_count": 20,
     "metadata": {},
     "output_type": "execute_result"
    }
   ],
   "source": [
    "# Setting the device to use GPU\n",
    "\n",
    "device = torch.device(\"cuda\" if torch.cuda.is_available() else \"cpu\")\n",
    "torch.cuda.is_available()"
   ]
  },
  {
   "cell_type": "code",
   "execution_count": 21,
   "metadata": {},
   "outputs": [],
   "source": [
    "# Loading the data\n",
    "\n",
    "data = pd.read_csv('balanced_data.csv')\n",
    "X = data['tweet'].astype(str).values\n",
    "y = data['class'].values"
   ]
  },
  {
   "cell_type": "code",
   "execution_count": 22,
   "metadata": {},
   "outputs": [],
   "source": [
    "# Shuffling the dataset\n",
    "\n",
    "permutation = np.random.permutation(len(y))\n",
    "y = y[permutation].reshape(-1, 1)\n",
    "X = X[permutation].tolist()"
   ]
  },
  {
   "cell_type": "code",
   "execution_count": 23,
   "metadata": {},
   "outputs": [],
   "source": [
    "# Calculation of the set distribution\n",
    "\n",
    "test_size = int(y.shape[0] * 0.15)\n",
    "val_size = int(y.shape[0] * 0.15)\n",
    "train_size = int(y.shape[0] * 0.7)"
   ]
  },
  {
   "cell_type": "code",
   "execution_count": 24,
   "metadata": {},
   "outputs": [],
   "source": [
    "# Set definition\n",
    "\n",
    "X_train = X[:train_size]\n",
    "y_train = y[:train_size]\n",
    "\n",
    "X_val = X[train_size:train_size + val_size]\n",
    "y_val = y[train_size:train_size + val_size]\n",
    "\n",
    "X_test = X[train_size + val_size : ]\n",
    "y_test = y[train_size + val_size : ]"
   ]
  },
  {
   "cell_type": "code",
   "execution_count": 25,
   "metadata": {},
   "outputs": [],
   "source": [
    "# Custom dataset class\n",
    "\n",
    "class CustomDatasetText(Dataset):\n",
    "    def __init__(self, texts, labels, tokenizer, max_length):\n",
    "        self.texts = texts\n",
    "        self.labels = labels\n",
    "        self.tokenizer = tokenizer\n",
    "        self.max_length = max_length\n",
    "\n",
    "    def __getitem__(self, idx):\n",
    "        text = self.texts[idx]\n",
    "        label = self.labels[idx]\n",
    "        encoding = self.tokenizer(\n",
    "            self.texts[idx],\n",
    "            padding=\"max_length\",\n",
    "            truncation=True,\n",
    "            max_length=self.max_length,\n",
    "            return_tensors=\"pt\"\n",
    "        )\n",
    "        return  {\n",
    "            \"input_ids\": encoding[\"input_ids\"].squeeze(0),         # shape: (seq_len)\n",
    "            \"attention_mask\": encoding[\"attention_mask\"].squeeze(0),\n",
    "            \"label\": torch.tensor(label, dtype=torch.long)\n",
    "        }\n",
    "\n",
    "    def __len__(self):\n",
    "        return len(self.texts)"
   ]
  },
  {
   "cell_type": "code",
   "execution_count": 26,
   "metadata": {},
   "outputs": [],
   "source": [
    "# Tokenizer and dataset definitions\n",
    "\n",
    "tokenizer = AutoTokenizer.from_pretrained(\"cardiffnlp/twitter-roberta-base\")\n",
    "train_set = CustomDatasetText(X_train, y_train, tokenizer, 32)\n",
    "val_set = CustomDatasetText(X_val, y_val, tokenizer, 32)\n",
    "test_set = CustomDatasetText(X_test, y_test, tokenizer, 32)"
   ]
  },
  {
   "cell_type": "code",
   "execution_count": 27,
   "metadata": {},
   "outputs": [],
   "source": [
    "# Creation of the dataloaders\n",
    "\n",
    "train_loader = DataLoader(train_set, batch_size = 32, shuffle = True)\n",
    "val_loader = DataLoader(val_set, batch_size = 32, shuffle = True)\n",
    "test_loader = DataLoader(test_set, batch_size = len(test_set), shuffle = False)"
   ]
  },
  {
   "cell_type": "code",
   "execution_count": 28,
   "metadata": {},
   "outputs": [],
   "source": [
    "# BERT layer in our custom fine-tuned model\n",
    "\n",
    "class BERTLayer(nn.Module):\n",
    "    def __init__(self, model_name):\n",
    "        super().__init__()\n",
    "        self.roberta = AutoModel.from_pretrained(model_name)\n",
    "        for param in self.roberta.parameters():\n",
    "            param.requires_grad = False\n",
    "\n",
    "    def activate_grad(self):\n",
    "        for param in self.roberta.parameters():\n",
    "            param.requires_grad = True\n",
    "\n",
    "    def deactivate_grad(self):\n",
    "        for param in self.roberta.parameters():\n",
    "            param.requires_grad = False\n",
    "\n",
    "    def forward(self,input_ids, attention_mask):\n",
    "        outputs = self.roberta(input_ids= input_ids, attention_mask= attention_mask)\n",
    "        return outputs.last_hidden_state[:,0,:]"
   ]
  },
  {
   "cell_type": "code",
   "execution_count": 29,
   "metadata": {},
   "outputs": [],
   "source": [
    "# Model architecture definition\n",
    "\n",
    "class ClassificationHead(nn.Module):\n",
    "    def __init__(self):\n",
    "        super().__init__()\n",
    "        self.linear = nn.Linear(768, 256)\n",
    "        self.relu = nn.ReLU()\n",
    "        self.dropout = nn.Dropout(p = 0.3)\n",
    "        self.linear2 = nn.Linear(256, 32)\n",
    "        self.relu2 = nn.ReLU()\n",
    "        self.dropout2 = nn.Dropout(p = 0.2)\n",
    "        self.linear3 = nn.Linear(32, 1)\n",
    "\n",
    "    def forward(self, x):\n",
    "        x = self.linear(x)\n",
    "        x = self.relu(x)\n",
    "        x = self.dropout(x)\n",
    "        x = self.linear2(x)\n",
    "        x = self.relu2(x)\n",
    "        x = self.dropout2(x)\n",
    "        x = self.linear3(x)\n",
    "        \n",
    "        return x\n"
   ]
  },
  {
   "cell_type": "code",
   "execution_count": 30,
   "metadata": {},
   "outputs": [],
   "source": [
    "# Custom model definition\n",
    "\n",
    "class CustomModel(nn.Module):\n",
    "    def __init__(self, model_name):\n",
    "        super().__init__()\n",
    "        self.bert = BERTLayer(model_name)\n",
    "        self.head = ClassificationHead()\n",
    "\n",
    "    def forward(self, input_ids, attention_mask):\n",
    "        x = self.bert(input_ids, attention_mask)\n",
    "        x = self.head(x)\n",
    "        return x"
   ]
  },
  {
   "cell_type": "code",
   "execution_count": 31,
   "metadata": {},
   "outputs": [
    {
     "data": {
      "text/plain": [
       "OptimizedModule(\n",
       "  (_orig_mod): CustomModel(\n",
       "    (bert): BERTLayer(\n",
       "      (roberta): RobertaModel(\n",
       "        (embeddings): RobertaEmbeddings(\n",
       "          (word_embeddings): Embedding(50265, 768, padding_idx=1)\n",
       "          (position_embeddings): Embedding(514, 768, padding_idx=1)\n",
       "          (token_type_embeddings): Embedding(1, 768)\n",
       "          (LayerNorm): LayerNorm((768,), eps=1e-05, elementwise_affine=True)\n",
       "          (dropout): Dropout(p=0.1, inplace=False)\n",
       "        )\n",
       "        (encoder): RobertaEncoder(\n",
       "          (layer): ModuleList(\n",
       "            (0-11): 12 x RobertaLayer(\n",
       "              (attention): RobertaAttention(\n",
       "                (self): RobertaSdpaSelfAttention(\n",
       "                  (query): Linear(in_features=768, out_features=768, bias=True)\n",
       "                  (key): Linear(in_features=768, out_features=768, bias=True)\n",
       "                  (value): Linear(in_features=768, out_features=768, bias=True)\n",
       "                  (dropout): Dropout(p=0.1, inplace=False)\n",
       "                )\n",
       "                (output): RobertaSelfOutput(\n",
       "                  (dense): Linear(in_features=768, out_features=768, bias=True)\n",
       "                  (LayerNorm): LayerNorm((768,), eps=1e-05, elementwise_affine=True)\n",
       "                  (dropout): Dropout(p=0.1, inplace=False)\n",
       "                )\n",
       "              )\n",
       "              (intermediate): RobertaIntermediate(\n",
       "                (dense): Linear(in_features=768, out_features=3072, bias=True)\n",
       "                (intermediate_act_fn): GELUActivation()\n",
       "              )\n",
       "              (output): RobertaOutput(\n",
       "                (dense): Linear(in_features=3072, out_features=768, bias=True)\n",
       "                (LayerNorm): LayerNorm((768,), eps=1e-05, elementwise_affine=True)\n",
       "                (dropout): Dropout(p=0.1, inplace=False)\n",
       "              )\n",
       "            )\n",
       "          )\n",
       "        )\n",
       "        (pooler): RobertaPooler(\n",
       "          (dense): Linear(in_features=768, out_features=768, bias=True)\n",
       "          (activation): Tanh()\n",
       "        )\n",
       "      )\n",
       "    )\n",
       "    (head): ClassificationHead(\n",
       "      (linear): Linear(in_features=768, out_features=256, bias=True)\n",
       "      (relu): ReLU()\n",
       "      (dropout): Dropout(p=0.3, inplace=False)\n",
       "      (linear2): Linear(in_features=256, out_features=32, bias=True)\n",
       "      (relu2): ReLU()\n",
       "      (dropout2): Dropout(p=0.2, inplace=False)\n",
       "      (linear3): Linear(in_features=32, out_features=1, bias=True)\n",
       "    )\n",
       "  )\n",
       ")"
      ]
     },
     "execution_count": 31,
     "metadata": {},
     "output_type": "execute_result"
    }
   ],
   "source": [
    "# Model instanciation\n",
    "\n",
    "model_name = \"cardiffnlp/twitter-roberta-base\"\n",
    "model = CustomModel(model_name)\n",
    "model = torch.compile(model.to(device), backend=\"eager\")\n",
    "model"
   ]
  },
  {
   "cell_type": "code",
   "execution_count": 32,
   "metadata": {},
   "outputs": [],
   "source": [
    "# Loss and optimizer definition\n",
    "\n",
    "loss_function = nn.BCEWithLogitsLoss()\n",
    "optimizer = Adam(model.parameters())\n",
    "model = model.to(device)"
   ]
  },
  {
   "cell_type": "code",
   "execution_count": 33,
   "metadata": {},
   "outputs": [
    {
     "name": "stdout",
     "output_type": "stream",
     "text": [
      "              precision    recall  f1-score   support\n",
      "\n",
      "         0.0       0.00      0.00      0.00      3456\n",
      "         1.0       0.52      1.00      0.68      3699\n",
      "\n",
      "    accuracy                           0.52      7155\n",
      "   macro avg       0.26      0.50      0.34      7155\n",
      "weighted avg       0.27      0.52      0.35      7155\n",
      "\n"
     ]
    },
    {
     "name": "stderr",
     "output_type": "stream",
     "text": [
      "/home/sis.virtual.uniandes.edu.co/d.escalante/venv/lib/python3.10/site-packages/sklearn/metrics/_classification.py:1565: UndefinedMetricWarning: Precision is ill-defined and being set to 0.0 in labels with no predicted samples. Use `zero_division` parameter to control this behavior.\n",
      "  _warn_prf(average, modifier, f\"{metric.capitalize()} is\", len(result))\n",
      "/home/sis.virtual.uniandes.edu.co/d.escalante/venv/lib/python3.10/site-packages/sklearn/metrics/_classification.py:1565: UndefinedMetricWarning: Precision is ill-defined and being set to 0.0 in labels with no predicted samples. Use `zero_division` parameter to control this behavior.\n",
      "  _warn_prf(average, modifier, f\"{metric.capitalize()} is\", len(result))\n",
      "/home/sis.virtual.uniandes.edu.co/d.escalante/venv/lib/python3.10/site-packages/sklearn/metrics/_classification.py:1565: UndefinedMetricWarning: Precision is ill-defined and being set to 0.0 in labels with no predicted samples. Use `zero_division` parameter to control this behavior.\n",
      "  _warn_prf(average, modifier, f\"{metric.capitalize()} is\", len(result))\n"
     ]
    },
    {
     "data": {
      "image/png": "[encoded data removed]",
      "text/plain": [
       "<Figure size 640x480 with 2 Axes>"
      ]
     },
     "metadata": {},
     "output_type": "display_data"
    }
   ],
   "source": [
    "evaluate_model_no_load(model, test_loader)"
   ]
  },
  {
   "cell_type": "code",
   "execution_count": 34,
   "metadata": {},
   "outputs": [
    {
     "name": "stdout",
     "output_type": "stream",
     "text": [
      "Epoch 1/150\n",
      "Train Loss: 0.40697, Train Accuracy: 0.82212\n",
      "Validation Loss: 0.33714, Validation Accuracy: 0.86078\n",
      "Model saved!\n",
      "Epoch 2/150\n",
      "Train Loss: 0.36679, Train Accuracy: 0.83892\n",
      "Validation Loss: 0.32431, Validation Accuracy: 0.86148\n",
      "Model saved!\n",
      "Epoch 3/150\n",
      "Train Loss: 0.36054, Train Accuracy: 0.8435\n",
      "Validation Loss: 0.32424, Validation Accuracy: 0.85966\n",
      "Model not saved!\n",
      "Epoch 4/150\n",
      "Train Loss: 0.35597, Train Accuracy: 0.8432\n",
      "Validation Loss: 0.32318, Validation Accuracy: 0.86315\n",
      "Model saved!\n",
      "Epoch 5/150\n",
      "Train Loss: 0.35366, Train Accuracy: 0.84233\n",
      "Validation Loss: 0.33052, Validation Accuracy: 0.86287\n",
      "Model not saved!\n",
      "Epoch 6/150\n",
      "Train Loss: 0.35054, Train Accuracy: 0.84641\n",
      "Validation Loss: 0.31748, Validation Accuracy: 0.86259\n",
      "Model not saved!\n",
      "Epoch 7/150\n",
      "Train Loss: 0.35263, Train Accuracy: 0.84659\n",
      "Validation Loss: 0.31766, Validation Accuracy: 0.86497\n",
      "Model saved!\n",
      "Epoch 8/150\n",
      "Train Loss: 0.34678, Train Accuracy: 0.85006\n",
      "Validation Loss: 0.31613, Validation Accuracy: 0.86623\n",
      "Model saved!\n",
      "Epoch 9/150\n",
      "Train Loss: 0.34445, Train Accuracy: 0.84895\n",
      "Validation Loss: 0.3257, Validation Accuracy: 0.86259\n",
      "Model not saved!\n",
      "Epoch 10/150\n",
      "Train Loss: 0.34294, Train Accuracy: 0.84835\n",
      "Validation Loss: 0.31784, Validation Accuracy: 0.86693\n",
      "Model saved!\n",
      "Epoch 11/150\n",
      "Train Loss: 0.34276, Train Accuracy: 0.8515\n",
      "Validation Loss: 0.31305, Validation Accuracy: 0.86567\n",
      "Model not saved!\n",
      "Epoch 12/150\n",
      "Train Loss: 0.34046, Train Accuracy: 0.85162\n",
      "Validation Loss: 0.31837, Validation Accuracy: 0.86833\n",
      "Model saved!\n",
      "Epoch 13/150\n",
      "Train Loss: 0.34004, Train Accuracy: 0.85354\n",
      "Validation Loss: 0.31285, Validation Accuracy: 0.86874\n",
      "Model saved!\n",
      "Epoch 14/150\n",
      "Train Loss: 0.33431, Train Accuracy: 0.85455\n",
      "Validation Loss: 0.31118, Validation Accuracy: 0.8686\n",
      "Model not saved!\n",
      "Epoch 15/150\n",
      "Train Loss: 0.33396, Train Accuracy: 0.85452\n",
      "Validation Loss: 0.31113, Validation Accuracy: 0.86874\n",
      "Model saved!\n",
      "Epoch 16/150\n",
      "Train Loss: 0.33375, Train Accuracy: 0.85333\n",
      "Validation Loss: 0.33272, Validation Accuracy: 0.857\n",
      "Model not saved!\n",
      "Epoch 17/150\n",
      "Train Loss: 0.3317, Train Accuracy: 0.85455\n",
      "Validation Loss: 0.30891, Validation Accuracy: 0.86791\n",
      "Model not saved!\n",
      "Epoch 18/150\n",
      "Train Loss: 0.33121, Train Accuracy: 0.85653\n",
      "Validation Loss: 0.30704, Validation Accuracy: 0.87252\n",
      "Model saved!\n",
      "Epoch 19/150\n",
      "Train Loss: 0.3284, Train Accuracy: 0.85773\n",
      "Validation Loss: 0.30755, Validation Accuracy: 0.87154\n",
      "Model not saved!\n",
      "Epoch 20/150\n",
      "Train Loss: 0.329, Train Accuracy: 0.85791\n",
      "Validation Loss: 0.30537, Validation Accuracy: 0.87182\n",
      "Model not saved!\n",
      "Epoch 21/150\n",
      "Train Loss: 0.32371, Train Accuracy: 0.858\n",
      "Validation Loss: 0.32036, Validation Accuracy: 0.86064\n",
      "Model not saved!\n",
      "Epoch 22/150\n",
      "Train Loss: 0.32929, Train Accuracy: 0.85605\n",
      "Validation Loss: 0.30505, Validation Accuracy: 0.86944\n",
      "Model not saved!\n",
      "Epoch 23/150\n",
      "Train Loss: 0.32526, Train Accuracy: 0.85818\n",
      "Validation Loss: 0.31818, Validation Accuracy: 0.86525\n",
      "Model not saved!\n",
      "Epoch 24/150\n",
      "Train Loss: 0.3222, Train Accuracy: 0.86108\n",
      "Validation Loss: 0.30435, Validation Accuracy: 0.86902\n",
      "Model not saved!\n",
      "Epoch 25/150\n",
      "Train Loss: 0.32088, Train Accuracy: 0.86126\n",
      "Validation Loss: 0.30501, Validation Accuracy: 0.8714\n",
      "Model not saved!\n",
      "Epoch 26/150\n",
      "Train Loss: 0.31874, Train Accuracy: 0.86078\n",
      "Validation Loss: 0.30304, Validation Accuracy: 0.8728\n",
      "Model saved!\n",
      "Epoch 27/150\n",
      "Train Loss: 0.31927, Train Accuracy: 0.86099\n",
      "Validation Loss: 0.30423, Validation Accuracy: 0.8707\n",
      "Model not saved!\n",
      "Epoch 28/150\n",
      "Train Loss: 0.31712, Train Accuracy: 0.86186\n",
      "Validation Loss: 0.31199, Validation Accuracy: 0.86273\n",
      "Model not saved!\n",
      "Epoch 29/150\n",
      "Train Loss: 0.31606, Train Accuracy: 0.86318\n",
      "Validation Loss: 0.30857, Validation Accuracy: 0.87014\n",
      "Model not saved!\n",
      "Epoch 30/150\n",
      "Train Loss: 0.31667, Train Accuracy: 0.863\n",
      "Validation Loss: 0.30258, Validation Accuracy: 0.87322\n",
      "Model saved!\n",
      "Epoch 31/150\n",
      "Train Loss: 0.31562, Train Accuracy: 0.86324\n",
      "Validation Loss: 0.30867, Validation Accuracy: 0.86595\n",
      "Model not saved!\n",
      "Epoch 32/150\n",
      "Train Loss: 0.31413, Train Accuracy: 0.86351\n",
      "Validation Loss: 0.30092, Validation Accuracy: 0.87098\n",
      "Model not saved!\n",
      "Epoch 33/150\n",
      "Train Loss: 0.31433, Train Accuracy: 0.86384\n",
      "Validation Loss: 0.30439, Validation Accuracy: 0.87182\n",
      "Model not saved!\n",
      "Epoch 34/150\n",
      "Train Loss: 0.31078, Train Accuracy: 0.86534\n",
      "Validation Loss: 0.30194, Validation Accuracy: 0.87671\n",
      "Model saved!\n",
      "Epoch 35/150\n",
      "Train Loss: 0.30777, Train Accuracy: 0.86704\n",
      "Validation Loss: 0.30676, Validation Accuracy: 0.8686\n",
      "Model not saved!\n",
      "Epoch 36/150\n",
      "Train Loss: 0.31228, Train Accuracy: 0.86522\n",
      "Validation Loss: 0.30122, Validation Accuracy: 0.87196\n",
      "Model not saved!\n",
      "Epoch 37/150\n",
      "Train Loss: 0.31005, Train Accuracy: 0.86417\n",
      "Validation Loss: 0.30036, Validation Accuracy: 0.87378\n",
      "Model not saved!\n",
      "Epoch 38/150\n",
      "Train Loss: 0.31027, Train Accuracy: 0.86489\n",
      "Validation Loss: 0.29749, Validation Accuracy: 0.87615\n",
      "Model not saved!\n",
      "Epoch 39/150\n",
      "Train Loss: 0.30569, Train Accuracy: 0.87001\n",
      "Validation Loss: 0.30166, Validation Accuracy: 0.87601\n",
      "Model not saved!\n",
      "Epoch 40/150\n",
      "Train Loss: 0.30738, Train Accuracy: 0.86558\n",
      "Validation Loss: 0.30778, Validation Accuracy: 0.86958\n",
      "Model not saved!\n",
      "Epoch 41/150\n",
      "Train Loss: 0.30526, Train Accuracy: 0.87001\n",
      "Validation Loss: 0.29867, Validation Accuracy: 0.87545\n",
      "Model not saved!\n",
      "Epoch 42/150\n",
      "Train Loss: 0.30195, Train Accuracy: 0.8695\n",
      "Validation Loss: 0.30053, Validation Accuracy: 0.87685\n",
      "Model saved!\n",
      "Epoch 43/150\n",
      "Train Loss: 0.30598, Train Accuracy: 0.86881\n",
      "Validation Loss: 0.29808, Validation Accuracy: 0.87559\n",
      "Model not saved!\n",
      "Epoch 44/150\n",
      "Train Loss: 0.30638, Train Accuracy: 0.86749\n",
      "Validation Loss: 0.3031, Validation Accuracy: 0.8728\n",
      "Model not saved!\n",
      "Epoch 45/150\n",
      "Train Loss: 0.30465, Train Accuracy: 0.86788\n",
      "Validation Loss: 0.2982, Validation Accuracy: 0.87769\n",
      "Model saved!\n",
      "Epoch 46/150\n",
      "Train Loss: 0.30218, Train Accuracy: 0.86938\n",
      "Validation Loss: 0.30253, Validation Accuracy: 0.8742\n",
      "Model not saved!\n",
      "Epoch 47/150\n",
      "Train Loss: 0.30287, Train Accuracy: 0.86938\n",
      "Validation Loss: 0.29867, Validation Accuracy: 0.87657\n",
      "Model not saved!\n",
      "Epoch 48/150\n",
      "Train Loss: 0.30207, Train Accuracy: 0.86905\n",
      "Validation Loss: 0.29738, Validation Accuracy: 0.87545\n",
      "Model not saved!\n",
      "Epoch 49/150\n",
      "Train Loss: 0.30144, Train Accuracy: 0.86965\n",
      "Validation Loss: 0.30711, Validation Accuracy: 0.87238\n",
      "Model not saved!\n",
      "Epoch 50/150\n",
      "Train Loss: 0.30084, Train Accuracy: 0.87136\n",
      "Validation Loss: 0.29804, Validation Accuracy: 0.87517\n",
      "Model not saved!\n",
      "Epoch 51/150\n",
      "Train Loss: 0.29835, Train Accuracy: 0.87211\n",
      "Validation Loss: 0.30698, Validation Accuracy: 0.8735\n",
      "Model not saved!\n",
      "Epoch 52/150\n",
      "Train Loss: 0.29727, Train Accuracy: 0.87157\n",
      "Validation Loss: 0.29881, Validation Accuracy: 0.87336\n",
      "Model not saved!\n",
      "Epoch 53/150\n",
      "Train Loss: 0.299, Train Accuracy: 0.87181\n",
      "Validation Loss: 0.30492, Validation Accuracy: 0.87014\n",
      "Model not saved!\n",
      "Epoch 54/150\n",
      "Train Loss: 0.29535, Train Accuracy: 0.87217\n",
      "Validation Loss: 0.32568, Validation Accuracy: 0.85435\n",
      "Model not saved!\n",
      "Epoch 55/150\n",
      "Train Loss: 0.29495, Train Accuracy: 0.8716\n",
      "Validation Loss: 0.29767, Validation Accuracy: 0.87671\n",
      "Model not saved!\n",
      "Epoch 56/150\n",
      "Train Loss: 0.29698, Train Accuracy: 0.87217\n",
      "Validation Loss: 0.30125, Validation Accuracy: 0.87559\n",
      "Model not saved!\n",
      "Epoch 57/150\n",
      "Train Loss: 0.29384, Train Accuracy: 0.87285\n",
      "Validation Loss: 0.29597, Validation Accuracy: 0.87811\n",
      "Model saved!\n",
      "Epoch 58/150\n",
      "Train Loss: 0.29255, Train Accuracy: 0.87273\n",
      "Validation Loss: 0.31026, Validation Accuracy: 0.87112\n",
      "Model not saved!\n",
      "Epoch 59/150\n",
      "Train Loss: 0.292, Train Accuracy: 0.87489\n",
      "Validation Loss: 0.29959, Validation Accuracy: 0.87727\n",
      "Model not saved!\n",
      "Epoch 60/150\n",
      "Train Loss: 0.29344, Train Accuracy: 0.87279\n",
      "Validation Loss: 0.29972, Validation Accuracy: 0.87448\n",
      "Model not saved!\n",
      "Epoch 61/150\n",
      "Train Loss: 0.29072, Train Accuracy: 0.87609\n",
      "Validation Loss: 0.30119, Validation Accuracy: 0.87476\n",
      "Model not saved!\n",
      "Epoch 62/150\n",
      "Train Loss: 0.29116, Train Accuracy: 0.87333\n",
      "Validation Loss: 0.29809, Validation Accuracy: 0.87601\n",
      "Model not saved!\n",
      "Epoch 63/150\n",
      "Train Loss: 0.28983, Train Accuracy: 0.87672\n",
      "Validation Loss: 0.29851, Validation Accuracy: 0.87252\n",
      "Model not saved!\n",
      "Epoch 64/150\n",
      "Train Loss: 0.29019, Train Accuracy: 0.87552\n",
      "Validation Loss: 0.29382, Validation Accuracy: 0.88063\n",
      "Model saved!\n",
      "Epoch 65/150\n",
      "Train Loss: 0.28877, Train Accuracy: 0.87477\n",
      "Validation Loss: 0.30482, Validation Accuracy: 0.87462\n",
      "Model not saved!\n",
      "Epoch 66/150\n",
      "Train Loss: 0.28936, Train Accuracy: 0.87513\n",
      "Validation Loss: 0.29818, Validation Accuracy: 0.87741\n",
      "Model not saved!\n",
      "Epoch 67/150\n",
      "Train Loss: 0.28922, Train Accuracy: 0.87642\n",
      "Validation Loss: 0.29606, Validation Accuracy: 0.87867\n",
      "Model not saved!\n",
      "Epoch 68/150\n",
      "Train Loss: 0.2895, Train Accuracy: 0.87642\n",
      "Validation Loss: 0.306, Validation Accuracy: 0.87531\n",
      "Model not saved!\n",
      "Epoch 69/150\n",
      "Train Loss: 0.28602, Train Accuracy: 0.87615\n",
      "Validation Loss: 0.30014, Validation Accuracy: 0.87629\n",
      "Model not saved!\n",
      "Epoch 70/150\n",
      "Train Loss: 0.28856, Train Accuracy: 0.87549\n",
      "Validation Loss: 0.29965, Validation Accuracy: 0.87476\n",
      "Model not saved!\n",
      "Epoch 71/150\n",
      "Train Loss: 0.28209, Train Accuracy: 0.87882\n",
      "Validation Loss: 0.29825, Validation Accuracy: 0.87769\n",
      "Model not saved!\n",
      "Epoch 72/150\n",
      "Train Loss: 0.28583, Train Accuracy: 0.87597\n",
      "Validation Loss: 0.29917, Validation Accuracy: 0.87587\n",
      "Model not saved!\n",
      "Epoch 73/150\n",
      "Train Loss: 0.28442, Train Accuracy: 0.87723\n",
      "Validation Loss: 0.29955, Validation Accuracy: 0.87448\n",
      "Model not saved!\n",
      "Epoch 74/150\n",
      "Train Loss: 0.2855, Train Accuracy: 0.87714\n",
      "Validation Loss: 0.29876, Validation Accuracy: 0.87671\n",
      "Model not saved!\n",
      "Epoch 75/150\n",
      "Train Loss: 0.28414, Train Accuracy: 0.87702\n",
      "Validation Loss: 0.2969, Validation Accuracy: 0.87573\n",
      "Model not saved!\n",
      "Epoch 76/150\n",
      "Train Loss: 0.28382, Train Accuracy: 0.87708\n",
      "Validation Loss: 0.29579, Validation Accuracy: 0.87713\n",
      "Model not saved!\n",
      "Epoch 77/150\n",
      "Train Loss: 0.28525, Train Accuracy: 0.87738\n",
      "Validation Loss: 0.29956, Validation Accuracy: 0.87294\n",
      "Model not saved!\n",
      "Epoch 78/150\n",
      "Train Loss: 0.28336, Train Accuracy: 0.87771\n",
      "Validation Loss: 0.29611, Validation Accuracy: 0.87685\n",
      "Model not saved!\n",
      "Epoch 79/150\n",
      "Train Loss: 0.28157, Train Accuracy: 0.8795\n",
      "Validation Loss: 0.30198, Validation Accuracy: 0.87895\n",
      "Model not saved!\n",
      "Epoch 80/150\n",
      "Train Loss: 0.28313, Train Accuracy: 0.87867\n",
      "Validation Loss: 0.30088, Validation Accuracy: 0.8686\n",
      "Model not saved!\n",
      "Epoch 81/150\n",
      "Train Loss: 0.28196, Train Accuracy: 0.87804\n",
      "Validation Loss: 0.3028, Validation Accuracy: 0.87587\n",
      "Model not saved!\n",
      "Epoch 82/150\n",
      "Train Loss: 0.28022, Train Accuracy: 0.87965\n",
      "Validation Loss: 0.30306, Validation Accuracy: 0.87168\n",
      "Model not saved!\n",
      "Epoch 83/150\n",
      "Train Loss: 0.27906, Train Accuracy: 0.88001\n",
      "Validation Loss: 0.30678, Validation Accuracy: 0.86986\n",
      "Model not saved!\n",
      "Epoch 84/150\n",
      "Train Loss: 0.27818, Train Accuracy: 0.8804\n",
      "Validation Loss: 0.29721, Validation Accuracy: 0.87909\n",
      "Model not saved!\n",
      "Epoch 85/150\n",
      "Train Loss: 0.2786, Train Accuracy: 0.87998\n",
      "Validation Loss: 0.29642, Validation Accuracy: 0.87713\n",
      "Model not saved!\n",
      "Epoch 86/150\n",
      "Train Loss: 0.27875, Train Accuracy: 0.88031\n",
      "Validation Loss: 0.29637, Validation Accuracy: 0.88007\n",
      "Model not saved!\n",
      "Epoch 87/150\n",
      "Train Loss: 0.28083, Train Accuracy: 0.88013\n",
      "Validation Loss: 0.30009, Validation Accuracy: 0.87573\n",
      "Model not saved!\n",
      "Epoch 88/150\n",
      "Train Loss: 0.27492, Train Accuracy: 0.88121\n",
      "Validation Loss: 0.29835, Validation Accuracy: 0.87755\n",
      "Model not saved!\n",
      "Epoch 89/150\n",
      "Train Loss: 0.27736, Train Accuracy: 0.8807\n",
      "Validation Loss: 0.29879, Validation Accuracy: 0.87699\n",
      "Model not saved!\n",
      "Epoch 90/150\n",
      "Train Loss: 0.27564, Train Accuracy: 0.88217\n",
      "Validation Loss: 0.29837, Validation Accuracy: 0.87657\n",
      "Model not saved!\n",
      "Epoch 91/150\n",
      "Train Loss: 0.27766, Train Accuracy: 0.88118\n",
      "Validation Loss: 0.30934, Validation Accuracy: 0.87434\n",
      "Model not saved!\n",
      "Epoch 92/150\n",
      "Train Loss: 0.27911, Train Accuracy: 0.88052\n",
      "Validation Loss: 0.30271, Validation Accuracy: 0.87434\n",
      "Model not saved!\n",
      "Epoch 93/150\n",
      "Train Loss: 0.27674, Train Accuracy: 0.8789\n",
      "Validation Loss: 0.30134, Validation Accuracy: 0.87741\n",
      "Model not saved!\n",
      "Epoch 94/150\n",
      "Train Loss: 0.2775, Train Accuracy: 0.87956\n",
      "Validation Loss: 0.29902, Validation Accuracy: 0.87378\n",
      "Model not saved!\n",
      "Epoch 95/150\n",
      "Train Loss: 0.27632, Train Accuracy: 0.88013\n",
      "Validation Loss: 0.29381, Validation Accuracy: 0.87895\n",
      "Model not saved!\n",
      "Epoch 96/150\n",
      "Train Loss: 0.27487, Train Accuracy: 0.88013\n",
      "Validation Loss: 0.29987, Validation Accuracy: 0.87252\n",
      "Model not saved!\n",
      "Epoch 97/150\n",
      "Train Loss: 0.27425, Train Accuracy: 0.88193\n",
      "Validation Loss: 0.29734, Validation Accuracy: 0.87797\n",
      "Model not saved!\n",
      "Epoch 98/150\n",
      "Train Loss: 0.27299, Train Accuracy: 0.88031\n",
      "Validation Loss: 0.30329, Validation Accuracy: 0.87503\n",
      "Model not saved!\n",
      "Epoch 99/150\n",
      "Train Loss: 0.27581, Train Accuracy: 0.88067\n",
      "Validation Loss: 0.29715, Validation Accuracy: 0.87629\n",
      "Model not saved!\n",
      "Epoch 100/150\n",
      "Train Loss: 0.27715, Train Accuracy: 0.88109\n",
      "Validation Loss: 0.29901, Validation Accuracy: 0.87601\n",
      "Model not saved!\n",
      "Epoch 101/150\n",
      "Train Loss: 0.27294, Train Accuracy: 0.88226\n",
      "Validation Loss: 0.2956, Validation Accuracy: 0.87867\n",
      "Model not saved!\n",
      "Epoch 102/150\n",
      "Train Loss: 0.27269, Train Accuracy: 0.88286\n",
      "Validation Loss: 0.29329, Validation Accuracy: 0.87699\n",
      "Model not saved!\n",
      "Epoch 103/150\n",
      "Train Loss: 0.27029, Train Accuracy: 0.88412\n",
      "Validation Loss: 0.29893, Validation Accuracy: 0.87657\n",
      "Model not saved!\n",
      "Epoch 104/150\n",
      "Train Loss: 0.27167, Train Accuracy: 0.88409\n",
      "Validation Loss: 0.29687, Validation Accuracy: 0.87643\n",
      "Model not saved!\n",
      "Epoch 105/150\n",
      "Train Loss: 0.27089, Train Accuracy: 0.88328\n",
      "Validation Loss: 0.30077, Validation Accuracy: 0.87797\n",
      "Model not saved!\n",
      "Epoch 106/150\n",
      "Train Loss: 0.2692, Train Accuracy: 0.88433\n",
      "Validation Loss: 0.29389, Validation Accuracy: 0.87951\n",
      "Model not saved!\n",
      "Epoch 107/150\n",
      "Train Loss: 0.27154, Train Accuracy: 0.88361\n",
      "Validation Loss: 0.29826, Validation Accuracy: 0.87699\n",
      "Model not saved!\n",
      "Epoch 108/150\n",
      "Train Loss: 0.27134, Train Accuracy: 0.88271\n",
      "Validation Loss: 0.30734, Validation Accuracy: 0.87881\n",
      "Model not saved!\n",
      "Epoch 109/150\n",
      "Train Loss: 0.27011, Train Accuracy: 0.88442\n",
      "Validation Loss: 0.29583, Validation Accuracy: 0.87587\n",
      "Model not saved!\n",
      "Epoch 110/150\n",
      "Train Loss: 0.27042, Train Accuracy: 0.88379\n",
      "Validation Loss: 0.2998, Validation Accuracy: 0.8721\n",
      "Model not saved!\n",
      "Epoch 111/150\n",
      "Train Loss: 0.27046, Train Accuracy: 0.88265\n",
      "Validation Loss: 0.29791, Validation Accuracy: 0.87531\n",
      "Model not saved!\n",
      "Epoch 112/150\n",
      "Train Loss: 0.26849, Train Accuracy: 0.88454\n",
      "Validation Loss: 0.3004, Validation Accuracy: 0.87825\n",
      "Model not saved!\n",
      "Epoch 113/150\n",
      "Train Loss: 0.2699, Train Accuracy: 0.88421\n",
      "Validation Loss: 0.30786, Validation Accuracy: 0.87392\n",
      "Model not saved!\n",
      "Epoch 114/150\n",
      "Train Loss: 0.26783, Train Accuracy: 0.88451\n",
      "Validation Loss: 0.30035, Validation Accuracy: 0.87867\n",
      "Model not saved!\n",
      "Epoch 115/150\n",
      "Train Loss: 0.27004, Train Accuracy: 0.88442\n",
      "Validation Loss: 0.30525, Validation Accuracy: 0.87601\n",
      "Model not saved!\n",
      "Epoch 116/150\n",
      "Train Loss: 0.2674, Train Accuracy: 0.88445\n",
      "Validation Loss: 0.29709, Validation Accuracy: 0.87643\n",
      "Model not saved!\n",
      "Epoch 117/150\n",
      "Train Loss: 0.26725, Train Accuracy: 0.88573\n",
      "Validation Loss: 0.29637, Validation Accuracy: 0.87769\n",
      "Model not saved!\n",
      "Epoch 118/150\n",
      "Train Loss: 0.26967, Train Accuracy: 0.88277\n",
      "Validation Loss: 0.29838, Validation Accuracy: 0.87755\n",
      "Model not saved!\n",
      "Epoch 119/150\n",
      "Train Loss: 0.26874, Train Accuracy: 0.88519\n",
      "Validation Loss: 0.2919, Validation Accuracy: 0.87853\n",
      "Model not saved!\n",
      "Epoch 120/150\n",
      "Train Loss: 0.26715, Train Accuracy: 0.88367\n",
      "Validation Loss: 0.29826, Validation Accuracy: 0.87797\n",
      "Model not saved!\n",
      "Epoch 121/150\n",
      "Train Loss: 0.26647, Train Accuracy: 0.88516\n",
      "Validation Loss: 0.29512, Validation Accuracy: 0.8816\n",
      "Model saved!\n",
      "Epoch 122/150\n",
      "Train Loss: 0.26399, Train Accuracy: 0.88756\n",
      "Validation Loss: 0.30446, Validation Accuracy: 0.87825\n",
      "Model not saved!\n",
      "Epoch 123/150\n",
      "Train Loss: 0.26515, Train Accuracy: 0.88502\n",
      "Validation Loss: 0.29782, Validation Accuracy: 0.87797\n",
      "Model not saved!\n",
      "Epoch 124/150\n",
      "Train Loss: 0.26489, Train Accuracy: 0.88433\n",
      "Validation Loss: 0.29789, Validation Accuracy: 0.87476\n",
      "Model not saved!\n",
      "Epoch 125/150\n",
      "Train Loss: 0.26452, Train Accuracy: 0.886\n",
      "Validation Loss: 0.29694, Validation Accuracy: 0.88007\n",
      "Model not saved!\n",
      "Epoch 126/150\n",
      "Train Loss: 0.26609, Train Accuracy: 0.88687\n",
      "Validation Loss: 0.29442, Validation Accuracy: 0.87755\n",
      "Model not saved!\n",
      "Epoch 127/150\n",
      "Train Loss: 0.26509, Train Accuracy: 0.88576\n",
      "Validation Loss: 0.30559, Validation Accuracy: 0.87517\n",
      "Model not saved!\n",
      "Epoch 128/150\n",
      "Train Loss: 0.26284, Train Accuracy: 0.88798\n",
      "Validation Loss: 0.29892, Validation Accuracy: 0.88105\n",
      "Model not saved!\n",
      "Epoch 129/150\n",
      "Train Loss: 0.26599, Train Accuracy: 0.88496\n",
      "Validation Loss: 0.29542, Validation Accuracy: 0.88105\n",
      "Model not saved!\n",
      "Epoch 130/150\n",
      "Train Loss: 0.26593, Train Accuracy: 0.88576\n",
      "Validation Loss: 0.29842, Validation Accuracy: 0.88077\n",
      "Model not saved!\n",
      "Epoch 131/150\n",
      "Train Loss: 0.26333, Train Accuracy: 0.88765\n",
      "Validation Loss: 0.29322, Validation Accuracy: 0.8816\n",
      "Model saved!\n",
      "Epoch 132/150\n",
      "Train Loss: 0.26616, Train Accuracy: 0.88546\n",
      "Validation Loss: 0.29622, Validation Accuracy: 0.87573\n",
      "Model not saved!\n",
      "Epoch 133/150\n",
      "Train Loss: 0.26718, Train Accuracy: 0.88585\n",
      "Validation Loss: 0.29399, Validation Accuracy: 0.87909\n",
      "Model not saved!\n",
      "Epoch 134/150\n",
      "Train Loss: 0.2647, Train Accuracy: 0.8866\n",
      "Validation Loss: 0.29245, Validation Accuracy: 0.87979\n",
      "Model not saved!\n",
      "Epoch 135/150\n",
      "Train Loss: 0.26635, Train Accuracy: 0.88522\n",
      "Validation Loss: 0.29829, Validation Accuracy: 0.87531\n",
      "Model not saved!\n",
      "Epoch 136/150\n",
      "Train Loss: 0.26285, Train Accuracy: 0.88768\n",
      "Validation Loss: 0.30063, Validation Accuracy: 0.87573\n",
      "Model not saved!\n",
      "Epoch 137/150\n",
      "Train Loss: 0.26553, Train Accuracy: 0.8866\n",
      "Validation Loss: 0.30422, Validation Accuracy: 0.8707\n",
      "Model not saved!\n",
      "Epoch 138/150\n",
      "Train Loss: 0.2626, Train Accuracy: 0.8875\n",
      "Validation Loss: 0.29932, Validation Accuracy: 0.87811\n",
      "Model not saved!\n",
      "Epoch 139/150\n",
      "Train Loss: 0.26215, Train Accuracy: 0.88654\n",
      "Validation Loss: 0.29528, Validation Accuracy: 0.87755\n",
      "Model not saved!\n",
      "Epoch 140/150\n",
      "Train Loss: 0.26057, Train Accuracy: 0.8869\n",
      "Validation Loss: 0.29203, Validation Accuracy: 0.87769\n",
      "Model not saved!\n",
      "Epoch 141/150\n",
      "Train Loss: 0.25946, Train Accuracy: 0.88897\n",
      "Validation Loss: 0.30225, Validation Accuracy: 0.87853\n",
      "Model not saved!\n",
      "Epoch 142/150\n",
      "Train Loss: 0.26246, Train Accuracy: 0.88861\n",
      "Validation Loss: 0.29973, Validation Accuracy: 0.87685\n",
      "Model not saved!\n",
      "Epoch 143/150\n",
      "Train Loss: 0.26311, Train Accuracy: 0.88672\n",
      "Validation Loss: 0.30933, Validation Accuracy: 0.87112\n",
      "Model not saved!\n",
      "Epoch 144/150\n",
      "Train Loss: 0.26148, Train Accuracy: 0.88996\n",
      "Validation Loss: 0.30844, Validation Accuracy: 0.87364\n",
      "Model not saved!\n",
      "Epoch 145/150\n",
      "Train Loss: 0.26239, Train Accuracy: 0.88783\n",
      "Validation Loss: 0.29784, Validation Accuracy: 0.87741\n",
      "Model not saved!\n",
      "Epoch 146/150\n",
      "Train Loss: 0.262, Train Accuracy: 0.88762\n",
      "Validation Loss: 0.29724, Validation Accuracy: 0.87881\n",
      "Model not saved!\n",
      "Epoch 147/150\n",
      "Train Loss: 0.25686, Train Accuracy: 0.88891\n",
      "Validation Loss: 0.30222, Validation Accuracy: 0.87825\n",
      "Model not saved!\n",
      "Epoch 148/150\n",
      "Train Loss: 0.25856, Train Accuracy: 0.88972\n",
      "Validation Loss: 0.30118, Validation Accuracy: 0.8735\n",
      "Model not saved!\n",
      "Epoch 149/150\n",
      "Train Loss: 0.25815, Train Accuracy: 0.88915\n",
      "Validation Loss: 0.29857, Validation Accuracy: 0.87727\n",
      "Model not saved!\n",
      "Epoch 150/150\n",
      "Train Loss: 0.25655, Train Accuracy: 0.89014\n",
      "Validation Loss: 0.30069, Validation Accuracy: 0.88133\n",
      "Model not saved!\n"
     ]
    },
    {
     "data": {
      "image/png": "[encoded data removed]",
      "text/plain": [
       "<Figure size 640x480 with 1 Axes>"
      ]
     },
     "metadata": {},
     "output_type": "display_data"
    },
    {
     "data": {
      "image/png": "[encoded data removed]",
      "text/plain": [
       "<Figure size 640x480 with 1 Axes>"
      ]
     },
     "metadata": {},
     "output_type": "display_data"
    }
   ],
   "source": [
    "training_loop(150, train_loader, val_loader, optimizer, loss_function, model)"
   ]
  },
  {
   "cell_type": "code",
   "execution_count": 34,
   "metadata": {},
   "outputs": [
    {
     "name": "stdout",
     "output_type": "stream",
     "text": [
      "              precision    recall  f1-score   support\n",
      "\n",
      "         0.0       0.87      0.95      0.91      3456\n",
      "         1.0       0.95      0.87      0.91      3699\n",
      "\n",
      "    accuracy                           0.91      7155\n",
      "   macro avg       0.91      0.91      0.91      7155\n",
      "weighted avg       0.91      0.91      0.91      7155\n",
      "\n"
     ]
    },
    {
     "data": {
      "image/png": "[encoded data removed]",
      "text/plain": [
       "<Figure size 640x480 with 2 Axes>"
      ]
     },
     "metadata": {},
     "output_type": "display_data"
    }
   ],
   "source": [
    "model_load = CustomModel(model_name)\n",
    "evaluate_model(model_load, test_loader)"
   ]
  },
  {
   "cell_type": "code",
   "execution_count": 35,
   "metadata": {},
   "outputs": [],
   "source": [
    "# Unfreezing the model's weights\n",
    "\n",
    "model_load.bert.activate_grad()\n",
    "optimizer = Adam(model_load.parameters(), lr=.000001)"
   ]
  },
  {
   "cell_type": "code",
   "execution_count": 36,
   "metadata": {
    "scrolled": true
   },
   "outputs": [
    {
     "name": "stdout",
     "output_type": "stream",
     "text": [
      "Epoch 1/100\n",
      "Train Loss: 0.27364, Train Accuracy: 0.88693\n",
      "Validation Loss: 0.20949, Validation Accuracy: 0.91585\n",
      "Model saved!\n",
      "Epoch 2/100\n",
      "Train Loss: 0.25419, Train Accuracy: 0.89343\n",
      "Validation Loss: 0.20928, Validation Accuracy: 0.91529\n",
      "Model not saved!\n",
      "Epoch 3/100\n",
      "Train Loss: 0.24473, Train Accuracy: 0.89652\n",
      "Validation Loss: 0.20729, Validation Accuracy: 0.91683\n",
      "Model saved!\n",
      "Epoch 4/100\n",
      "Train Loss: 0.23363, Train Accuracy: 0.90185\n",
      "Validation Loss: 0.20665, Validation Accuracy: 0.91753\n",
      "Model saved!\n",
      "Epoch 5/100\n",
      "Train Loss: 0.22935, Train Accuracy: 0.90365\n",
      "Validation Loss: 0.20885, Validation Accuracy: 0.91487\n",
      "Model not saved!\n",
      "Epoch 6/100\n",
      "Train Loss: 0.22143, Train Accuracy: 0.90742\n",
      "Validation Loss: 0.203, Validation Accuracy: 0.91823\n",
      "Model saved!\n",
      "Epoch 7/100\n",
      "Train Loss: 0.21557, Train Accuracy: 0.91068\n",
      "Validation Loss: 0.20263, Validation Accuracy: 0.91837\n",
      "Model saved!\n",
      "Epoch 8/100\n",
      "Train Loss: 0.20853, Train Accuracy: 0.91248\n",
      "Validation Loss: 0.20202, Validation Accuracy: 0.91963\n",
      "Model saved!\n",
      "Epoch 9/100\n",
      "Train Loss: 0.20415, Train Accuracy: 0.91482\n",
      "Validation Loss: 0.20228, Validation Accuracy: 0.92004\n",
      "Model saved!\n",
      "Epoch 10/100\n",
      "Train Loss: 0.19893, Train Accuracy: 0.91634\n",
      "Validation Loss: 0.20247, Validation Accuracy: 0.9213\n",
      "Model saved!\n",
      "Epoch 11/100\n",
      "Train Loss: 0.19237, Train Accuracy: 0.92057\n",
      "Validation Loss: 0.20393, Validation Accuracy: 0.91963\n",
      "Model not saved!\n",
      "Epoch 12/100\n",
      "Train Loss: 0.18641, Train Accuracy: 0.92096\n",
      "Validation Loss: 0.20349, Validation Accuracy: 0.92116\n",
      "Model not saved!\n",
      "Epoch 13/100\n",
      "Train Loss: 0.18489, Train Accuracy: 0.92335\n",
      "Validation Loss: 0.20572, Validation Accuracy: 0.92004\n",
      "Model not saved!\n",
      "Epoch 14/100\n",
      "Train Loss: 0.17795, Train Accuracy: 0.92578\n",
      "Validation Loss: 0.20264, Validation Accuracy: 0.92172\n",
      "Model saved!\n",
      "Epoch 15/100\n",
      "Train Loss: 0.17105, Train Accuracy: 0.92662\n",
      "Validation Loss: 0.20763, Validation Accuracy: 0.9206\n",
      "Model not saved!\n",
      "Epoch 16/100\n",
      "Train Loss: 0.17201, Train Accuracy: 0.92845\n",
      "Validation Loss: 0.20498, Validation Accuracy: 0.92116\n",
      "Model not saved!\n",
      "Epoch 17/100\n",
      "Train Loss: 0.16523, Train Accuracy: 0.93114\n",
      "Validation Loss: 0.2084, Validation Accuracy: 0.92228\n",
      "Model saved!\n",
      "Epoch 18/100\n",
      "Train Loss: 0.16518, Train Accuracy: 0.93081\n",
      "Validation Loss: 0.20734, Validation Accuracy: 0.92032\n",
      "Model not saved!\n",
      "Epoch 19/100\n",
      "Train Loss: 0.15861, Train Accuracy: 0.93261\n",
      "Validation Loss: 0.20947, Validation Accuracy: 0.92046\n",
      "Model not saved!\n",
      "Epoch 20/100\n",
      "Train Loss: 0.15378, Train Accuracy: 0.93423\n",
      "Validation Loss: 0.2107, Validation Accuracy: 0.92074\n",
      "Model not saved!\n",
      "Epoch 21/100\n",
      "Train Loss: 0.14998, Train Accuracy: 0.93578\n",
      "Validation Loss: 0.21338, Validation Accuracy: 0.92102\n",
      "Model not saved!\n",
      "Epoch 22/100\n",
      "Train Loss: 0.14537, Train Accuracy: 0.94037\n",
      "Validation Loss: 0.21562, Validation Accuracy: 0.9206\n",
      "Model not saved!\n",
      "Epoch 23/100\n",
      "Train Loss: 0.14308, Train Accuracy: 0.93896\n",
      "Validation Loss: 0.21963, Validation Accuracy: 0.91963\n",
      "Model not saved!\n",
      "Epoch 24/100\n",
      "Train Loss: 0.14072, Train Accuracy: 0.94043\n",
      "Validation Loss: 0.21566, Validation Accuracy: 0.92158\n",
      "Model not saved!\n",
      "Epoch 25/100\n",
      "Train Loss: 0.1392, Train Accuracy: 0.94162\n",
      "Validation Loss: 0.21395, Validation Accuracy: 0.92004\n",
      "Model not saved!\n",
      "Epoch 26/100\n",
      "Train Loss: 0.13342, Train Accuracy: 0.94474\n",
      "Validation Loss: 0.22687, Validation Accuracy: 0.92116\n",
      "Model not saved!\n",
      "Epoch 27/100\n",
      "Train Loss: 0.12932, Train Accuracy: 0.94498\n",
      "Validation Loss: 0.22607, Validation Accuracy: 0.92018\n",
      "Model not saved!\n",
      "Epoch 28/100\n",
      "Train Loss: 0.12816, Train Accuracy: 0.9472\n",
      "Validation Loss: 0.23211, Validation Accuracy: 0.91795\n",
      "Model not saved!\n",
      "Epoch 29/100\n",
      "Train Loss: 0.122, Train Accuracy: 0.94869\n",
      "Validation Loss: 0.22755, Validation Accuracy: 0.91921\n",
      "Model not saved!\n",
      "Epoch 30/100\n",
      "Train Loss: 0.11725, Train Accuracy: 0.95046\n",
      "Validation Loss: 0.23557, Validation Accuracy: 0.91935\n",
      "Model not saved!\n",
      "Epoch 31/100\n",
      "Train Loss: 0.11969, Train Accuracy: 0.95001\n",
      "Validation Loss: 0.23028, Validation Accuracy: 0.92144\n",
      "Model not saved!\n",
      "Epoch 32/100\n",
      "Train Loss: 0.11141, Train Accuracy: 0.95316\n",
      "Validation Loss: 0.24314, Validation Accuracy: 0.92116\n",
      "Model not saved!\n",
      "Epoch 33/100\n",
      "Train Loss: 0.11275, Train Accuracy: 0.95328\n",
      "Validation Loss: 0.24482, Validation Accuracy: 0.91823\n",
      "Model not saved!\n",
      "Epoch 34/100\n",
      "Train Loss: 0.10556, Train Accuracy: 0.95645\n",
      "Validation Loss: 0.25676, Validation Accuracy: 0.91893\n",
      "Model not saved!\n",
      "Epoch 35/100\n",
      "Train Loss: 0.10754, Train Accuracy: 0.95537\n",
      "Validation Loss: 0.25329, Validation Accuracy: 0.92004\n",
      "Model not saved!\n",
      "Epoch 36/100\n",
      "Train Loss: 0.10402, Train Accuracy: 0.95648\n",
      "Validation Loss: 0.23404, Validation Accuracy: 0.91935\n",
      "Model not saved!\n",
      "Epoch 37/100\n",
      "Train Loss: 0.10158, Train Accuracy: 0.95816\n",
      "Validation Loss: 0.25319, Validation Accuracy: 0.91725\n",
      "Model not saved!\n",
      "Epoch 38/100\n",
      "Train Loss: 0.10033, Train Accuracy: 0.95864\n",
      "Validation Loss: 0.25209, Validation Accuracy: 0.91879\n",
      "Model not saved!\n",
      "Epoch 39/100\n",
      "Train Loss: 0.09236, Train Accuracy: 0.96133\n",
      "Validation Loss: 0.25962, Validation Accuracy: 0.92144\n",
      "Model not saved!\n",
      "Epoch 40/100\n",
      "Train Loss: 0.09349, Train Accuracy: 0.9616\n",
      "Validation Loss: 0.26209, Validation Accuracy: 0.92018\n",
      "Model not saved!\n",
      "Epoch 41/100\n",
      "Train Loss: 0.09096, Train Accuracy: 0.9631\n",
      "Validation Loss: 0.27432, Validation Accuracy: 0.91977\n",
      "Model not saved!\n",
      "Epoch 42/100\n",
      "Train Loss: 0.0866, Train Accuracy: 0.96505\n",
      "Validation Loss: 0.27658, Validation Accuracy: 0.91487\n",
      "Model not saved!\n",
      "Epoch 43/100\n",
      "Train Loss: 0.09131, Train Accuracy: 0.96424\n",
      "Validation Loss: 0.28755, Validation Accuracy: 0.91669\n",
      "Model not saved!\n",
      "Epoch 44/100\n",
      "Train Loss: 0.08418, Train Accuracy: 0.96508\n",
      "Validation Loss: 0.27821, Validation Accuracy: 0.91935\n",
      "Model not saved!\n",
      "Epoch 45/100\n",
      "Train Loss: 0.08184, Train Accuracy: 0.96717\n",
      "Validation Loss: 0.27819, Validation Accuracy: 0.91963\n",
      "Model not saved!\n",
      "Epoch 46/100\n",
      "Train Loss: 0.08003, Train Accuracy: 0.9672\n",
      "Validation Loss: 0.2792, Validation Accuracy: 0.91739\n",
      "Model not saved!\n",
      "Epoch 47/100\n",
      "Train Loss: 0.07634, Train Accuracy: 0.96873\n",
      "Validation Loss: 0.29019, Validation Accuracy: 0.91641\n",
      "Model not saved!\n",
      "Epoch 48/100\n",
      "Train Loss: 0.07399, Train Accuracy: 0.96981\n",
      "Validation Loss: 0.2978, Validation Accuracy: 0.91655\n",
      "Model not saved!\n",
      "Epoch 49/100\n",
      "Train Loss: 0.07494, Train Accuracy: 0.96918\n",
      "Validation Loss: 0.29098, Validation Accuracy: 0.91683\n",
      "Model not saved!\n",
      "Epoch 50/100\n",
      "Train Loss: 0.07254, Train Accuracy: 0.97191\n",
      "Validation Loss: 0.28933, Validation Accuracy: 0.91585\n",
      "Model not saved!\n",
      "Epoch 51/100\n",
      "Train Loss: 0.06895, Train Accuracy: 0.97292\n",
      "Validation Loss: 0.30995, Validation Accuracy: 0.91683\n",
      "Model not saved!\n",
      "Epoch 52/100\n",
      "Train Loss: 0.06724, Train Accuracy: 0.97343\n",
      "Validation Loss: 0.3085, Validation Accuracy: 0.91795\n",
      "Model not saved!\n",
      "Epoch 53/100\n",
      "Train Loss: 0.06682, Train Accuracy: 0.97304\n",
      "Validation Loss: 0.31021, Validation Accuracy: 0.91935\n",
      "Model not saved!\n",
      "Epoch 54/100\n",
      "Train Loss: 0.06603, Train Accuracy: 0.9737\n",
      "Validation Loss: 0.31377, Validation Accuracy: 0.91347\n",
      "Model not saved!\n",
      "Epoch 55/100\n",
      "Train Loss: 0.06176, Train Accuracy: 0.97553\n",
      "Validation Loss: 0.34305, Validation Accuracy: 0.91963\n",
      "Model not saved!\n",
      "Epoch 56/100\n",
      "Train Loss: 0.06269, Train Accuracy: 0.97514\n",
      "Validation Loss: 0.34634, Validation Accuracy: 0.91893\n",
      "Model not saved!\n",
      "Epoch 57/100\n",
      "Train Loss: 0.06035, Train Accuracy: 0.97637\n",
      "Validation Loss: 0.35818, Validation Accuracy: 0.91669\n",
      "Model not saved!\n",
      "Epoch 58/100\n",
      "Train Loss: 0.05976, Train Accuracy: 0.97679\n",
      "Validation Loss: 0.33603, Validation Accuracy: 0.91236\n",
      "Model not saved!\n",
      "Epoch 59/100\n",
      "Train Loss: 0.05544, Train Accuracy: 0.97823\n",
      "Validation Loss: 0.35747, Validation Accuracy: 0.91585\n",
      "Model not saved!\n",
      "Epoch 60/100\n",
      "Train Loss: 0.05394, Train Accuracy: 0.97876\n",
      "Validation Loss: 0.3474, Validation Accuracy: 0.91627\n",
      "Model not saved!\n",
      "Epoch 61/100\n",
      "Train Loss: 0.05217, Train Accuracy: 0.97906\n",
      "Validation Loss: 0.39144, Validation Accuracy: 0.91795\n",
      "Model not saved!\n",
      "Epoch 62/100\n",
      "Train Loss: 0.05417, Train Accuracy: 0.97861\n",
      "Validation Loss: 0.36754, Validation Accuracy: 0.9125\n",
      "Model not saved!\n",
      "Epoch 63/100\n",
      "Train Loss: 0.05113, Train Accuracy: 0.98041\n",
      "Validation Loss: 0.37742, Validation Accuracy: 0.92004\n",
      "Model not saved!\n",
      "Epoch 64/100\n",
      "Train Loss: 0.05095, Train Accuracy: 0.98062\n",
      "Validation Loss: 0.39813, Validation Accuracy: 0.91823\n",
      "Model not saved!\n",
      "Epoch 65/100\n",
      "Train Loss: 0.04883, Train Accuracy: 0.98104\n",
      "Validation Loss: 0.38812, Validation Accuracy: 0.91264\n",
      "Model not saved!\n",
      "Epoch 66/100\n",
      "Train Loss: 0.04668, Train Accuracy: 0.982\n",
      "Validation Loss: 0.40797, Validation Accuracy: 0.91138\n",
      "Model not saved!\n",
      "Epoch 67/100\n",
      "Train Loss: 0.04531, Train Accuracy: 0.98248\n",
      "Validation Loss: 0.37249, Validation Accuracy: 0.91753\n",
      "Model not saved!\n",
      "Epoch 68/100\n",
      "Train Loss: 0.0429, Train Accuracy: 0.98341\n",
      "Validation Loss: 0.41099, Validation Accuracy: 0.91613\n",
      "Model not saved!\n",
      "Epoch 69/100\n",
      "Train Loss: 0.04249, Train Accuracy: 0.9838\n",
      "Validation Loss: 0.42299, Validation Accuracy: 0.90956\n",
      "Model not saved!\n",
      "Epoch 70/100\n",
      "Train Loss: 0.04298, Train Accuracy: 0.98407\n",
      "Validation Loss: 0.41991, Validation Accuracy: 0.91515\n",
      "Model not saved!\n",
      "Epoch 71/100\n",
      "Train Loss: 0.04212, Train Accuracy: 0.98425\n",
      "Validation Loss: 0.41554, Validation Accuracy: 0.91264\n",
      "Model not saved!\n",
      "Epoch 72/100\n",
      "Train Loss: 0.03823, Train Accuracy: 0.98571\n",
      "Validation Loss: 0.45834, Validation Accuracy: 0.91222\n",
      "Model not saved!\n",
      "Epoch 73/100\n",
      "Train Loss: 0.03781, Train Accuracy: 0.98655\n",
      "Validation Loss: 0.42757, Validation Accuracy: 0.9125\n",
      "Model not saved!\n",
      "Epoch 74/100\n",
      "Train Loss: 0.03771, Train Accuracy: 0.98547\n",
      "Validation Loss: 0.44877, Validation Accuracy: 0.91571\n",
      "Model not saved!\n",
      "Epoch 75/100\n",
      "Train Loss: 0.03391, Train Accuracy: 0.98712\n",
      "Validation Loss: 0.46396, Validation Accuracy: 0.91543\n",
      "Model not saved!\n",
      "Epoch 76/100\n",
      "Train Loss: 0.03917, Train Accuracy: 0.98604\n",
      "Validation Loss: 0.44946, Validation Accuracy: 0.91292\n",
      "Model not saved!\n",
      "Epoch 77/100\n",
      "Train Loss: 0.03519, Train Accuracy: 0.98676\n",
      "Validation Loss: 0.47104, Validation Accuracy: 0.91697\n",
      "Model not saved!\n",
      "Epoch 78/100\n",
      "Train Loss: 0.03502, Train Accuracy: 0.98682\n",
      "Validation Loss: 0.45808, Validation Accuracy: 0.91194\n",
      "Model not saved!\n",
      "Epoch 79/100\n",
      "Train Loss: 0.0315, Train Accuracy: 0.98865\n",
      "Validation Loss: 0.46416, Validation Accuracy: 0.91347\n",
      "Model not saved!\n",
      "Epoch 80/100\n",
      "Train Loss: 0.03323, Train Accuracy: 0.98775\n",
      "Validation Loss: 0.45805, Validation Accuracy: 0.91417\n",
      "Model not saved!\n",
      "Epoch 81/100\n",
      "Train Loss: 0.03164, Train Accuracy: 0.98856\n",
      "Validation Loss: 0.47069, Validation Accuracy: 0.91096\n",
      "Model not saved!\n",
      "Epoch 82/100\n",
      "Train Loss: 0.03194, Train Accuracy: 0.98832\n",
      "Validation Loss: 0.50071, Validation Accuracy: 0.91278\n",
      "Model not saved!\n",
      "Epoch 83/100\n",
      "Train Loss: 0.0312, Train Accuracy: 0.9885\n",
      "Validation Loss: 0.47184, Validation Accuracy: 0.90844\n",
      "Model not saved!\n",
      "Epoch 84/100\n",
      "Train Loss: 0.02804, Train Accuracy: 0.98958\n",
      "Validation Loss: 0.4905, Validation Accuracy: 0.91445\n",
      "Model not saved!\n",
      "Epoch 85/100\n",
      "Train Loss: 0.02815, Train Accuracy: 0.99009\n",
      "Validation Loss: 0.53686, Validation Accuracy: 0.91473\n",
      "Model not saved!\n",
      "Epoch 86/100\n",
      "Train Loss: 0.02812, Train Accuracy: 0.98967\n",
      "Validation Loss: 0.52068, Validation Accuracy: 0.91124\n",
      "Model not saved!\n",
      "Epoch 87/100\n",
      "Train Loss: 0.02897, Train Accuracy: 0.98946\n",
      "Validation Loss: 0.49938, Validation Accuracy: 0.91389\n",
      "Model not saved!\n",
      "Epoch 88/100\n",
      "Train Loss: 0.02834, Train Accuracy: 0.99018\n",
      "Validation Loss: 0.50859, Validation Accuracy: 0.91236\n",
      "Model not saved!\n",
      "Epoch 89/100\n",
      "Train Loss: 0.02965, Train Accuracy: 0.98937\n",
      "Validation Loss: 0.50775, Validation Accuracy: 0.91501\n",
      "Model not saved!\n",
      "Epoch 90/100\n",
      "Train Loss: 0.02617, Train Accuracy: 0.99018\n",
      "Validation Loss: 0.50587, Validation Accuracy: 0.91082\n",
      "Model not saved!\n",
      "Epoch 91/100\n",
      "Train Loss: 0.02372, Train Accuracy: 0.99098\n",
      "Validation Loss: 0.54845, Validation Accuracy: 0.91082\n",
      "Model not saved!\n",
      "Epoch 92/100\n",
      "Train Loss: 0.02441, Train Accuracy: 0.99134\n",
      "Validation Loss: 0.61358, Validation Accuracy: 0.91669\n",
      "Model not saved!\n",
      "Epoch 93/100\n",
      "Train Loss: 0.02388, Train Accuracy: 0.99167\n",
      "Validation Loss: 0.58439, Validation Accuracy: 0.91375\n",
      "Model not saved!\n",
      "Epoch 94/100\n",
      "Train Loss: 0.024, Train Accuracy: 0.99176\n",
      "Validation Loss: 0.53231, Validation Accuracy: 0.9118\n",
      "Model not saved!\n",
      "Epoch 95/100\n",
      "Train Loss: 0.02277, Train Accuracy: 0.99251\n",
      "Validation Loss: 0.57886, Validation Accuracy: 0.91501\n",
      "Model not saved!\n",
      "Epoch 96/100\n",
      "Train Loss: 0.02135, Train Accuracy: 0.99245\n",
      "Validation Loss: 0.61915, Validation Accuracy: 0.91515\n",
      "Model not saved!\n",
      "Epoch 97/100\n",
      "Train Loss: 0.02051, Train Accuracy: 0.99281\n",
      "Validation Loss: 0.61437, Validation Accuracy: 0.9132\n",
      "Model not saved!\n",
      "Epoch 98/100\n",
      "Train Loss: 0.01969, Train Accuracy: 0.99266\n",
      "Validation Loss: 0.604, Validation Accuracy: 0.91403\n",
      "Model not saved!\n",
      "Epoch 99/100\n",
      "Train Loss: 0.02022, Train Accuracy: 0.99245\n",
      "Validation Loss: 0.64416, Validation Accuracy: 0.91152\n",
      "Model not saved!\n",
      "Epoch 100/100\n",
      "Train Loss: 0.01935, Train Accuracy: 0.99365\n",
      "Validation Loss: 0.62533, Validation Accuracy: 0.91459\n",
      "Model not saved!\n"
     ]
    },
    {
     "data": {
      "image/png": "[encoded data removed]",
      "text/plain": [
       "<Figure size 640x480 with 1 Axes>"
      ]
     },
     "metadata": {},
     "output_type": "display_data"
    },
    {
     "data": {
      "image/png": "[encoded data removed]",
      "text/plain": [
       "<Figure size 640x480 with 1 Axes>"
      ]
     },
     "metadata": {},
     "output_type": "display_data"
    }
   ],
   "source": [
    "training_loop(100, train_loader, val_loader, optimizer, loss_function, model_load)"
   ]
  },
  {
   "cell_type": "code",
   "execution_count": 37,
   "metadata": {},
   "outputs": [
    {
     "name": "stdout",
     "output_type": "stream",
     "text": [
      "              precision    recall  f1-score   support\n",
      "\n",
      "         0.0       0.89      0.95      0.92      3456\n",
      "         1.0       0.95      0.89      0.92      3699\n",
      "\n",
      "    accuracy                           0.92      7155\n",
      "   macro avg       0.92      0.92      0.92      7155\n",
      "weighted avg       0.92      0.92      0.92      7155\n",
      "\n"
     ]
    },
    {
     "data": {
      "image/png": "[encoded data removed]",
      "text/plain": [
       "<Figure size 640x480 with 2 Axes>"
      ]
     },
     "metadata": {},
     "output_type": "display_data"
    }
   ],
   "source": [
    "model_load = CustomModel(model_name)\n",
    "evaluate_model(model_load, test_loader)"
   ]
  },
  {
   "cell_type": "markdown",
   "metadata": {},
   "source": [
    "### **Marilyn Stephany Joven Fonseca**"
   ]
  },
  {
   "cell_type": "markdown",
   "metadata": {},
   "source": [
    "### **Eder Leandro Carbonero Baquero**"
   ]
  }
 ],
 "metadata": {
  "colab": {
   "provenance": []
  },
  "kernelspec": {
   "display_name": "Python 3 (ipykernel)",
   "language": "python",
   "name": "python3"
  },
  "language_info": {
   "codemirror_mode": {
    "name": "ipython",
    "version": 3
   },
   "file_extension": ".py",
   "mimetype": "text/x-python",
   "name": "python",
   "nbconvert_exporter": "python",
   "pygments_lexer": "ipython3",
   "version": "3.10.12"
  }
 },
 "nbformat": 4,
 "nbformat_minor": 4
}
