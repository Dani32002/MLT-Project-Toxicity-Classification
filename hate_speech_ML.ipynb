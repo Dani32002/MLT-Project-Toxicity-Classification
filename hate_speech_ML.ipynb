{
 "cells": [
  {
   "cell_type": "markdown",
   "metadata": {
    "id": "qGQH-ELe7b-J"
   },
   "source": [
    "# **Machine Learning Techniques Project**\n",
    "\n",
    "\n",
    "*   Nicolas Bedoya Figueroa\n",
    "*   Daniel Escalante Perez\n",
    "*   Marilyn Stephany Joven Fonseca\n",
    "*   Eder Leandro Carbonero Baquero"
   ]
  },
  {
   "cell_type": "markdown",
   "metadata": {
    "id": "6o8TFLYF8aQ1",
    "jp-MarkdownHeadingCollapsed": true
   },
   "source": [
    "## **Utils**"
   ]
  },
  {
   "cell_type": "code",
   "execution_count": null,
   "metadata": {
    "colab": {
     "base_uri": "https://localhost:8080/"
    },
    "id": "Pki8KEw1Pujd",
    "outputId": "623088e3-eaac-48a4-ee4d-ce777a57c69f"
   },
   "outputs": [],
   "source": [
    "!pip3 install nltk pyspellchecker tqdm emoji nlpaug transformers tensorflow"
   ]
  },
  {
   "cell_type": "code",
   "execution_count": null,
   "metadata": {},
   "outputs": [],
   "source": [
    "!pip3 install seaborn transformers torch tqdm"
   ]
  },
  {
   "cell_type": "code",
   "execution_count": null,
   "metadata": {},
   "outputs": [],
   "source": [
    "!pip3 install umap-learn plotly"
   ]
  },
  {
   "cell_type": "code",
   "execution_count": null,
   "metadata": {
    "colab": {
     "base_uri": "https://localhost:8080/"
    },
    "id": "quNgOgNV8dYw",
    "outputId": "9a88919d-ff7d-4601-e95a-759126386fc3"
   },
   "outputs": [],
   "source": [
    "#Imports\n",
    "import pandas as pd\n",
    "import numpy as np\n",
    "import matplotlib.pyplot as plt\n",
    "import seaborn as sns\n",
    "import re\n",
    "from spellchecker import SpellChecker\n",
    "import nltk\n",
    "from nltk.corpus import stopwords\n",
    "from nltk.stem import PorterStemmer\n",
    "from tqdm import tqdm\n",
    "import nlpaug.augmenter.word as naw\n",
    "from nlpaug.util import Action\n",
    "import emoji\n",
    "import random\n",
    "import math\n",
    "from nltk.corpus import wordnet\n",
    "from nltk.tokenize import word_tokenize\n",
    "nltk.download('punkt')\n",
    "nltk.download('punkt_tab')\n",
    "nltk.download('wordnet')\n",
    "nltk.download('stopwords')\n",
    "nltk.download('averaged_perceptron_tagger_eng')"
   ]
  },
  {
   "cell_type": "markdown",
   "metadata": {},
   "source": [
    "Librerias ML y DL"
   ]
  },
  {
   "cell_type": "code",
   "execution_count": null,
   "metadata": {},
   "outputs": [],
   "source": [
    "import pandas as pd\n",
    "import numpy as np\n",
    "import torch\n",
    "from transformers import AutoTokenizer, AutoModel\n",
    "from tensorflow.keras.preprocessing.sequence import pad_sequences\n",
    "from tqdm import tqdm\n",
    "import umap\n",
    "import plotly.express as px\n",
    "import ast"
   ]
  },
  {
   "cell_type": "markdown",
   "metadata": {
    "id": "dI0vpkTC8LWM",
    "jp-MarkdownHeadingCollapsed": true
   },
   "source": [
    "## **Data preprocessing**"
   ]
  },
  {
   "cell_type": "markdown",
   "metadata": {
    "id": "4y9SS5Pg8TjJ",
    "jp-MarkdownHeadingCollapsed": true
   },
   "source": [
    "### **Dataset 1: Davidson et al. 2017**"
   ]
  },
  {
   "cell_type": "code",
   "execution_count": null,
   "metadata": {
    "colab": {
     "base_uri": "https://localhost:8080/",
     "height": 206
    },
    "id": "WRllcMCL8oeV",
    "outputId": "599ff8d7-7417-44e7-fa44-42125931d1f8"
   },
   "outputs": [],
   "source": [
    "# Load the dataset\n",
    "davidson = pd.read_csv(\"./data/davidson_2017.csv\")[[\"class\", \"tweet\"]]\n",
    "davidson.head()"
   ]
  },
  {
   "cell_type": "code",
   "execution_count": null,
   "metadata": {
    "colab": {
     "base_uri": "https://localhost:8080/",
     "height": 178
    },
    "id": "3S5c8ynlGnio",
    "outputId": "1d3f5e57-ea97-476c-f44a-5fe9aab43b3c"
   },
   "outputs": [],
   "source": [
    "# Original class labels: 0 - hate speech, 1 - offensive language, 2 - neither\n",
    "# Transform the label in 1: toxic and 0: non toxic\n",
    "davidson[\"class\"] = davidson[\"class\"].replace({0: 1, 2: 0})\n",
    "davidson[\"class\"].value_counts()"
   ]
  },
  {
   "cell_type": "code",
   "execution_count": null,
   "metadata": {
    "colab": {
     "base_uri": "https://localhost:8080/"
    },
    "id": "zctWGKDLBvlV",
    "outputId": "2585ee8d-54cc-42ae-8cc4-08310345bcc7"
   },
   "outputs": [],
   "source": [
    "print(\"Rows:\", davidson.shape[0])\n",
    "print(\"Columns:\", davidson.shape[1])"
   ]
  },
  {
   "cell_type": "markdown",
   "metadata": {
    "id": "EtCPNKB1-PXZ",
    "jp-MarkdownHeadingCollapsed": true
   },
   "source": [
    "### **Dataset 2: HASOC (2019) English**"
   ]
  },
  {
   "cell_type": "code",
   "execution_count": null,
   "metadata": {
    "colab": {
     "base_uri": "https://localhost:8080/",
     "height": 206
    },
    "id": "il2gw4se-UGG",
    "outputId": "2b194bd1-db75-4f95-ef0d-29ad5213bfd9"
   },
   "outputs": [],
   "source": [
    "hasoc = pd.read_csv(\"./data/HASOC_EN.tsv\",sep = '\\t')[[\"text\",\"task_1\"]]\n",
    "hasoc.head()"
   ]
  },
  {
   "cell_type": "code",
   "execution_count": null,
   "metadata": {
    "colab": {
     "base_uri": "https://localhost:8080/",
     "height": 234
    },
    "id": "SM68qXoGHm5h",
    "outputId": "07471d31-0b6d-424e-c6c2-1a19f7bdafd7"
   },
   "outputs": [],
   "source": [
    "# Transform the label to 1: toxic and 0: non toxic\n",
    "hasoc[\"task_1\"] = hasoc[\"task_1\"].replace({\"HOF\": 1, \"NOT\": 0})\n",
    "hasoc[\"task_1\"].value_counts()"
   ]
  },
  {
   "cell_type": "code",
   "execution_count": null,
   "metadata": {
    "colab": {
     "base_uri": "https://localhost:8080/",
     "height": 206
    },
    "id": "370Fq7v1I8nv",
    "outputId": "99fe1a8d-b726-4cb3-9094-de6f1a61c97f"
   },
   "outputs": [],
   "source": [
    "# Change column names to match the other datasets\n",
    "hasoc = hasoc.rename(columns={'task_1': 'class', 'text': 'tweet'})\n",
    "hasoc.head()"
   ]
  },
  {
   "cell_type": "code",
   "execution_count": null,
   "metadata": {
    "colab": {
     "base_uri": "https://localhost:8080/"
    },
    "id": "rd9gFm6XByTe",
    "outputId": "e5b13e12-a649-44dd-d96e-9fc09c089c51"
   },
   "outputs": [],
   "source": [
    "print(\"Rows:\", hasoc.shape[0])\n",
    "print(\"Columns:\", hasoc.shape[1])"
   ]
  },
  {
   "cell_type": "markdown",
   "metadata": {
    "id": "POVzb_McGaHw",
    "jp-MarkdownHeadingCollapsed": true
   },
   "source": [
    "### **Dataset 3: Zeerak Talat’s Hate Speech Dataset**"
   ]
  },
  {
   "cell_type": "code",
   "execution_count": null,
   "metadata": {
    "colab": {
     "base_uri": "https://localhost:8080/",
     "height": 206
    },
    "id": "ZaU4jSIJGlbd",
    "outputId": "1d01550d-3cd8-4f97-c5be-4e8e43362e2a"
   },
   "outputs": [],
   "source": [
    "# Load the dataset\n",
    "zeerak = pd.read_csv(\"./data/NAACL_SRW_2016_fixed.csv\")[[\"class\", \"text\"]]\n",
    "zeerak.head()"
   ]
  },
  {
   "cell_type": "code",
   "execution_count": null,
   "metadata": {
    "colab": {
     "base_uri": "https://localhost:8080/",
     "height": 210
    },
    "id": "-JjJCvd_HOzp",
    "outputId": "3e9dd718-a82f-43d8-b8c3-b589fee38bdc"
   },
   "outputs": [],
   "source": [
    "# Original class labels\n",
    "zeerak[\"class\"].value_counts()"
   ]
  },
  {
   "cell_type": "code",
   "execution_count": null,
   "metadata": {
    "colab": {
     "base_uri": "https://localhost:8080/",
     "height": 234
    },
    "id": "nphlA7FBHVwP",
    "outputId": "6a8df7a9-c8a0-43aa-ebd8-1259de47c044"
   },
   "outputs": [],
   "source": [
    "# Transform the label to 1: toxic and 0: non toxic\n",
    "zeerak[\"class\"] = zeerak[\"class\"].replace({\"sexism\": 1, \"racism\": 1, \"none\": 0})\n",
    "zeerak[\"class\"].value_counts()"
   ]
  },
  {
   "cell_type": "code",
   "execution_count": null,
   "metadata": {
    "colab": {
     "base_uri": "https://localhost:8080/",
     "height": 206
    },
    "id": "DpDoOid6HvIa",
    "outputId": "c9a410e7-26ee-4114-ffbb-359bb73e76ed"
   },
   "outputs": [],
   "source": [
    "# Rename the columns to match the other datasets\n",
    "zeerak = zeerak.rename(columns={'text': 'tweet'})\n",
    "zeerak.head()"
   ]
  },
  {
   "cell_type": "code",
   "execution_count": null,
   "metadata": {
    "colab": {
     "base_uri": "https://localhost:8080/"
    },
    "id": "zM3Lo4PpH9wW",
    "outputId": "9fd02c0b-2563-441c-cb89-57346eb234ce"
   },
   "outputs": [],
   "source": [
    "print(\"Rows:\", zeerak.shape[0])\n",
    "print(\"Columns:\", zeerak.shape[1])"
   ]
  },
  {
   "cell_type": "markdown",
   "metadata": {
    "id": "wc6WggqZIqTd",
    "jp-MarkdownHeadingCollapsed": true
   },
   "source": [
    "### **Concatenation**"
   ]
  },
  {
   "cell_type": "code",
   "execution_count": null,
   "metadata": {
    "colab": {
     "base_uri": "https://localhost:8080/",
     "height": 206
    },
    "id": "n039VZBvIvTL",
    "outputId": "bb659b49-76c5-4362-daa6-bf189dd4915a"
   },
   "outputs": [],
   "source": [
    "data = pd.concat([davidson, hasoc, zeerak], axis=0, ignore_index=True)\n",
    "data.head()"
   ]
  },
  {
   "cell_type": "code",
   "execution_count": null,
   "metadata": {
    "colab": {
     "base_uri": "https://localhost:8080/",
     "height": 178
    },
    "id": "3Ynv6GXmJaaC",
    "outputId": "a1b0d147-b4e2-4441-b95f-f73ef4901ad8"
   },
   "outputs": [],
   "source": [
    "data[\"class\"].value_counts()"
   ]
  },
  {
   "cell_type": "code",
   "execution_count": null,
   "metadata": {
    "colab": {
     "base_uri": "https://localhost:8080/"
    },
    "id": "LkIiH5LTJYcI",
    "outputId": "edf2ab84-60b1-4345-89d8-86142bea1477"
   },
   "outputs": [],
   "source": [
    "print(\"Rows:\", data.shape[0])\n",
    "print(\"Columns:\", data.shape[1])"
   ]
  },
  {
   "cell_type": "markdown",
   "metadata": {
    "id": "oDCbT5h2Jpqs",
    "jp-MarkdownHeadingCollapsed": true
   },
   "source": [
    "### **Cleaning**"
   ]
  },
  {
   "cell_type": "code",
   "execution_count": null,
   "metadata": {
    "id": "2ri0a8eqMlba"
   },
   "outputs": [],
   "source": [
    "#Check point\n",
    "# Creation of one dataset for embedding of text into a vector and another one for embbeding with GloVe + Twitter\n",
    "data_cleaning = data.copy()\n",
    "data_cleaning_slight = data.copy()"
   ]
  },
  {
   "cell_type": "code",
   "execution_count": null,
   "metadata": {
    "id": "uD7dNTS-Risk"
   },
   "outputs": [],
   "source": [
    "# Transform emojis into words\n",
    "\n",
    "def emoji_to_words(text):\n",
    "  return emoji.demojize(text, language='en')\n",
    "\n",
    "data_cleaning['tweet'] = data_cleaning['tweet'].apply(emoji_to_words)\n",
    "data_cleaning_slight['tweet'] = data_cleaning_slight['tweet'].apply(emoji_to_words)"
   ]
  },
  {
   "cell_type": "code",
   "execution_count": null,
   "metadata": {
    "id": "w3W3lxHlJ0OI"
   },
   "outputs": [],
   "source": [
    "# Remove URLs from tweets\n",
    "\n",
    "def remove_urls(text):\n",
    "  return re.sub(r'http\\S+', '', text)\n",
    "\n",
    "data_cleaning['tweet'] = data_cleaning['tweet'].apply(remove_urls)\n",
    "data_cleaning_slight['tweet'] = data_cleaning_slight['tweet'].apply(remove_urls)"
   ]
  },
  {
   "cell_type": "code",
   "execution_count": null,
   "metadata": {
    "id": "dstAzTL0KaaX"
   },
   "outputs": [],
   "source": [
    "# Remove mentions from tweets\n",
    "def remove_mentions(text):\n",
    "  return re.sub(r'@\\w+', '', text)\n",
    "\n",
    "data_cleaning['tweet'] = data_cleaning['tweet'].apply(remove_mentions)\n"
   ]
  },
  {
   "cell_type": "code",
   "execution_count": null,
   "metadata": {
    "id": "_uF8JhSkLbft"
   },
   "outputs": [],
   "source": [
    "# Remove symbols from tweets\n",
    "\n",
    "def leave_letters(text):\n",
    "  text = re.sub(r'[^a-zA-Z]', ' ', text)\n",
    "  text = re.sub(r'\\s+', ' ', text)\n",
    "  return text\n",
    "\n",
    "data_cleaning['tweet'] = data_cleaning['tweet'].apply(leave_letters)"
   ]
  },
  {
   "cell_type": "code",
   "execution_count": null,
   "metadata": {},
   "outputs": [],
   "source": [
    "# Remove uncommon symbols from tweets\n",
    "\n",
    "def clean_tweet_for_glove(text):\n",
    "  # Keep only letters, numbers, hashtags, mentions, apostrophes, emojis, and basic punctuation\n",
    "  text = re.sub(r\"[^a-zA-Z0-9@#'’!?.,\\s]\", '', text)  # keep @, #, apostrophes, basic punctuation\n",
    "  text = re.sub(r'\\s+', ' ', text)  # replace multiple spaces with single space\n",
    "  return text.strip()\n",
    "\n",
    "data_cleaning_slight['tweet'] = data_cleaning_slight['tweet'].apply(clean_tweet_for_glove)"
   ]
  },
  {
   "cell_type": "code",
   "execution_count": null,
   "metadata": {
    "id": "FbJodhJyM23e"
   },
   "outputs": [],
   "source": [
    "# Remove symbols from tweets\n",
    "\n",
    "def lowercase(text):\n",
    "  return text.lower()\n",
    "\n",
    "data_cleaning['tweet'] = data_cleaning['tweet'].apply(lowercase)\n",
    "data_cleaning_slight['tweet'] = data_cleaning_slight['tweet'].apply(lowercase)"
   ]
  },
  {
   "cell_type": "code",
   "execution_count": null,
   "metadata": {
    "id": "ggJB0i9qOFNG"
   },
   "outputs": [],
   "source": [
    "# Correct spelling\n",
    "spell = SpellChecker()\n",
    "\n",
    "def correct_spelling(text):\n",
    "  words = text.split()\n",
    "  corrected_words = [spell.correction(word) or word for word in words]\n",
    "  return ' '.join(corrected_words)\n",
    "\n",
    "data_cleaning['tweet'] = [correct_spelling(text) for text in tqdm(data_cleaning['tweet'])]"
   ]
  },
  {
   "cell_type": "code",
   "execution_count": null,
   "metadata": {},
   "outputs": [],
   "source": [
    "data_cleaning.head(2)"
   ]
  },
  {
   "cell_type": "code",
   "execution_count": null,
   "metadata": {
    "id": "CxKYgHtCQHyK"
   },
   "outputs": [],
   "source": [
    "# Remove stopwords\n",
    "\n",
    "def remove_stopwords(text):\n",
    "  stop_words = set(stopwords.words('english'))  # Use English stop words\n",
    "  words = text.split()\n",
    "  filtered_words = [word for word in words if word not in stop_words]\n",
    "  return \" \".join(filtered_words)\n",
    "\n",
    "data_cleaning['tweet'] = data_cleaning['tweet'].apply(remove_stopwords)"
   ]
  },
  {
   "cell_type": "code",
   "execution_count": null,
   "metadata": {
    "id": "knrHot4YQ5Za"
   },
   "outputs": [],
   "source": [
    "# Stemming the words\n",
    "\n",
    "stemmer = PorterStemmer()\n",
    "\n",
    "def stem_text(text):\n",
    "  words = text.split()\n",
    "  stemmed_words = [stemmer.stem(word) for word in words]\n",
    "  return \" \".join(stemmed_words)"
   ]
  },
  {
   "cell_type": "code",
   "execution_count": null,
   "metadata": {
    "colab": {
     "base_uri": "https://localhost:8080/",
     "height": 459
    },
    "id": "Jo_cF0_hBOdl",
    "outputId": "3a33d01a-fee9-41ba-a8af-2066e844e10b"
   },
   "outputs": [],
   "source": [
    "data_cleaning['tweet'].head(200)"
   ]
  },
  {
   "cell_type": "code",
   "execution_count": null,
   "metadata": {},
   "outputs": [],
   "source": [
    "data_cleaning_slight['tweet'].head(200)"
   ]
  },
  {
   "cell_type": "code",
   "execution_count": null,
   "metadata": {},
   "outputs": [],
   "source": [
    "# Check and remove duplicates\n",
    "def check_remove_dup(dataset):\n",
    "  print(f'Duplicates: {dataset[\"tweet\"].duplicated().sum()}')\n",
    "  duplicated_tweets = dataset[\"tweet\"].duplicated()\n",
    "  return dataset[~duplicated_tweets]"
   ]
  },
  {
   "cell_type": "code",
   "execution_count": null,
   "metadata": {
    "colab": {
     "base_uri": "https://localhost:8080/"
    },
    "id": "XJkqwmmvIziu",
    "outputId": "0d018b93-a1fd-49f4-85f1-a152d652ee26"
   },
   "outputs": [],
   "source": [
    "# Check and remove duplicates in the first dataset\n",
    "\n",
    "data_cleaning = check_remove_dup(data_cleaning)"
   ]
  },
  {
   "cell_type": "code",
   "execution_count": null,
   "metadata": {},
   "outputs": [],
   "source": [
    "# Check and remove duplicates in the second dataset\n",
    "\n",
    "data_cleaning_slight = check_remove_dup(data_cleaning_slight)\n"
   ]
  },
  {
   "cell_type": "code",
   "execution_count": null,
   "metadata": {},
   "outputs": [],
   "source": [
    "# Check for null or empty \n",
    "\n",
    "def check_null_empty(dataset):\n",
    "  keep = ~((dataset[\"tweet\"].isnull()) | (dataset[\"tweet\"] == \"\"))\n",
    "    \n",
    "  print(f'Number of nulls or empty: {(~keep).sum()}')\n",
    "    \n",
    "  dataset = dataset[keep]\n",
    "    \n",
    "  print(f'Cleaned data shape: {dataset.shape}')\n",
    "\n",
    "  return dataset"
   ]
  },
  {
   "cell_type": "code",
   "execution_count": null,
   "metadata": {
    "colab": {
     "base_uri": "https://localhost:8080/"
    },
    "id": "wkX2z2k6w1VS",
    "outputId": "d3d3f856-7875-4c63-e349-e6504c55d0e7"
   },
   "outputs": [],
   "source": [
    "# Check for null or empty in the first dataset\n",
    "\n",
    "data_cleaning = check_null_empty(data_cleaning)"
   ]
  },
  {
   "cell_type": "code",
   "execution_count": null,
   "metadata": {},
   "outputs": [],
   "source": [
    "# Check for null or empty in the second dataset\n",
    "\n",
    "data_cleaning_slight = check_null_empty(data_cleaning_slight)"
   ]
  },
  {
   "cell_type": "code",
   "execution_count": null,
   "metadata": {
    "colab": {
     "base_uri": "https://localhost:8080/",
     "height": 178
    },
    "id": "tb2qAprnpPQJ",
    "outputId": "2164773f-0d40-43b7-b2a8-5e5c7ded19c1"
   },
   "outputs": [],
   "source": [
    "# Checking the dataset's balance\n",
    "\n",
    "data_cleaning[\"class\"].value_counts()"
   ]
  },
  {
   "cell_type": "code",
   "execution_count": null,
   "metadata": {},
   "outputs": [],
   "source": [
    "# Checking the dataset's balance\n",
    "\n",
    "data_cleaning_slight[\"class\"].value_counts()"
   ]
  },
  {
   "cell_type": "code",
   "execution_count": null,
   "metadata": {
    "id": "-e6MsX360a3r"
   },
   "outputs": [],
   "source": [
    "# Function to get a random synonym of a word\n",
    "\n",
    "def get_synonym(word):\n",
    "  synonyms = []\n",
    "  for syn in wordnet.synsets(word):\n",
    "    for lemma in syn.lemmas():\n",
    "      synonyms.append(lemma.name())\n",
    "  if len(synonyms) > 0:\n",
    "    synonyms = list(set(synonyms))\n",
    "    return synonyms[random.randint(0, len(synonyms) - 1)]\n",
    "  else:\n",
    "    return \"\""
   ]
  },
  {
   "cell_type": "code",
   "execution_count": null,
   "metadata": {
    "id": "8CWCzEuw0v30"
   },
   "outputs": [],
   "source": [
    "# Custom random insertion function\n",
    "\n",
    "def random_synonym_insert_augment(text, alpha):\n",
    "\n",
    "  words = text.split()\n",
    "  new_text = words.copy()\n",
    "  for word in words:\n",
    "    if random.random() < alpha:\n",
    "      synonym = get_synonym(word)\n",
    "      if synonym != \"\":\n",
    "        position = random.randint(0, len(new_text) - 1)\n",
    "        new_text.insert(position, synonym)\n",
    "\n",
    "  return [\" \".join(new_text)]"
   ]
  },
  {
   "cell_type": "code",
   "execution_count": null,
   "metadata": {},
   "outputs": [],
   "source": [
    "# Balance the data set using easy data augmentation\n",
    "\n",
    "#Choose an alpha parameter (Percentage of words in a sentence that are changed)\n",
    "alpha = 0.25\n",
    "\n",
    "aug_synonym = naw.SynonymAug(aug_src='wordnet', aug_p = alpha)\n",
    "aug_swap = naw.RandomWordAug(action=\"swap\", aug_p = alpha)\n",
    "aug_delete = naw.RandomWordAug(action=\"delete\", aug_p = alpha)\n",
    "\n",
    "\n",
    "def data_augmentation(dataset, alpha):\n",
    "  # Store the new rows\n",
    "  new_rows = []\n",
    "\n",
    "  # Size to balance the classes\n",
    "  desired_size = len(dataset[dataset['class'] == 1]) - len(dataset[dataset['class'] == 0])\n",
    "\n",
    "  non_toxic = dataset[dataset['class'] == 0]\n",
    "\n",
    "  # Until balanced\n",
    "  while len(new_rows) < desired_size:\n",
    "    # Get a random sample from the minority class\n",
    "    random_row = non_toxic.sample(1)\n",
    "\n",
    "    # Pick a random EDA technique and apply it\n",
    "    random_num = random.randint(1, 4)\n",
    "    augmented_text = []\n",
    "\n",
    "    if random_num == 1:\n",
    "      augmented_text = aug_synonym.augment(random_row['tweet'].values[0])\n",
    "    elif random_num == 2:\n",
    "      augmented_text = aug_swap.augment(random_row['tweet'].values[0])\n",
    "    elif random_num == 3:\n",
    "      augmented_text = random_synonym_insert_augment(random_row['tweet'].values[0], alpha)\n",
    "    else:\n",
    "      augmented_text = aug_delete.augment(random_row['tweet'].values[0])\n",
    "\n",
    "    if len(augmented_text) > 0:\n",
    "      new_rows.append({ \"tweet\": augmented_text[0], \"class\": random_row['class'].values[0] })\n",
    "\n",
    "\n",
    "  # New rows dataframe\n",
    "  new_rows_df = pd.DataFrame(new_rows)\n",
    "\n",
    "  # Concatenate the datasets\n",
    "  return pd.concat([dataset, new_rows_df], ignore_index = True, axis = 0)"
   ]
  },
  {
   "cell_type": "code",
   "execution_count": null,
   "metadata": {
    "colab": {
     "base_uri": "https://localhost:8080/",
     "height": 214
    },
    "id": "yCzR8WSkm-55",
    "outputId": "fa9ea933-6dc1-4cfb-a014-2e2bfbd969d9"
   },
   "outputs": [],
   "source": [
    "# Balance the first dataset\n",
    "\n",
    "balanced_data = data_augmentation(data_cleaning, alpha)\n",
    "\n",
    "print(f'Balanced data shape: {balanced_data.shape}')\n",
    "print()\n",
    "balanced_data[\"class\"].value_counts()\n"
   ]
  },
  {
   "cell_type": "code",
   "execution_count": null,
   "metadata": {},
   "outputs": [],
   "source": [
    "# Balance the second dataset\n",
    "\n",
    "balanced_data_glove = data_augmentation(data_cleaning_slight, alpha)\n",
    "\n",
    "print(f'Balanced data shape: {balanced_data_glove.shape}')\n",
    "print()\n",
    "balanced_data_glove[\"class\"].value_counts()"
   ]
  },
  {
   "cell_type": "code",
   "execution_count": null,
   "metadata": {
    "colab": {
     "base_uri": "https://localhost:8080/"
    },
    "id": "VT4oS-zymJ1-",
    "outputId": "36701ecc-5424-430f-9136-7374fcdd9aa5"
   },
   "outputs": [],
   "source": [
    "# Check and remove duplicates again that could have appeared due to augmentation\n",
    "\n",
    "balanced_data = check_remove_dup(balanced_data)"
   ]
  },
  {
   "cell_type": "code",
   "execution_count": null,
   "metadata": {},
   "outputs": [],
   "source": [
    "# Check and remove duplicates again that could have appeared due to augmentation in the second dataset\n",
    "\n",
    "balanced_data_glove = check_remove_dup(balanced_data_glove)"
   ]
  },
  {
   "cell_type": "code",
   "execution_count": null,
   "metadata": {
    "colab": {
     "base_uri": "https://localhost:8080/"
    },
    "id": "qzl7m5dtmVb9",
    "outputId": "0a8834c2-ee10-4f87-a065-5744ea1143d9"
   },
   "outputs": [],
   "source": [
    "# Check for null or empty again if they appeared due to augmentation\n",
    "\n",
    "balanced_data = check_null_empty(balanced_data)"
   ]
  },
  {
   "cell_type": "code",
   "execution_count": null,
   "metadata": {},
   "outputs": [],
   "source": [
    "# Check for null or empty again if they appeared due to augmentation in the second dataset\n",
    "\n",
    "balanced_data_glove = check_null_empty(balanced_data_glove)"
   ]
  },
  {
   "cell_type": "code",
   "execution_count": null,
   "metadata": {
    "colab": {
     "base_uri": "https://localhost:8080/",
     "height": 178
    },
    "id": "yHSD5OOFnZ-0",
    "outputId": "f015c6bb-04da-480e-a83c-5e598d371777"
   },
   "outputs": [],
   "source": [
    "# Final distribution\n",
    "\n",
    "balanced_data[\"class\"].value_counts()"
   ]
  },
  {
   "cell_type": "code",
   "execution_count": null,
   "metadata": {},
   "outputs": [],
   "source": [
    "# Final distribution\n",
    "\n",
    "balanced_data_glove[\"class\"].value_counts()"
   ]
  },
  {
   "cell_type": "code",
   "execution_count": null,
   "metadata": {
    "id": "1uYEqJ89B_Ji"
   },
   "outputs": [],
   "source": [
    "balanced_data.to_csv('balanced_data.csv', index=False)"
   ]
  },
  {
   "cell_type": "code",
   "execution_count": null,
   "metadata": {},
   "outputs": [],
   "source": [
    "balanced_data_glove.to_csv('balanced_data_glove.csv', index=False)"
   ]
  },
  {
   "cell_type": "markdown",
   "metadata": {
    "jp-MarkdownHeadingCollapsed": true
   },
   "source": [
    "## **Embedding GloVe + Twitter**"
   ]
  },
  {
   "cell_type": "markdown",
   "metadata": {
    "jp-MarkdownHeadingCollapsed": true
   },
   "source": [
    "### **Downloading and loading GloVe + Twitter**"
   ]
  },
  {
   "cell_type": "code",
   "execution_count": null,
   "metadata": {},
   "outputs": [],
   "source": [
    "!wget https://nlp.stanford.edu/data/glove.twitter.27B.zip"
   ]
  },
  {
   "cell_type": "code",
   "execution_count": null,
   "metadata": {},
   "outputs": [],
   "source": [
    "!unzip glove.twitter.27B.zip"
   ]
  },
  {
   "cell_type": "code",
   "execution_count": null,
   "metadata": {},
   "outputs": [],
   "source": [
    "embeddings_dict = {}\n",
    "with open(\"glove.twitter.27B.100d.txt\", encoding=\"utf-8\") as f:\n",
    "    for line in f:\n",
    "        values = line.strip().split()\n",
    "        word = values[0]\n",
    "        vector = list(map(float, values[1:]))\n",
    "        embeddings_dict[word] = vector"
   ]
  },
  {
   "cell_type": "markdown",
   "metadata": {
    "jp-MarkdownHeadingCollapsed": true
   },
   "source": [
    "### **Embedding**"
   ]
  },
  {
   "cell_type": "code",
   "execution_count": null,
   "metadata": {},
   "outputs": [],
   "source": [
    "# Tokenization of texts\n",
    "\n",
    "balanced_data_glove = pd.read_csv('balanced_data_glove.csv')\n",
    "\n",
    "tweets = balanced_data_glove[\"tweet\"].astype(str).tolist()\n",
    "\n",
    "tweets = [word_tokenize(tweet) for tweet in tweets]"
   ]
  },
  {
   "cell_type": "code",
   "execution_count": null,
   "metadata": {},
   "outputs": [],
   "source": [
    "# Vectorization of texts\n",
    "\n",
    "dimension = 100\n",
    "\n",
    "def get_vector_from_tokens(tokens):\n",
    "    vectors = []\n",
    "    for token in tokens:\n",
    "        if token in embeddings_dict:\n",
    "            vectors.append(embeddings_dict[token])\n",
    "        else:\n",
    "            vectors.append(np.zeros(dimension))\n",
    "    return np.array(vectors)"
   ]
  },
  {
   "cell_type": "code",
   "execution_count": null,
   "metadata": {},
   "outputs": [],
   "source": [
    "tweet_embedding = [get_vector_from_tokens(tweet) for tweet in tweets]"
   ]
  },
  {
   "cell_type": "code",
   "execution_count": null,
   "metadata": {},
   "outputs": [],
   "source": [
    "# Max length for padding\n",
    "\n",
    "max_length = int(np.percentile([len(embedding) for embedding in tweet_embedding], 90))\n",
    "max_length"
   ]
  },
  {
   "cell_type": "code",
   "execution_count": null,
   "metadata": {},
   "outputs": [],
   "source": [
    "# Padding for equal sequence lengths\n",
    "\n",
    "padded_tweets = pad_sequences(tweet_embedding, maxlen = max_length, dtype = 'float32', padding = 'post', truncating = 'post', value = 0.0)"
   ]
  },
  {
   "cell_type": "code",
   "execution_count": null,
   "metadata": {},
   "outputs": [],
   "source": [
    "padded_tweets.shape"
   ]
  },
  {
   "cell_type": "code",
   "execution_count": null,
   "metadata": {},
   "outputs": [],
   "source": [
    "np.save('embeddings_data_glove.npy', padded_tweets)"
   ]
  },
  {
   "cell_type": "markdown",
   "metadata": {
    "jp-MarkdownHeadingCollapsed": true
   },
   "source": [
    "## **Embeddings Contextuales BERT**"
   ]
  },
  {
   "cell_type": "code",
   "execution_count": null,
   "metadata": {},
   "outputs": [],
   "source": [
    "model_name = 'cardiffnlp/twitter-roberta-base'\n",
    "max_len = 64\n",
    "\n",
    "tokenizer_roberta = AutoTokenizer.from_pretrained(model_name)\n",
    "model_roberta = AutoModel.from_pretrained(model_name)\n",
    "model_roberta.eval()"
   ]
  },
  {
   "cell_type": "code",
   "execution_count": null,
   "metadata": {},
   "outputs": [],
   "source": [
    "data = pd.read_csv('balanced_data.csv')\n",
    "tweets = data['tweet'].astype(str).tolist()"
   ]
  },
  {
   "cell_type": "code",
   "execution_count": null,
   "metadata": {},
   "outputs": [],
   "source": [
    "def mean_pooling(outputs, attention_mask):\n",
    "    token_embeddings = outputs.last_hidden_state\n",
    "    input_mask_expanded = attention_mask.unsqueeze(-1).expand(token_embeddings.size()).float()\n",
    "    sum_embeddings = torch.sum(token_embeddings * input_mask_expanded, dim=1)\n",
    "    sum_mask = input_mask_expanded.sum(1)\n",
    "    return sum_embeddings / sum_mask"
   ]
  },
  {
   "cell_type": "code",
   "execution_count": null,
   "metadata": {},
   "outputs": [],
   "source": [
    "def generate_embeddings(texts, model, tokenizer, max_len=64, device=None):\n",
    "    \n",
    "    if device is None:\n",
    "        device = torch.device(\"cuda\" if torch.cuda.is_available() else \"cpu\")\n",
    "    model.to(device)\n",
    "    model.eval()\n",
    "\n",
    "    embeddings_cls = []\n",
    "    embeddings_mean = []\n",
    "\n",
    "    for text in tqdm(texts, desc='Generando embeddings'):\n",
    "        inputs = tokenizer(text, return_tensors='pt', truncation=True, padding='max_length', max_length=max_len)\n",
    "        inputs = {k: v.to(device) for k, v in inputs.items()}\n",
    "        with torch.no_grad():\n",
    "            outputs = model(**inputs)\n",
    "\n",
    "        cls_embedding = outputs.last_hidden_state[:, 0, :].squeeze().cpu().numpy()\n",
    "        embeddings_cls.append(cls_embedding)\n",
    "\n",
    "        mean_embedding = mean_pooling(outputs, inputs['attention_mask']).squeeze().cpu().numpy()\n",
    "        embeddings_mean.append(mean_embedding)\n",
    "\n",
    "    return embeddings_cls, embeddings_mean"
   ]
  },
  {
   "cell_type": "code",
   "execution_count": null,
   "metadata": {},
   "outputs": [],
   "source": [
    "embeddings_cls, embeddings_mean = generate_embeddings(tweets, model_roberta, tokenizer_roberta, max_len)\n",
    "\n",
    "data[\"embedding_cls\"] = [vec.tolist() for vec in embeddings_cls]\n",
    "data[\"embedding_mean\"] = [vec.tolist() for vec in embeddings_mean]\n",
    "\n",
    "data.to_csv('data/embeddings_data.csv',index=False)"
   ]
  },
  {
   "cell_type": "code",
   "execution_count": null,
   "metadata": {},
   "outputs": [],
   "source": [
    "!pip3 install --upgrade nbformat"
   ]
  },
  {
   "cell_type": "code",
   "execution_count": null,
   "metadata": {},
   "outputs": [],
   "source": [
    "df = pd.read_csv(\"data/embeddings_data.csv\")\n",
    "df[\"embedding_mean\"] = df[\"embedding_mean\"].apply(ast.literal_eval)\n",
    "X = np.vstack(df[\"embedding_mean\"].values)\n",
    "labels = df[\"class\"].astype(str) if \"class\" in df.columns else None\n",
    "\n",
    "reducer = umap.UMAP(n_components=3, random_state=42)\n",
    "X_umap = reducer.fit_transform(X)\n",
    "\n",
    "fig = px.scatter_3d(\n",
    "    x=X_umap[:, 0],\n",
    "    y=X_umap[:, 1],\n",
    "    z=X_umap[:, 2],\n",
    "    color=labels,\n",
    "    title=\"UMAP 3D de embeddings de tweets\",\n",
    "    labels={\"color\": \"Clase\"}\n",
    ")\n",
    "fig.show()"
   ]
  },
  {
   "cell_type": "markdown",
   "metadata": {
    "jp-MarkdownHeadingCollapsed": true
   },
   "source": [
    "## **Machine Learning Models**"
   ]
  },
  {
   "cell_type": "markdown",
   "metadata": {},
   "source": [
    "### **Nicolas Bedoya Figueroa**"
   ]
  },
  {
   "cell_type": "markdown",
   "metadata": {},
   "source": [
    "### **Daniel Escalante Perez**"
   ]
  },
  {
   "cell_type": "markdown",
   "metadata": {},
   "source": [
    "### **Marilyn Stephany Joven Fonseca**"
   ]
  },
  {
   "cell_type": "markdown",
   "metadata": {},
   "source": [
    "### **Eder Leandro Carbonero Baquero**"
   ]
  },
  {
   "cell_type": "markdown",
   "metadata": {},
   "source": [
    "Regression logistica\n",
    " Red neuronal convolucional CNN"
   ]
  },
  {
   "cell_type": "markdown",
   "metadata": {},
   "source": [
    "#### Logistic regression"
   ]
  },
  {
   "cell_type": "markdown",
   "metadata": {},
   "source": [
    "##### Carga de datos"
   ]
  },
  {
   "cell_type": "code",
   "execution_count": null,
   "metadata": {},
   "outputs": [],
   "source": [
    "import pandas as pd\n",
    "import numpy as np\n",
    "import ast\n",
    "from sklearn.linear_model import LogisticRegression\n",
    "from sklearn.model_selection import train_test_split\n",
    "from sklearn.metrics import accuracy_score, precision_score, recall_score, f1_score\n",
    "\n",
    "# === 1. CARGAR DATOS ===\n",
    "df_rg = pd.read_csv('data/embeddings_data.csv')  # ← Archivo fuente\n",
    "\n",
    "# Convertir la columna embedding_mean de string a lista de floats\n",
    "df_rg['embedding_mean'] = df_rg['embedding_mean'].apply(ast.literal_eval)\n",
    "\n",
    "# === 2. PREPARAR FEATURES Y LABELS ===\n",
    "X = np.vstack(df_rg['embedding_mean'].values)  # (n_samples, 768)\n",
    "y = df_rg['class'].values       "
   ]
  },
  {
   "cell_type": "code",
   "execution_count": null,
   "metadata": {},
   "outputs": [],
   "source": [
    "# === 3. DIVIDIR EN TRAIN Y TEST ===\n",
    "X_train, X_test, y_train, y_test = train_test_split(\n",
    "    X, y, test_size=0.2, random_state=42, stratify=y\n",
    ")\n",
    "\n",
    "# === 4. ENTRENAR MODELO DE REGRESIÓN LOGÍSTICA ===\n",
    "log_reg_model = LogisticRegression(\n",
    "    max_iter=1000,\n",
    "    random_state=42,\n",
    "    n_jobs=-1\n",
    ")\n",
    "log_reg_model.fit(X_train, y_train)\n",
    "\n",
    "# === 5. PREDICCIONES Y MÉTRICAS ===\n",
    "y_pred = log_reg_model.predict(X_test)\n",
    "\n",
    "# Calcular métricas\n",
    "accuracy = accuracy_score(y_test, y_pred)\n",
    "precision = precision_score(y_test, y_pred)\n",
    "recall = recall_score(y_test, y_pred)\n",
    "f1 = f1_score(y_test, y_pred)\n",
    "\n",
    "# Imprimir métricas\n",
    "print(f\"Accuracy: {accuracy:.4f}\")\n",
    "print(f\"Precisión: {precision:.4f}\")\n",
    "print(f\"Recall: {recall:.4f}\")\n",
    "print(f\"F1-score: {f1:.4f}\")"
   ]
  },
  {
   "cell_type": "code",
   "execution_count": null,
   "metadata": {},
   "outputs": [],
   "source": [
    "# === 6. GUARDAR MÉTRICAS EN UN CSV ===\n",
    "\n",
    "# Crear un DataFrame con las métricas\n",
    "metrics_df = pd.DataFrame({\n",
    "    'modelo': ['Regresión Logística'],\n",
    "    'accuracy': [accuracy],\n",
    "    'precision': [precision],\n",
    "    'recall': [recall],\n",
    "    'f1_score': [f1]\n",
    "})\n",
    "\n",
    "# Guardar en un archivo\n",
    "metrics_df.to_csv('resultados_metricas.csv', index=False)\n",
    "\n",
    "print(\"Métricas guardadas en 'resultados_metricas.csv'\")"
   ]
  },
  {
   "cell_type": "code",
   "execution_count": null,
   "metadata": {},
   "outputs": [],
   "source": [
    "import joblib\n",
    "\n",
    "# Guardar el modelo entrenado\n",
    "joblib.dump(log_reg_model, 'modelo_regresion_logistica.pkl')\n",
    "\n",
    "print(\"Modelo guardado en 'modelo_regresion_logistica.pkl'\")"
   ]
  },
  {
   "cell_type": "code",
   "execution_count": null,
   "metadata": {},
   "outputs": [],
   "source": [
    "# Cargar el modelo desde el archivo\n",
    "modelo_cargado = joblib.load('modelo_regresion_logistica.pkl')\n",
    "\n",
    "# Usar el modelo cargado para hacer predicciones\n",
    "nuevas_preds = modelo_cargado.predict(X_test)  # Por ejemplo, sobre X_test"
   ]
  },
  {
   "cell_type": "markdown",
   "metadata": {},
   "source": [
    "##### Modelo de prediccón a partir de una sentencia"
   ]
  },
  {
   "cell_type": "code",
   "execution_count": null,
   "metadata": {},
   "outputs": [],
   "source": [
    "!pip install transformers torch\n"
   ]
  },
  {
   "cell_type": "code",
   "execution_count": null,
   "metadata": {},
   "outputs": [],
   "source": [
    "import torch\n",
    "from transformers import AutoTokenizer, AutoModel\n",
    "import joblib\n",
    "import numpy as np\n",
    "\n",
    "# === 1. CARGAR MODELOS ===\n",
    "# Cargar modelo y tokenizer de CardiffNLP\n",
    "model_name = 'cardiffnlp/twitter-roberta-base'\n",
    "tokenizer = AutoTokenizer.from_pretrained(model_name)\n",
    "embedding_model = AutoModel.from_pretrained(model_name)\n",
    "\n",
    "# Cargar el modelo de regresión logística previamente guardado\n",
    "modelo_clasificador = joblib.load('modelo_regresion_logistica.pkl')\n",
    "\n",
    "# === 2. DEFINIR MÉTODO PARA PREDECIR ===\n",
    "def predict_hate_speech(frase):\n",
    "    # Tokenizar entrada\n",
    "    inputs = tokenizer(\n",
    "        frase,\n",
    "        return_tensors=\"pt\",\n",
    "        truncation=True,\n",
    "        padding=True,\n",
    "        max_length=128  # ← Agregado para evitar warnings\n",
    "    )\n",
    "    \n",
    "    # Obtener embedding\n",
    "    with torch.no_grad():\n",
    "        outputs = embedding_model(**inputs)\n",
    "    \n",
    "    # Mean pooling\n",
    "    last_hidden_state = outputs.last_hidden_state\n",
    "    embedding_mean = last_hidden_state.mean(dim=1).numpy()\n",
    "\n",
    "    # Predecir\n",
    "    pred = modelo_clasificador.predict(embedding_mean)[0]\n",
    "    \n",
    "    # Interpretar predicción\n",
    "    return \"Hate Speech ⚠️\" if pred == 1 else \"No Hate Speech ✅\"\n",
    "\n"
   ]
  },
  {
   "cell_type": "code",
   "execution_count": null,
   "metadata": {},
   "outputs": [],
   "source": [
    "frase = \"I hate you so much!\"\n",
    "resultado = predict_hate_speech(frase)\n",
    "print(resultado)\n"
   ]
  },
  {
   "cell_type": "code",
   "execution_count": null,
   "metadata": {},
   "outputs": [],
   "source": [
    "# Acceder a los coeficientes de la regresión logística\n",
    "coeficientes = modelo_clasificador.coef_[0]  # (768,)\n",
    "\n",
    "# Ordenar dimensiones por importancia\n",
    "importancia_dims = np.argsort(coeficientes)[::-1]  # Mayor a menor\n",
    "\n",
    "# Mostrar las 10 dimensiones más relacionadas con hate\n",
    "print(\"Top 10 dimensiones más asociadas a hate speech:\")\n",
    "for idx in importancia_dims[:10]:\n",
    "    print(f\"Dimensión {idx} → Peso: {coeficientes[idx]:.4f}\")\n"
   ]
  },
  {
   "cell_type": "code",
   "execution_count": null,
   "metadata": {},
   "outputs": [],
   "source": [
    "from transformers import RobertaTokenizer\n",
    "\n",
    "# Cargar el tokenizador de RoBERTa\n",
    "tokenizer = RobertaTokenizer.from_pretrained('cardiffnlp/twitter-roberta-base')\n",
    "\n",
    "# Acceder a los coeficientes de la regresión logística\n",
    "coeficientes = modelo_clasificador.coef_[0]  # (768,)\n",
    "\n",
    "# Ordenar dimensiones por importancia\n",
    "importancia_dims = np.argsort(coeficientes)[::-1]  # Mayor a menor\n",
    "\n",
    "# Mostrar las 10 palabras más asociadas a hate speech\n",
    "print(\"Top 10 tokens más asociados a hate speech:\")\n",
    "for idx in importancia_dims[:10]:\n",
    "    # Obtener el token asociado a esta dimensión\n",
    "    token_id = idx  # El índice aquí corresponde al token ID de RoBERTa\n",
    "    token = tokenizer.decode([token_id])  # Decodificar el token a una palabra/fragmento\n",
    "    print(f\"Token: {token} → Coeficiente: {coeficientes[idx]:.4f}\")\n"
   ]
  },
  {
   "cell_type": "markdown",
   "metadata": {},
   "source": [
    "Con base el los token con mayor coeficiente vamos a crear una frase aleatoria"
   ]
  },
  {
   "cell_type": "markdown",
   "metadata": {
    "jp-MarkdownHeadingCollapsed": true
   },
   "source": [
    "## **Deep Learning Models**"
   ]
  },
  {
   "cell_type": "markdown",
   "metadata": {},
   "source": [
    "### **Nicolas Bedoya Figueroa**"
   ]
  },
  {
   "cell_type": "markdown",
   "metadata": {},
   "source": [
    "### **Daniel Escalante Perez**"
   ]
  },
  {
   "cell_type": "markdown",
   "metadata": {},
   "source": [
    "### **Marilyn Stephany Joven Fonseca**"
   ]
  },
  {
   "cell_type": "markdown",
   "metadata": {},
   "source": [
    "### **Eder Leandro Carbonero Baquero**"
   ]
  },
  {
   "cell_type": "markdown",
   "metadata": {},
   "source": [
    "#### CNN"
   ]
  },
  {
   "cell_type": "code",
   "execution_count": 1,
   "metadata": {},
   "outputs": [
    {
     "name": "stdout",
     "output_type": "stream",
     "text": [
      "(38164, 768, 1) (9541, 768, 1)\n"
     ]
    }
   ],
   "source": [
    "import pandas as pd\n",
    "from sklearn.model_selection import train_test_split\n",
    "import numpy as np\n",
    "\n",
    "# Cargar el archivo CSV\n",
    "df_cnn = pd.read_csv('data/embeddings_data.csv')\n",
    "\n",
    "# Asegurarse de que los embeddings son listas de números\n",
    "X = np.array(df_cnn['embedding_mean'].apply(eval).tolist())  # Convertir de string a lista\n",
    "y = np.array(df_cnn['class'])  # Etiquetas: 0 o 1\n",
    "\n",
    "# Dividir los datos en entrenamiento y prueba\n",
    "X_train, X_test, y_train, y_test = train_test_split(X, y, test_size=0.2, random_state=42)\n",
    "\n",
    "# Asegurarse de que los datos tengan la forma correcta (n_samples, sequence_length, n_channels)\n",
    "X_train = X_train.reshape((X_train.shape[0], X_train.shape[1], 1))\n",
    "X_test = X_test.reshape((X_test.shape[0], X_test.shape[1], 1))\n",
    "\n",
    "# Verificar las formas de los datos para asegurarse de que están correctos\n",
    "print(X_train.shape, X_test.shape)\n"
   ]
  },
  {
   "cell_type": "code",
   "execution_count": 2,
   "metadata": {},
   "outputs": [
    {
     "name": "stderr",
     "output_type": "stream",
     "text": [
      "/Users/eventsequor/Library/Python/3.9/lib/python/site-packages/urllib3/__init__.py:35: NotOpenSSLWarning: urllib3 v2 only supports OpenSSL 1.1.1+, currently the 'ssl' module is compiled with 'LibreSSL 2.8.3'. See: https://github.com/urllib3/urllib3/issues/3020\n",
      "  warnings.warn(\n",
      "/Users/eventsequor/Library/Python/3.9/lib/python/site-packages/keras/src/layers/convolutional/base_conv.py:107: UserWarning: Do not pass an `input_shape`/`input_dim` argument to a layer. When using Sequential models, prefer using an `Input(shape)` object as the first layer in the model instead.\n",
      "  super().__init__(activity_regularizer=activity_regularizer, **kwargs)\n"
     ]
    }
   ],
   "source": [
    "import tensorflow as tf\n",
    "from tensorflow.keras import layers, models\n",
    "\n",
    "# Definir el modelo CNN con 5 capas\n",
    "model = models.Sequential()\n",
    "\n",
    "# Capa convolucional 1\n",
    "model.add(layers.Conv1D(64, 3, activation='relu', input_shape=(X_train.shape[1], 1)))\n",
    "model.add(layers.MaxPooling1D(2))\n",
    "\n",
    "# Capa convolucional 2\n",
    "model.add(layers.Conv1D(128, 3, activation='relu'))\n",
    "model.add(layers.MaxPooling1D(2))\n",
    "\n",
    "# Capa convolucional 3\n",
    "model.add(layers.Conv1D(256, 3, activation='relu'))\n",
    "model.add(layers.MaxPooling1D(2))\n",
    "\n",
    "# Capa convolucional 4\n",
    "model.add(layers.Conv1D(512, 3, activation='relu'))\n",
    "model.add(layers.MaxPooling1D(2))\n",
    "\n",
    "# Capa convolucional 5\n",
    "model.add(layers.Conv1D(1024, 3, activation='relu'))\n",
    "model.add(layers.MaxPooling1D(2))\n",
    "\n",
    "# Aplanar los resultados\n",
    "model.add(layers.Flatten())\n",
    "\n",
    "# Capa densa de salida\n",
    "model.add(layers.Dense(64, activation='relu'))\n",
    "model.add(layers.Dense(1, activation='sigmoid'))  # Salida binaria (0 o 1)\n",
    "\n",
    "# Compilar el modelo\n",
    "model.compile(optimizer='adam', \n",
    "              loss='binary_crossentropy', \n",
    "              metrics=['accuracy', tf.keras.metrics.Precision(), tf.keras.metrics.Recall()])\n"
   ]
  },
  {
   "cell_type": "code",
   "execution_count": 3,
   "metadata": {},
   "outputs": [
    {
     "name": "stdout",
     "output_type": "stream",
     "text": [
      "Epoch 1/20\n",
      "\u001b[1m955/955\u001b[0m \u001b[32m━━━━━━━━━━━━━━━━━━━━\u001b[0m\u001b[37m\u001b[0m \u001b[1m80s\u001b[0m 83ms/step - accuracy: 0.7305 - loss: 0.5119 - precision: 0.7469 - recall: 0.7249 - val_accuracy: 0.8337 - val_loss: 0.3806 - val_precision: 0.9229 - val_recall: 0.7372\n",
      "Epoch 2/20\n",
      "\u001b[1m955/955\u001b[0m \u001b[32m━━━━━━━━━━━━━━━━━━━━\u001b[0m\u001b[37m\u001b[0m \u001b[1m82s\u001b[0m 85ms/step - accuracy: 0.8401 - loss: 0.3625 - precision: 0.8840 - recall: 0.7910 - val_accuracy: 0.8379 - val_loss: 0.3715 - val_precision: 0.9266 - val_recall: 0.7426\n",
      "Epoch 3/20\n",
      "\u001b[1m955/955\u001b[0m \u001b[32m━━━━━━━━━━━━━━━━━━━━\u001b[0m\u001b[37m\u001b[0m \u001b[1m83s\u001b[0m 87ms/step - accuracy: 0.8548 - loss: 0.3349 - precision: 0.8980 - recall: 0.8037 - val_accuracy: 0.8500 - val_loss: 0.3428 - val_precision: 0.8934 - val_recall: 0.8032\n",
      "Epoch 4/20\n",
      "\u001b[1m955/955\u001b[0m \u001b[32m━━━━━━━━━━━━━━━━━━━━\u001b[0m\u001b[37m\u001b[0m \u001b[1m82s\u001b[0m 86ms/step - accuracy: 0.8591 - loss: 0.3223 - precision: 0.8984 - recall: 0.8146 - val_accuracy: 0.8510 - val_loss: 0.3405 - val_precision: 0.8804 - val_recall: 0.8208\n",
      "Epoch 5/20\n",
      "\u001b[1m955/955\u001b[0m \u001b[32m━━━━━━━━━━━━━━━━━━━━\u001b[0m\u001b[37m\u001b[0m \u001b[1m83s\u001b[0m 87ms/step - accuracy: 0.8660 - loss: 0.3127 - precision: 0.9114 - recall: 0.8178 - val_accuracy: 0.8495 - val_loss: 0.3411 - val_precision: 0.8636 - val_recall: 0.8387\n",
      "Epoch 6/20\n",
      "\u001b[1m955/955\u001b[0m \u001b[32m━━━━━━━━━━━━━━━━━━━━\u001b[0m\u001b[37m\u001b[0m \u001b[1m83s\u001b[0m 87ms/step - accuracy: 0.8734 - loss: 0.2963 - precision: 0.9147 - recall: 0.8300 - val_accuracy: 0.8572 - val_loss: 0.3280 - val_precision: 0.9078 - val_recall: 0.8029\n",
      "Epoch 7/20\n",
      "\u001b[1m955/955\u001b[0m \u001b[32m━━━━━━━━━━━━━━━━━━━━\u001b[0m\u001b[37m\u001b[0m \u001b[1m82s\u001b[0m 86ms/step - accuracy: 0.8823 - loss: 0.2789 - precision: 0.9211 - recall: 0.8413 - val_accuracy: 0.8496 - val_loss: 0.3361 - val_precision: 0.9013 - val_recall: 0.7935\n",
      "Epoch 8/20\n",
      "\u001b[1m955/955\u001b[0m \u001b[32m━━━━━━━━━━━━━━━━━━━━\u001b[0m\u001b[37m\u001b[0m \u001b[1m83s\u001b[0m 87ms/step - accuracy: 0.8911 - loss: 0.2693 - precision: 0.9284 - recall: 0.8507 - val_accuracy: 0.8520 - val_loss: 0.3419 - val_precision: 0.9180 - val_recall: 0.7809\n",
      "Epoch 9/20\n",
      "\u001b[1m955/955\u001b[0m \u001b[32m━━━━━━━━━━━━━━━━━━━━\u001b[0m\u001b[37m\u001b[0m \u001b[1m83s\u001b[0m 87ms/step - accuracy: 0.8964 - loss: 0.2492 - precision: 0.9318 - recall: 0.8587 - val_accuracy: 0.8533 - val_loss: 0.3548 - val_precision: 0.9058 - val_recall: 0.7965\n"
     ]
    }
   ],
   "source": [
    "from sklearn.metrics import f1_score\n",
    "from tensorflow.keras.callbacks import EarlyStopping\n",
    "\n",
    "# Configurar el entrenamiento\n",
    "early_stopping = EarlyStopping(monitor='val_loss', patience=3, restore_best_weights=True)\n",
    "\n",
    "# Entrenar el modelo\n",
    "history = model.fit(X_train, y_train, epochs=20, batch_size=32, validation_split=0.2, callbacks=[early_stopping])"
   ]
  },
  {
   "cell_type": "code",
   "execution_count": 4,
   "metadata": {},
   "outputs": [
    {
     "name": "stdout",
     "output_type": "stream",
     "text": [
      "\u001b[1m299/299\u001b[0m \u001b[32m━━━━━━━━━━━━━━━━━━━━\u001b[0m\u001b[37m\u001b[0m \u001b[1m7s\u001b[0m 22ms/step\n",
      "\u001b[1m299/299\u001b[0m \u001b[32m━━━━━━━━━━━━━━━━━━━━\u001b[0m\u001b[37m\u001b[0m \u001b[1m7s\u001b[0m 22ms/step - accuracy: 0.8470 - loss: 0.3419 - precision: 0.8933 - recall: 0.7964\n",
      "Accuracy: 0.8505398035049438\n",
      "Precision: 0.8966307640075684\n",
      "Recall: 0.8004910945892334\n",
      "F1 Score: 0.8458378378378378\n"
     ]
    }
   ],
   "source": [
    "# Evaluar el modelo en el conjunto de prueba\n",
    "y_pred = model.predict(X_test)\n",
    "y_pred = (y_pred > 0.5)  # Umbral para clasificación binaria\n",
    "\n",
    "# Calcular métricas adicionales\n",
    "accuracy = model.evaluate(X_test, y_test)[1]\n",
    "precision = tf.keras.metrics.Precision()(y_test, y_pred)\n",
    "recall = tf.keras.metrics.Recall()(y_test, y_pred)\n",
    "f1 = f1_score(y_test, y_pred)\n",
    "\n",
    "print(f\"Accuracy: {accuracy}\")\n",
    "print(f\"Precision: {precision}\")\n",
    "print(f\"Recall: {recall}\")\n",
    "print(f\"F1 Score: {f1}\")"
   ]
  },
  {
   "cell_type": "code",
   "execution_count": 6,
   "metadata": {},
   "outputs": [
    {
     "data": {
      "image/png": "[encoded data removed]",
      "text/plain": [
       "<Figure size 1200x600 with 2 Axes>"
      ]
     },
     "metadata": {},
     "output_type": "display_data"
    }
   ],
   "source": [
    "import numpy as np\n",
    "import matplotlib.pyplot as plt\n",
    "\n",
    "# Obtener las métricas de entrenamiento y validación\n",
    "train_accuracy = history.history['accuracy']\n",
    "val_accuracy = history.history['val_accuracy']\n",
    "train_loss = history.history['loss']\n",
    "val_loss = history.history['val_loss']\n",
    "\n",
    "# Graficar la precisión\n",
    "plt.figure(figsize=(12, 6))\n",
    "\n",
    "# Precisión\n",
    "plt.subplot(1, 2, 1)\n",
    "plt.plot(train_accuracy, label='Entrenamiento')\n",
    "plt.plot(val_accuracy, label='Validación')\n",
    "plt.title('Precisión del modelo')\n",
    "plt.xlabel('Épocas')\n",
    "plt.ylabel('Precisión')\n",
    "plt.legend()\n",
    "\n",
    "# Pérdida\n",
    "plt.subplot(1, 2, 2)\n",
    "plt.plot(train_loss, label='Entrenamiento')\n",
    "plt.plot(val_loss, label='Validación')\n",
    "plt.title('Pérdida del modelo')\n",
    "plt.xlabel('Épocas')\n",
    "plt.ylabel('Pérdida')\n",
    "plt.legend()\n",
    "\n",
    "plt.tight_layout()\n",
    "plt.show()"
   ]
  },
  {
   "cell_type": "markdown",
   "metadata": {},
   "source": [
    "Guardar el modelo"
   ]
  },
  {
   "cell_type": "code",
   "execution_count": 7,
   "metadata": {},
   "outputs": [
    {
     "name": "stderr",
     "output_type": "stream",
     "text": [
      "WARNING:absl:You are saving your model as an HDF5 file via `model.save()` or `keras.saving.save_model(model)`. This file format is considered legacy. We recommend using instead the native Keras format, e.g. `model.save('my_model.keras')` or `keras.saving.save_model(model, 'my_model.keras')`. \n"
     ]
    }
   ],
   "source": [
    "# Guardar el modelo entrenado en un archivo\n",
    "model.save('cnn_trained_model.h5')"
   ]
  },
  {
   "cell_type": "markdown",
   "metadata": {},
   "source": [
    "Predicción dada una frase"
   ]
  },
  {
   "cell_type": "code",
   "execution_count": 11,
   "metadata": {},
   "outputs": [],
   "source": [
    "import numpy as np\n",
    "import torch\n",
    "from transformers import AutoTokenizer, AutoModel\n",
    "import tensorflow as tf\n",
    "\n",
    "# Cargar el tokenizador y el modelo de cardiffnlp/twitter-roberta-base\n",
    "tokenizer = AutoTokenizer.from_pretrained(\"cardiffnlp/twitter-roberta-base\")\n",
    "model_roberta = AutoModel.from_pretrained(\"cardiffnlp/twitter-roberta-base\")\n",
    "\n",
    "# Función para obtener el embedding de un texto\n",
    "def get_embedding(text):\n",
    "    inputs = tokenizer(text, return_tensors=\"pt\", truncation=True, padding=True, max_length=512)\n",
    "    with torch.no_grad():\n",
    "        outputs = model_roberta(**inputs)\n",
    "    embedding = outputs.last_hidden_state.mean(dim=1).squeeze().numpy()\n",
    "    return embedding\n",
    "\n",
    "# Función para predecir si es hate speech\n",
    "def predict_hate_speech(text, model):\n",
    "    # Obtener el embedding del texto\n",
    "    embedding = get_embedding(text)\n",
    "    \n",
    "    # Redimensionar el embedding para que tenga la forma adecuada\n",
    "    embedding = embedding.reshape(1, -1)  # Forma (1, emb_size)\n",
    "    \n",
    "    # Asegurarse de que el modelo esté cargado correctamente\n",
    "    if model is None:\n",
    "        raise ValueError(\"El modelo no está cargado correctamente.\")\n",
    "    \n",
    "    # Predicción con el modelo\n",
    "    prediction = model.predict(embedding)\n",
    "    \n",
    "    # Clasificación: 0 = no hate speech, 1 = hate speech\n",
    "    if prediction > 0.5:\n",
    "        return \"Hate Speech\"\n",
    "    else:\n",
    "        return \"No Hate Speech\""
   ]
  },
  {
   "cell_type": "code",
   "execution_count": 19,
   "metadata": {},
   "outputs": [
    {
     "name": "stderr",
     "output_type": "stream",
     "text": [
      "WARNING:absl:Compiled the loaded model, but the compiled metrics have yet to be built. `model.compile_metrics` will be empty until you train or evaluate the model.\n"
     ]
    },
    {
     "name": "stdout",
     "output_type": "stream",
     "text": [
      "\u001b[1m1/1\u001b[0m \u001b[32m━━━━━━━━━━━━━━━━━━━━\u001b[0m\u001b[37m\u001b[0m \u001b[1m0s\u001b[0m 56ms/step\n",
      "Predicción: Hate Speech\n"
     ]
    }
   ],
   "source": [
    "# Cargar el modelo previamente entrenado\n",
    "model = tf.keras.models.load_model('cnn_trained_model.h5')  # Asegúrate de tener el modelo entrenado cargado\n",
    "# Test de predicción\n",
    "text = \"bitch eat shit all day\"  # Texto de ejemplo\n",
    "result = predict_hate_speech(text, model)\n",
    "print(f\"Predicción: {result}\")\n"
   ]
  }
 ],
 "metadata": {
  "colab": {
   "provenance": []
  },
  "kernelspec": {
   "display_name": "Python 3",
   "language": "python",
   "name": "python3"
  },
  "language_info": {
   "codemirror_mode": {
    "name": "ipython",
    "version": 3
   },
   "file_extension": ".py",
   "mimetype": "text/x-python",
   "name": "python",
   "nbconvert_exporter": "python",
   "pygments_lexer": "ipython3",
   "version": "3.9.6"
  }
 },
 "nbformat": 4,
 "nbformat_minor": 4
}
