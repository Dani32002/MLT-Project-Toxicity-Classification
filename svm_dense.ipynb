{
 "cells": [
  {
   "cell_type": "markdown",
   "id": "a11ca7d6",
   "metadata": {},
   "source": [
    "# SVM - Red Neuronal Densa"
   ]
  },
  {
   "cell_type": "markdown",
   "id": "14b63984",
   "metadata": {},
   "source": [
    "## SVM\n"
   ]
  },
  {
   "cell_type": "code",
   "execution_count": 1,
   "id": "55b79a7d",
   "metadata": {},
   "outputs": [],
   "source": [
    "from sklearn.svm import SVC\n",
    "from sklearn.preprocessing import StandardScaler\n",
    "from sklearn.decomposition import PCA\n",
    "from sklearn.pipeline import Pipeline\n",
    "from sklearn.metrics import classification_report, confusion_matrix\n",
    "from sklearn.model_selection import train_test_split\n",
    "from sklearn.model_selection import GridSearchCV\n",
    "import pandas as pd\n",
    "import numpy as np\n",
    "import ast\n",
    "import seaborn as sns\n",
    "import matplotlib.pyplot as plt"
   ]
  },
  {
   "cell_type": "code",
   "execution_count": 21,
   "id": "bd14e410",
   "metadata": {},
   "outputs": [],
   "source": [
    "data = pd.read_csv(\"embeddings_data.csv\")"
   ]
  },
  {
   "cell_type": "code",
   "execution_count": 22,
   "id": "330f2949",
   "metadata": {},
   "outputs": [],
   "source": [
    "X = np.vstack([np.array(ast.literal_eval(vec), dtype=float) for vec in data[\"embedding_cls\"]])\n",
    "y = data[\"class\"].values"
   ]
  },
  {
   "cell_type": "code",
   "execution_count": 23,
   "id": "f0c8567b",
   "metadata": {},
   "outputs": [],
   "source": [
    "X_train, X_test, y_train, y_test = train_test_split(X, y, test_size=0.2, random_state=611, shuffle = True)"
   ]
  },
  {
   "cell_type": "code",
   "execution_count": 24,
   "id": "f6f4f979",
   "metadata": {},
   "outputs": [],
   "source": [
    "pipeline_svc = Pipeline([\n",
    "    ('scaler', StandardScaler()),\n",
    "    ('pca', PCA(n_components=0.95)),\n",
    "    ('svc', SVC(kernel='linear',probability=True))\n",
    "])"
   ]
  },
  {
   "cell_type": "code",
   "execution_count": 32,
   "id": "5f6274b2",
   "metadata": {},
   "outputs": [],
   "source": [
    "param_grid = {\n",
    "    'svc__kernel': ['linear', 'poly', 'rbf', 'sigmoid'],\n",
    "    'svc__C': [0.01, 0.1, 1]\n",
    "}\n",
    "\n",
    "grid_search = GridSearchCV(pipeline_svc, param_grid=param_grid, scoring='accuracy', cv=3, verbose=2, n_jobs=2) "
   ]
  },
  {
   "cell_type": "code",
   "execution_count": 33,
   "id": "b4026e42",
   "metadata": {},
   "outputs": [
    {
     "name": "stdout",
     "output_type": "stream",
     "text": [
      "Fitting 3 folds for each of 12 candidates, totalling 36 fits\n"
     ]
    }
   ],
   "source": [
    "grid_search.fit(X_train[:10000], y_train[:10000])\n",
    "best_model = grid_search.best_estimator_"
   ]
  },
  {
   "cell_type": "code",
   "execution_count": 34,
   "id": "d2fd3973",
   "metadata": {},
   "outputs": [],
   "source": [
    "best_params = grid_search.best_params_"
   ]
  },
  {
   "cell_type": "code",
   "execution_count": 35,
   "id": "8e0de282-5751-43b4-a090-fd2f5ebc3538",
   "metadata": {},
   "outputs": [
    {
     "data": {
      "text/plain": [
       "{'svc__C': 1, 'svc__kernel': 'rbf'}"
      ]
     },
     "execution_count": 35,
     "metadata": {},
     "output_type": "execute_result"
    }
   ],
   "source": [
    "best_params"
   ]
  },
  {
   "cell_type": "code",
   "execution_count": 36,
   "id": "08c8d5af",
   "metadata": {},
   "outputs": [],
   "source": [
    "best_score = grid_search.best_score_"
   ]
  },
  {
   "cell_type": "code",
   "execution_count": 37,
   "id": "c4f5087e-554a-4f8d-ad18-764ec659d508",
   "metadata": {},
   "outputs": [
    {
     "data": {
      "text/plain": [
       "0.8667997273632583"
      ]
     },
     "execution_count": 37,
     "metadata": {},
     "output_type": "execute_result"
    }
   ],
   "source": [
    "best_score"
   ]
  },
  {
   "cell_type": "code",
   "execution_count": 38,
   "id": "c394cb71",
   "metadata": {},
   "outputs": [
    {
     "name": "stdout",
     "output_type": "stream",
     "text": [
      "              precision    recall  f1-score   support\n",
      "\n",
      "           0       0.83      0.91      0.87      4626\n",
      "           1       0.91      0.83      0.86      4912\n",
      "\n",
      "    accuracy                           0.87      9538\n",
      "   macro avg       0.87      0.87      0.87      9538\n",
      "weighted avg       0.87      0.87      0.87      9538\n",
      "\n"
     ]
    },
    {
     "data": {
      "image/png": "[encoded data removed]",
      "text/plain": [
       "<Figure size 640x480 with 2 Axes>"
      ]
     },
     "metadata": {},
     "output_type": "display_data"
    }
   ],
   "source": [
    "y_pred = best_model.predict(X_test)\n",
    "\n",
    "print(classification_report(y_test, y_pred))\n",
    "\n",
    "conf_matrix = confusion_matrix(y_test, y_pred)\n",
    "\n",
    "sns.heatmap(conf_matrix, xticklabels = [\"0\", \"1\"], yticklabels = [\"0\", \"1\"], annot=True, cmap='Blues', fmt = 'g')\n",
    "plt.ylabel(\"Real\")\n",
    "plt.xlabel(\"Predicción\")\n",
    "plt.show()"
   ]
  },
  {
   "cell_type": "markdown",
   "id": "1fc9b9ef",
   "metadata": {},
   "source": [
    "# Red Neuronal Densa"
   ]
  },
  {
   "cell_type": "code",
   "execution_count": 13,
   "id": "1077c1a8",
   "metadata": {},
   "outputs": [],
   "source": [
    "from tensorflow.keras.models import Sequential\n",
    "from tensorflow.keras.layers import Dense, Dropout, Input\n",
    "from tensorflow.keras import regularizers\n",
    "from sklearn.model_selection import KFold\n",
    "from tensorflow.keras import backend as K"
   ]
  },
  {
   "cell_type": "code",
   "execution_count": 4,
   "id": "7d7984d6",
   "metadata": {},
   "outputs": [],
   "source": [
    "data = pd.read_csv(\"./embeddings_data.csv\")"
   ]
  },
  {
   "cell_type": "code",
   "execution_count": 5,
   "id": "06ff9adf",
   "metadata": {},
   "outputs": [],
   "source": [
    "X = np.vstack([np.array(ast.literal_eval(vec), dtype=float) for vec in data[\"embedding_cls\"]])\n",
    "y = data[\"class\"].values"
   ]
  },
  {
   "cell_type": "code",
   "execution_count": 8,
   "id": "b936d7c4",
   "metadata": {},
   "outputs": [],
   "source": [
    "X_temp, X_test, y_temp, y_test = train_test_split(X, y, test_size=0.2, random_state=31, stratify=y)\n",
    "X_train, X_val, y_train, y_val = train_test_split(X_temp, y_temp, test_size=0.2, random_state=31, stratify=y_temp)"
   ]
  },
  {
   "cell_type": "code",
   "execution_count": 11,
   "id": "5283738e",
   "metadata": {},
   "outputs": [],
   "source": [
    "def build_model(n_hidden_layers=1, n_neurons=128, input_dim=None):\n",
    "    model = Sequential()\n",
    "    model.add(Input(shape=(input_dim,)))\n",
    "    current_neurons = n_neurons\n",
    "    for _ in range(n_hidden_layers):\n",
    "        model.add(Dense(current_neurons, activation='relu', kernel_regularizer=regularizers.l2(0.001)))\n",
    "        model.add(Dropout(0.3))\n",
    "        current_neurons = max(8, current_neurons // 2)\n",
    "    model.add(Dense(1, activation='sigmoid'))\n",
    "    model.compile(optimizer='adam', loss='binary_crossentropy', metrics=['accuracy'])\n",
    "    return model"
   ]
  },
  {
   "cell_type": "code",
   "execution_count": 17,
   "id": "99b9fd23",
   "metadata": {},
   "outputs": [
    {
     "name": "stdout",
     "output_type": "stream",
     "text": [
      "\n",
      " Evaluando: capas=1, neuronas=32\n",
      "Promedio val_accuracy: 0.8556\n",
      "\n",
      " Evaluando: capas=1, neuronas=64\n",
      "Promedio val_accuracy: 0.8564\n",
      "\n",
      " Evaluando: capas=1, neuronas=128\n",
      "Promedio val_accuracy: 0.8550\n",
      "\n",
      " Evaluando: capas=2, neuronas=32\n",
      "Promedio val_accuracy: 0.8601\n",
      "\n",
      " Evaluando: capas=2, neuronas=64\n",
      "Promedio val_accuracy: 0.8549\n",
      "\n",
      " Evaluando: capas=2, neuronas=128\n"
     ]
    },
    {
     "name": "stderr",
     "output_type": "stream",
     "text": [
      "2025-05-18 23:52:46.579160: I external/local_xla/xla/stream_executor/cuda/subprocess_compilation.cc:346] ptxas warning : Registers are spilled to local memory in function 'gemm_fusion_dot_51', 12 bytes spill stores, 12 bytes spill loads\n",
      "\n",
      "2025-05-18 23:52:46.605705: I external/local_xla/xla/stream_executor/cuda/subprocess_compilation.cc:346] ptxas warning : Registers are spilled to local memory in function 'gemm_fusion_dot_51', 4 bytes spill stores, 4 bytes spill loads\n",
      "\n",
      "2025-05-18 23:52:47.338984: I external/local_xla/xla/stream_executor/cuda/subprocess_compilation.cc:346] ptxas warning : Registers are spilled to local memory in function 'gemm_fusion_dot_51', 4 bytes spill stores, 4 bytes spill loads\n",
      "\n",
      "2025-05-18 23:52:47.371002: I external/local_xla/xla/stream_executor/cuda/subprocess_compilation.cc:346] ptxas warning : Registers are spilled to local memory in function 'gemm_fusion_dot_51', 12 bytes spill stores, 12 bytes spill loads\n",
      "\n",
      "2025-05-18 23:53:11.897934: I external/local_xla/xla/stream_executor/cuda/subprocess_compilation.cc:346] ptxas warning : Registers are spilled to local memory in function 'gemm_fusion_dot_51', 4 bytes spill stores, 4 bytes spill loads\n",
      "\n",
      "2025-05-18 23:53:11.915620: I external/local_xla/xla/stream_executor/cuda/subprocess_compilation.cc:346] ptxas warning : Registers are spilled to local memory in function 'gemm_fusion_dot_51', 12 bytes spill stores, 12 bytes spill loads\n",
      "\n"
     ]
    },
    {
     "name": "stdout",
     "output_type": "stream",
     "text": [
      "Promedio val_accuracy: 0.8554\n",
      "\n",
      " Evaluando: capas=3, neuronas=32\n",
      "Promedio val_accuracy: 0.8567\n",
      "\n",
      " Evaluando: capas=3, neuronas=64\n",
      "Promedio val_accuracy: 0.8510\n",
      "\n",
      " Evaluando: capas=3, neuronas=128\n",
      "Promedio val_accuracy: 0.8554\n",
      "\n",
      " Mejor combinación: capas=2, neuronas=32\n"
     ]
    }
   ],
   "source": [
    "param_grid = {\n",
    "    \"n_hidden_layers\": [1, 2, 3],\n",
    "    \"n_neurons\": [32, 64, 128]\n",
    "}\n",
    "\n",
    "kfold = KFold(n_splits=3, shuffle=True, random_state=42)\n",
    "\n",
    "best_params = None\n",
    "best_score = 0\n",
    "best_model = None\n",
    "best_history = None\n",
    "\n",
    "# Grid search manual \n",
    "for layers in param_grid[\"n_hidden_layers\"]:\n",
    "    for neurons in param_grid[\"n_neurons\"]:\n",
    "        fold_scores = []\n",
    "        print(f\"\\n Evaluando: capas={layers}, neuronas={neurons}\")\n",
    "        \n",
    "        for train_idx, val_idx in kfold.split(X):\n",
    "            X_train, X_val = X[train_idx], X[val_idx]\n",
    "            y_train, y_val = y[train_idx], y[val_idx]\n",
    "\n",
    "            K.clear_session()\n",
    "            model = build_model(n_hidden_layers=layers, n_neurons=neurons, input_dim=X.shape[1])\n",
    "            history = model.fit(X_train, y_train,\n",
    "                                validation_data=(X_val, y_val),\n",
    "                                epochs=10,\n",
    "                                batch_size=32,\n",
    "                                verbose=0)\n",
    "            \n",
    "            acc = history.history[\"val_accuracy\"][-1]\n",
    "            fold_scores.append(acc)\n",
    "        \n",
    "        mean_acc = np.mean(fold_scores)\n",
    "        print(f\"Promedio val_accuracy: {mean_acc:.4f}\")\n",
    "        \n",
    "        if mean_acc > best_score:\n",
    "            best_score = mean_acc\n",
    "            best_params = (layers, neurons)\n",
    "\n",
    "print(f\"\\n Mejor combinación: capas={best_params[0]}, neuronas={best_params[1]}\")\n",
    "\n"
   ]
  },
  {
   "cell_type": "code",
   "execution_count": 18,
   "id": "28fc1102-101a-4334-83fb-80ebb4d20815",
   "metadata": {},
   "outputs": [
    {
     "data": {
      "image/png": "[encoded data removed]",
      "text/plain": [
       "<Figure size 640x480 with 1 Axes>"
      ]
     },
     "metadata": {},
     "output_type": "display_data"
    }
   ],
   "source": [
    "model = build_model(n_hidden_layers=best_params[0], n_neurons=best_params[1], input_dim=X.shape[1])\n",
    "best_history = model.fit(X_train[:10000], y_train[:10000], validation_split=0.2, epochs=20, batch_size=32, verbose=0)\n",
    "best_model = model\n",
    "\n",
    "\n",
    "plt.plot(best_history.history['accuracy'], label='Train Accuracy')\n",
    "plt.plot(best_history.history['val_accuracy'], label='Val Accuracy')\n",
    "plt.xlabel('Epochs')\n",
    "plt.ylabel('Accuracy')\n",
    "plt.legend()\n",
    "plt.title('Mejor modelo: evolución de accuracy')\n",
    "plt.show()\n"
   ]
  },
  {
   "cell_type": "code",
   "execution_count": 20,
   "id": "8cef97bd",
   "metadata": {},
   "outputs": [
    {
     "name": "stdout",
     "output_type": "stream",
     "text": [
      "\u001b[1m299/299\u001b[0m \u001b[32m━━━━━━━━━━━━━━━━━━━━\u001b[0m\u001b[37m\u001b[0m \u001b[1m0s\u001b[0m 473us/step\n",
      "              precision    recall  f1-score   support\n",
      "\n",
      "           0       0.87      0.68      0.76      4669\n",
      "           1       0.74      0.90      0.82      4869\n",
      "\n",
      "    accuracy                           0.79      9538\n",
      "   macro avg       0.81      0.79      0.79      9538\n",
      "weighted avg       0.81      0.79      0.79      9538\n",
      "\n"
     ]
    },
    {
     "data": {
      "image/png": "[encoded data removed]",
      "text/plain": [
       "<Figure size 640x480 with 2 Axes>"
      ]
     },
     "metadata": {},
     "output_type": "display_data"
    }
   ],
   "source": [
    "y_pred = best_model.predict(X_test)\n",
    "y_pred = (y_pred > 0.5).astype(int)\n",
    "\n",
    "print(classification_report(y_test, y_pred))\n",
    "\n",
    "conf_matrix = confusion_matrix(y_test, y_pred)\n",
    "\n",
    "sns.heatmap(conf_matrix, xticklabels = [\"0\", \"1\"], yticklabels = [\"0\", \"1\"], annot=True, cmap='Blues', fmt = 'g')\n",
    "plt.ylabel(\"Real\")\n",
    "plt.xlabel(\"Predicción\")\n",
    "plt.show()"
   ]
  }
 ],
 "metadata": {
  "kernelspec": {
   "display_name": "Python 3 (ipykernel)",
   "language": "python",
   "name": "python3"
  },
  "language_info": {
   "codemirror_mode": {
    "name": "ipython",
    "version": 3
   },
   "file_extension": ".py",
   "mimetype": "text/x-python",
   "name": "python",
   "nbconvert_exporter": "python",
   "pygments_lexer": "ipython3",
   "version": "3.10.12"
  }
 },
 "nbformat": 4,
 "nbformat_minor": 5
}
